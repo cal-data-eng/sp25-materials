{
 "cells": [
  {
   "cell_type": "raw",
   "metadata": {
    "vscode": {
     "languageId": "raw"
    }
   },
   "source": [
    "# ASSIGNMENT CONFIG\n",
    "check_all_cell: true\n",
    "export_cell:\n",
    "    pdf: false\n",
    "    run_tests: false\n",
    "    files: ['results.zip']\n",
    "files:\n",
    "    - data/billboard.zip\n",
    "    - data101_utils.py\n",
    "generate:\n",
    "    show_hidden: true\n",
    "    filtering: true\n",
    "    pagebreaks: true\n",
    "    seed: 42\n",
    "    token: VMy2l6HQ5ca9qO2uxfLbLg\n",
    "    course_id: 835949\n",
    "    assignment_id: 4822851\n",
    "    filtering: true\n",
    "requirements: ../../requirements.txt\n",
    "overwrite_requirements: true\n",
    "run_tests: false # Change to true to run tests locally.\n",
    "template_pdf: false\n",
    "solutions_pdf: false\n",
    "python_version: 3.11"
   ]
  },
  {
   "cell_type": "markdown",
   "metadata": {},
   "source": [
    "# Project 0 - SQL Review -- Music Querying\n",
    "## Due Date: Wednesday, February 5th, 5:00pm\n",
    "\n",
    "In this project, we will be working with SQL on a Billboard Music database."
   ]
  },
  {
   "cell_type": "markdown",
   "metadata": {},
   "source": [
    "## Collaboration Policy\n",
    "Please read out [course collaboration policy](https://data101.org/fa24/syllabus/#collaboration-and-integrity). Do not share code. If you discuss the assignments with others, please include their names below.\n",
    "\n",
    "**Collaborators**: _list collaborators here_\n"
   ]
  },
  {
   "cell_type": "markdown",
   "metadata": {},
   "source": [
    "## Objectives\n",
    "\n",
    "- Review SQL syntax from prerequisite courses\n",
    "\n",
    "**Note:** If at any point during the project, the internal state of the database or its tables have been modified in an undesirable way (i.e. a modification not resulting from the instructions of a question), restart your kernel, clear output, and simply re-run the notebook as normal. This will shutdown your current connection to the database, which will prevent the issue of multiple connections to the database at any given point. When re-running the notebook, you will create a fresh database based on the provided Postgres dump.\n",
    "\n",
    "If you face slow kernel times or are unable to open your notebook, restart your server by going to File -> Hub Control Panel -> Stop My Server and then clicking Start My Server.\n",
    "\n",
    "## Logistics & Scoring Breakdown\n",
    "\n",
    "Please read the submission instructions carefully and double check that your submission is not throwing any errors. Please ensure that public tests pass upon submission. It is your responsibility to wait until the autograder finishes running. We will not be accepting regrade requests for submission issues.\n",
    "\n",
    "Each coding question has **both public tests and hidden tests**. Roughly 50% of your coding grade will be made up of your score on the public tests released to you, while the remaining 50% will be made up of unreleased hidden tests. If there are free-response questions (marked 'm' in the table below), they are manually graded.\n",
    "\n",
    "This is an **individual project**. However, you’re welcome to collaborate with any other student in the class as long as it’s within the academic honesty guidelines.\n",
    "\n",
    "|Question|Points|\n",
    "|---|---|\n",
    "|0|3|\n",
    "|1|3|\n",
    "|2|3|\n",
    "|3|3|\n",
    "|4|3|\n",
    "|5a|3|\n",
    "|5b|3|\n",
    "|6|0|\n",
    "|**Total**|21|\n",
    "\n",
    "**Summary:** 21 points (autograded: 21, manual: 0) "
   ]
  },
  {
   "cell_type": "code",
   "execution_count": null,
   "metadata": {},
   "outputs": [],
   "source": [
    "# Run this cell to set up imports\n",
    "import numpy as np\n",
    "import pandas as pd"
   ]
  },
  {
   "cell_type": "markdown",
   "metadata": {},
   "source": [
    "<hr style=\"border: 5px solid #003262;\" />\n",
    "<hr style=\"border: 1px solid #fdb515;\" />"
   ]
  },
  {
   "cell_type": "markdown",
   "metadata": {},
   "source": [
    "# Before You Start\n",
    "\n",
    "## Assignment Tips\n",
    "We recommend you read through <a href=\"https://data101.org/sp25/assignment-tips/\">Spring 2025 Assignment Tips</a>—a handy resource that has many other tips that we **highly recommend** taking a moment to read through to save you time and improve your workflow.\n",
    "\n",
    "* PostgreSQL documentation\n",
    "* Jupyter cell magic\n",
    "* JupySQL and magic commands in Jupyter\n",
    "* JupyterHub keyboard shortcuts\n",
    "* psql and common meta-commands (not required for Proj 0)\n",
    "* Debugging:\n",
    "    * Where to create new cells to play nice with the autograder\n",
    "    * Opening/closing connections, deleting databases if all else fails\n",
    "* Local installation (not supported by staff officially, but for your reference)\n",
    "\n",
    "## Table of Contents\n",
    "Jump to different parts of this notebook:\n",
    "* [Before You Start](#Before-You-Start): This section\n",
    "* [Setup](#Setup): Database Setup, Grader Setup (make sure to run these cells)\n",
    "* [The `billboard` Database](#The-billboard-Database): Information about this project's database schema, plus optional features for you to explore\n",
    "* [Question 0](#q0): The first assignment question\n"
   ]
  },
  {
   "cell_type": "markdown",
   "metadata": {},
   "source": [
    "<hr style=\"border: 5px solid #003262;\" />\n",
    "<hr style=\"border: 1px solid #fdb515;\" />\n",
    "\n",
    "# Setup\n",
    "\n",
    "## Database Setup\n",
    "We are going to be using the `JupySQL` library to connect our notebook to a PostgreSQL database server on your JupyterHub account. Running the next cell will do so; you should not see any error messages after it executes."
   ]
  },
  {
   "cell_type": "code",
   "execution_count": null,
   "metadata": {},
   "outputs": [],
   "source": [
    "# The first time you are running this cell, you may need to run the following line as: %load_ext sql\n",
    "%reload_ext sql"
   ]
  },
  {
   "cell_type": "markdown",
   "metadata": {},
   "source": [
    "In the next cell, we will unzip the data. This only needs to be done once."
   ]
  },
  {
   "cell_type": "code",
   "execution_count": null,
   "metadata": {},
   "outputs": [],
   "source": [
    "!unzip -uo data/billboard.zip -d data/"
   ]
  },
  {
   "cell_type": "markdown",
   "metadata": {},
   "source": [
    "<br/>\n",
    "\n",
    "**Create the `billboard` database**: <br>\n",
    "We will use PostgreSQL commands to create a database and import our data into it. Run the following cell to do this. It may take a few seconds.\n",
    "\n",
    "* You can also run these cells in the command-line via `psql`.\n",
    "* If you run into the **role does not exist** error, feel free to ignore it. It does not affect data import."
   ]
  },
  {
   "cell_type": "code",
   "execution_count": null,
   "metadata": {
    "scrolled": true
   },
   "outputs": [],
   "source": [
    "!psql postgresql://localhost/billboard -c 'SELECT pg_terminate_backend(pg_stat_activity.pid) FROM pg_stat_activity WHERE datname = current_database()  AND pid <> pg_backend_pid();'\n",
    "!psql postgresql://localhost/postgres -c 'DROP DATABASE IF EXISTS billboard'\n",
    "!psql postgresql://localhost/postgres -c 'CREATE DATABASE billboard'\n",
    "!psql postgresql://localhost/billboard -f data/billboard.sql -q"
   ]
  },
  {
   "cell_type": "markdown",
   "metadata": {},
   "source": [
    "**Connect to `billboard` database in the Notebook**: \n",
    "<br>\n",
    "Now let's connect to the new database we just created! There should be no errors after running the following cell."
   ]
  },
  {
   "cell_type": "code",
   "execution_count": null,
   "metadata": {},
   "outputs": [],
   "source": [
    "%sql postgresql://localhost/billboard"
   ]
  },
  {
   "cell_type": "markdown",
   "metadata": {},
   "source": [
    "Assuming the previous command doesn't show an error, this will use the current connection to show all tables in the `billboard` database."
   ]
  },
  {
   "cell_type": "code",
   "execution_count": null,
   "metadata": {},
   "outputs": [],
   "source": [
    "%sqlcmd tables"
   ]
  },
  {
   "cell_type": "markdown",
   "metadata": {},
   "source": [
    "---\n",
    "\n",
    "**Quick check**: To make sure things are working, let's fetch 10 rows from one of our tables `tiktok_top_50`. Just run the following cells. If there are no errors, no further action is needed."
   ]
  },
  {
   "cell_type": "code",
   "execution_count": null,
   "metadata": {},
   "outputs": [],
   "source": [
    "%%sql\n",
    "SELECT * FROM tiktok_top_50 LIMIT 10;"
   ]
  },
  {
   "cell_type": "markdown",
   "metadata": {},
   "source": [
    "## Grader Setup"
   ]
  },
  {
   "cell_type": "code",
   "execution_count": null,
   "metadata": {},
   "outputs": [],
   "source": [
    "# Connecting the grader\n",
    "# Just run the following cell, no further action is needed.\n",
    "from data101_utils import GradingUtil\n",
    "grading_util = GradingUtil(\"proj0\")\n",
    "grading_util.prepare_autograder()"
   ]
  },
  {
   "cell_type": "markdown",
   "metadata": {},
   "source": [
    "<hr style=\"border: 5px solid #003262;\" />\n",
    "<hr style=\"border: 1px solid #fdb515;\" />\n",
    "\n",
    "\n",
    "# The `billboard` Database\n",
    "\n",
    "[Billboard](https://www.billboard.com) is a music industry publication which tracks the sales and distribution of music across many genres. Each week, they publish “charts” which aggregate the total sales, streams (e.g. via Spotify, Apple Music, or YouTube) as well as radio airplay in the US.\n",
    " \n",
    "The most (in)famous chart is the [Billboard Hot 100](https://www.billboard.com/charts/hot-100/), widely regarded as the list of most popular songs in the US. For this assignment, you’ll be looking at data from the Hot 100 list, primarily in recent years — though the database we’ve provided to you goes all the way back to 1958! \n",
    "\n",
    "Later questions will involve `JOIN`ing with data from the [Billboard TikTok Top 50](https://www.billboard.com/charts/tiktok-billboard-top-50/), a list of the songs that are the most popular on TikTok, factoring in views and user engagement.\n",
    "\n",
    "Below is a list of the relations (tables) in our database. \n",
    "- **hot_100**: Metadata for songs in the Billboard Hot 100\n",
    "- **tiktok_top_50**: Metadata for songs in the Billboard TikTok Top 50"
   ]
  },
  {
   "cell_type": "markdown",
   "metadata": {},
   "source": [
    "<br/><br/><br/>\n",
    "\n",
    "<hr style=\"border: 1px solid #fdb515;\" />\n",
    "\n",
    "## Data Schema"
   ]
  },
  {
   "cell_type": "markdown",
   "metadata": {},
   "source": [
    "When approaching a new database, one of the most important things to do is understand the database schema. Remember that a database is a set of tables, which each contain their own schema. For this assignment, both the `hot_100` and `tiktok_top_50` tables contain the following schema.\n",
    "\n",
    "```\n",
    "CREATE TABLE hot_100 (\n",
    "    week_ending TEXT,\n",
    "    rank INTEGER,\n",
    "    title TEXT,\n",
    "    artist TEXT, \n",
    "    image_url TEXT,\n",
    "    peak_position INTEGER,\n",
    "    weeks_on_chart INTEGER,\n",
    "    UNIQUE (week_ending, rank)\n",
    ");\n",
    "```\n",
    "\n",
    "- `week_ending`: The week that \"chart\" was published, as a `YYYY-MM-DD` string\n",
    "- `rank`: The track's current position on the chart. (A rank of 1 is better than a rank of 10.)\n",
    "- `title`: Track's title\n",
    "- `artist`: Track's artist\n",
    "- `image_url`: Image URL of the track's album cover\n",
    "- `peak_position`: The track's peak position on the chart as of the chart date\n",
    "- `weeks_on_chart`: The number of weeks the track has been or was on the chart up until that point\n",
    "\n",
    "**Note:** In the case of Billboard charts, a song (or album's) `peak_position` is based on the idea that being #1 is the 'best'. Therefore, a _smaller_ value for `peak_position` is better. \n",
    "\n",
    "_An aside_: ⏰ We've decided to use a `TEXT` data type for the `week_ending` date. Later we'll explore the `date` type. However, we can perform ordered comparisions on these strings, since '2024-01-01' comes before '2024-01-02' lexicographically. "
   ]
  },
  {
   "cell_type": "markdown",
   "metadata": {},
   "source": [
    "<br/><br/><br/>\n",
    "\n",
    "<hr style=\"border: 1px solid #fdb515;\" />\n",
    "\n",
    "## Optional Fun"
   ]
  },
  {
   "cell_type": "markdown",
   "metadata": {},
   "source": [
    "Call the `display_query` function passing in your SQL query result to view the results with a table that links to Apple Music and Spotify. An example usage of the `display_query` function can be found at the end of Question 0."
   ]
  },
  {
   "cell_type": "code",
   "execution_count": null,
   "metadata": {},
   "outputs": [],
   "source": [
    "# Some utilities to make exploration easier.\n",
    "# NOTE: Make sure to write display_query(...);\n",
    "# Use the ; to supress the notebook's default output.\n",
    "\n",
    "# Common Configuration\n",
    "DISPLAY_ALBUM_ART = False\n",
    "IMAGE_SIZE = '50px' # Adjust to change the size of album art.\n",
    "MAX_ROWS = 250\n",
    "\n",
    "import urllib.parse\n",
    "from IPython.display import display, HTML\n",
    "\n",
    "# Adjust pandas display options to better handle large DataFrames\n",
    "# Note: These settings do not apply when calling `df.to_html`\n",
    "pd.set_option('display.max_rows', 500) # Adjust as needed\n",
    "pd.set_option('display.max_seq_items', 250)\n",
    "pd.set_option('display.max_columns', None) # Show all columns\n",
    "pd.set_option('display.colheader_justify', 'left')\n",
    "\n",
    "spotify_url = 'https://play.spotify.com/search/'\n",
    "apple_music_url = 'https://music.apple.com/us/search?term='\n",
    "\n",
    "# You probably don't need this function but you can use it make \"fancy\"\n",
    "# datatables which are sortable and searchable. (But then can be a little slow to load.)\n",
    "def html_datatable(html):\n",
    "    return display(HTML(f\"\"\"\n",
    "    <link rel=\"stylesheet\" type=\"text/css\" href=\"https://cdn.datatables.net/1.10.21/css/jquery.dataTables.css\">\n",
    "    <script type=\"text/javascript\" charset=\"utf8\" src=\"https://code.jquery.com/jquery-3.5.1.js\"></script>\n",
    "    <script type=\"text/javascript\" charset=\"utf8\" src=\"https://cdn.datatables.net/1.10.21/js/jquery.dataTables.js\"></script>\n",
    "    <script>\n",
    "    $(document).ready(function() {{\n",
    "        $('table.display').DataTable();\n",
    "    }});\n",
    "    </script>\n",
    "    <div>{html}</div>\n",
    "    \"\"\"))\n",
    "\n",
    "def basic_table(html):\n",
    "    return display(HTML(f\"\"\"\n",
    "    <div style=\"height: 300px; overflow-y: scroll; border: 1px solid #ccc;\">\n",
    "        {html}\n",
    "    </div>\n",
    "    \"\"\"))\n",
    "\n",
    "def display_query(result, show_search=True):\n",
    "    \"\"\"\n",
    "    A fairly basic df to HTML-table display utilitiy.\n",
    "    Includes the ability to give links to Spotify/Apple Music for easy exploring and maximal time wastage.\n",
    "    \"\"\"\n",
    "    song_query = lambda row: urllib.parse.quote(row.get(\"title\", '') + \" \" + row.get(\"artist\", ''))\n",
    "    format_link = lambda col_name: lambda cell: f'<a href=\"{cell}\" target=\"_blank\">{col_name}</a>'\n",
    "    formatters = {\n",
    "        'image_url': lambda image_url: f'<img src=\"{image_url}\" alt=\"Song Cover Art\" style=\"height: {IMAGE_SIZE}; width: auto; max-height: 100%;\">',\n",
    "        'spotify': format_link('Spotify'),\n",
    "        'apple': format_link('Apple Music'),\n",
    "    }\n",
    "\n",
    "    # Display the DataFrame as a nicely formatted table with scroll bars\n",
    "    df = result.DataFrame()\n",
    "    if show_search and ('artist' in df.columns or 'title' in df.columns):\n",
    "        df['spotify'] = df.apply(lambda row: f'{spotify_url}{song_query(row)}', axis=1)\n",
    "        df['apple'] = df.apply(lambda row: f'{apple_music_url}{song_query(row)}', axis=1)\n",
    "\n",
    "    if not DISPLAY_ALBUM_ART and 'image_url' in df.columns:\n",
    "        df = df.drop(columns='image_url')\n",
    "\n",
    "    # Convert DataFrame to HTML\n",
    "    # We must manually set out own limits!\n",
    "    html_table = df.to_html(index=True, escape=False, formatters=formatters, show_dimensions=True, max_rows=MAX_ROWS)\n",
    "\n",
    "    # Swap these two lines to see the fancy version of the output.\n",
    "    # html_datatable(html_table)\n",
    "    basic_table(html_table)\n",
    "    return df;"
   ]
  },
  {
   "cell_type": "markdown",
   "metadata": {},
   "source": [
    "<br/><br/>\n",
    "\n",
    "<hr style=\"border: 5px solid #003262;\" />\n",
    "<hr style=\"border: 1px solid #fdb515;\" />\n",
    "\n",
    "<a name=\"q0\"></a>\n",
    "\n",
    "# Question 0 — Warmup\n"
   ]
  },
  {
   "cell_type": "raw",
   "metadata": {
    "scrolled": true
   },
   "source": [
    "# BEGIN QUESTION\n",
    "name: q0\n",
    "points: 3"
   ]
  },
  {
   "cell_type": "markdown",
   "metadata": {},
   "source": [
    "This question is given to you! Verify that your table loads correctly.\n",
    "Run each of the following queries, and you should see the right output."
   ]
  },
  {
   "cell_type": "raw",
   "metadata": {},
   "source": [
    "# BEGIN SOLUTION"
   ]
  },
  {
   "cell_type": "markdown",
   "metadata": {},
   "source": [
    "Check the number of rows in **hot_100**."
   ]
  },
  {
   "cell_type": "code",
   "execution_count": null,
   "metadata": {},
   "outputs": [],
   "source": [
    "%%sql --save query_0_0 result_0_0 <<\n",
    "SELECT COUNT(*) FROM hot_100"
   ]
  },
  {
   "cell_type": "code",
   "execution_count": null,
   "metadata": {},
   "outputs": [],
   "source": [
    "# Do not delete/edit this cell!\n",
    "# You must run this cell before running the autograder.\n",
    "query_0_0 = %sqlcmd snippets query_0_0\n",
    "grading_util.save_results(\"result_0_0\", query_0_0, result_0_0)\n",
    "result_0_0"
   ]
  },
  {
   "cell_type": "markdown",
   "metadata": {},
   "source": [
    "Return the first 25 rows of **hot_100**."
   ]
  },
  {
   "cell_type": "code",
   "execution_count": null,
   "metadata": {},
   "outputs": [],
   "source": [
    "%%sql --save query_0_1 result_0_1 <<\n",
    "SELECT * FROM hot_100 LIMIT 25"
   ]
  },
  {
   "cell_type": "code",
   "execution_count": null,
   "metadata": {},
   "outputs": [],
   "source": [
    "# Do not delete/edit this cell!\n",
    "# You must run this cell before running the autograder.\n",
    "query_0_1 = %sqlcmd snippets query_0_1\n",
    "grading_util.save_results(\"result_0_1\", query_0_1, result_0_1)\n",
    "result_0_1"
   ]
  },
  {
   "cell_type": "code",
   "execution_count": null,
   "metadata": {},
   "outputs": [],
   "source": [
    "%%sql --save query_0_2 result_0_2 <<\n",
    "SELECT * FROM hot_100 ORDER BY week_ending DESC LIMIT 30"
   ]
  },
  {
   "cell_type": "code",
   "execution_count": null,
   "metadata": {
    "scrolled": true
   },
   "outputs": [],
   "source": [
    "# Do not delete/edit this cell!\n",
    "# You must run this cell before running the autograder.\n",
    "query_0_2 = %sqlcmd snippets query_0_2\n",
    "grading_util.save_results(\"result_0_2\", query_0_2, result_0_2)\n",
    "result_0_2"
   ]
  },
  {
   "cell_type": "markdown",
   "metadata": {},
   "source": [
    "**Optional**: The next code cell is an example of how to call the `display_query` function to display a table containing links to the song on Spotify and Apple Music. You can add your own code cells and call the `display_query` function (make sure to pass the new query result) if you'd like to explore! Make sure to include the `;` at the end to suppress the regular Pandas DataFrame result from displaying."
   ]
  },
  {
   "cell_type": "code",
   "execution_count": null,
   "metadata": {},
   "outputs": [],
   "source": [
    "display_query(result_0_2);"
   ]
  },
  {
   "cell_type": "raw",
   "metadata": {},
   "source": [
    "# END SOLUTION"
   ]
  },
  {
   "cell_type": "raw",
   "metadata": {},
   "source": [
    "# BEGIN TESTS"
   ]
  },
  {
   "cell_type": "code",
   "execution_count": null,
   "metadata": {},
   "outputs": [],
   "source": [
    "query_0_0, result_0_0_df = grading_util.load_results(\"result_0_0\")\n",
    "result_0_0_df.shape == (1, 1)"
   ]
  },
  {
   "cell_type": "code",
   "execution_count": null,
   "metadata": {},
   "outputs": [],
   "source": [
    "# HIDDEN\n",
    "query_0_0, result_0_0_df = grading_util.load_results(\"result_0_0\")\n",
    "result_0_0_df.iloc[0, 0] == 344458"
   ]
  },
  {
   "cell_type": "code",
   "execution_count": null,
   "metadata": {},
   "outputs": [],
   "source": [
    "query_0_1, result_0_1_df = grading_util.load_results(\"result_0_1\")\n",
    "result_0_1_df.shape == (25, 7)"
   ]
  },
  {
   "cell_type": "code",
   "execution_count": null,
   "metadata": {},
   "outputs": [],
   "source": [
    "query_0_2, result_0_2_df = grading_util.load_results(\"result_0_2\")\n",
    "result_0_2_df.shape == (30, 7)"
   ]
  },
  {
   "cell_type": "code",
   "execution_count": null,
   "metadata": {},
   "outputs": [],
   "source": [
    "query_0_2, result_0_2_df = grading_util.load_results(\"result_0_2\")\n",
    "result_0_2_df['week_ending'][0] == '2024-08-10'"
   ]
  },
  {
   "cell_type": "code",
   "execution_count": null,
   "metadata": {},
   "outputs": [],
   "source": [
    "query_0_2, result_0_2_df = grading_util.load_results(\"result_0_2\")\n",
    "result_0_2_df['rank'][0] == 100"
   ]
  },
  {
   "cell_type": "code",
   "execution_count": null,
   "metadata": {},
   "outputs": [],
   "source": [
    "query_0_2, result_0_2_df = grading_util.load_results(\"result_0_2\")\n",
    "result_0_2_df['title'][0] == 'Wanna Be Loved'"
   ]
  },
  {
   "cell_type": "code",
   "execution_count": null,
   "metadata": {},
   "outputs": [],
   "source": [
    "query_0_2, result_0_2_df = grading_util.load_results(\"result_0_2\")\n",
    "result_0_2_df['artist'][0] == 'The Red Clay Strays'"
   ]
  },
  {
   "cell_type": "code",
   "execution_count": null,
   "metadata": {},
   "outputs": [],
   "source": [
    "query_0_2, result_0_2_df = grading_util.load_results(\"result_0_2\")\n",
    "result_0_2_df['image_url'][0] == 'https://charts-static.billboard.com/img/2024/06/theredclaystrays-xuz-wannabeloved-eg6-180x180.jpg'"
   ]
  },
  {
   "cell_type": "code",
   "execution_count": null,
   "metadata": {},
   "outputs": [],
   "source": [
    "query_0_2, result_0_2_df = grading_util.load_results(\"result_0_2\")\n",
    "result_0_2_df['peak_position'][0] == 100"
   ]
  },
  {
   "cell_type": "code",
   "execution_count": null,
   "metadata": {},
   "outputs": [],
   "source": [
    "query_0_2, result_0_2_df = grading_util.load_results(\"result_0_2\")\n",
    "result_0_2_df['weeks_on_chart'][0] == 1"
   ]
  },
  {
   "cell_type": "code",
   "execution_count": null,
   "metadata": {},
   "outputs": [],
   "source": [
    "# HIDDEN\n",
    "query_0_2, result_0_2_df = grading_util.load_results(\"result_0_2\")\n",
    "result_0_2_df['image_url'][5] == 'https://charts-static.billboard.com/img/2024/03/tuckerwetmore-cvz-wineintowhiskey-n1n-180x180.jpg'"
   ]
  },
  {
   "cell_type": "raw",
   "metadata": {},
   "source": [
    "# END TESTS"
   ]
  },
  {
   "cell_type": "raw",
   "metadata": {},
   "source": [
    "# END QUESTION"
   ]
  },
  {
   "cell_type": "markdown",
   "metadata": {},
   "source": [
    "<br/><br/>\n",
    "\n",
    "<hr style=\"border: 1px solid #fdb515;\" />\n",
    "\n",
    "\n",
    "# Question 1 — Recent Hits\n"
   ]
  },
  {
   "cell_type": "raw",
   "metadata": {
    "scrolled": true
   },
   "source": [
    "# BEGIN QUESTION\n",
    "name: q1\n",
    "points: 3"
   ]
  },
  {
   "cell_type": "markdown",
   "metadata": {},
   "source": [
    "Select all song titles and artists on the Billboard Hot 100 chart in August 2024 which have ranking of 10 or better, sorted alphabetically by artist name.\n",
    "\n",
    "Notes:\n",
    "- The column `week_ending` is a **string**. it is represented `YYYY-MM-DD`. Think back to string comparisons in Data 100.  (Later in this class we will explore Postgres date types.)\n",
    "- Rank 1 is the best, so make sure you are using the right comparison operator!\n",
    "- Remember that a unique pair of song and artist can appear multiple times on the chart (for example, if the song charts for multiple weeks). Make sure your output only includes each song once."
   ]
  },
  {
   "cell_type": "raw",
   "metadata": {},
   "source": [
    "# BEGIN SOLUTION"
   ]
  },
  {
   "cell_type": "code",
   "execution_count": null,
   "metadata": {},
   "outputs": [],
   "source": [
    "%%sql --save query_1 result_1 <<\n",
    "/* # SOLUTION NO PROMPT\n",
    "# BEGIN SOLUTION\n",
    "*/\n",
    "SELECT DISTINCT\n",
    "    title,\n",
    "    artist\n",
    "FROM\n",
    "    hot_100\n",
    "WHERE\n",
    "    week_ending >= '2024-08-01' AND\n",
    "    week_ending <= '2024-08-31' AND\n",
    "    rank <= 10\n",
    "ORDER BY\n",
    "    artist\n",
    "/*\n",
    "# END SOLUTION\n",
    "*/-- # SOLUTION NO PROMPT"
   ]
  },
  {
   "cell_type": "code",
   "execution_count": null,
   "metadata": {
    "scrolled": true
   },
   "outputs": [],
   "source": [
    "# Do not delete/edit this cell!\n",
    "# You must run this cell before running the autograder.\n",
    "query_1 = %sqlcmd snippets query_1\n",
    "grading_util.save_results(\"result_1\", query_1, result_1)\n",
    "result_1"
   ]
  },
  {
   "cell_type": "code",
   "execution_count": null,
   "metadata": {},
   "outputs": [],
   "source": [
    "display_query(result_1);"
   ]
  },
  {
   "cell_type": "raw",
   "metadata": {},
   "source": [
    "# END SOLUTION"
   ]
  },
  {
   "cell_type": "raw",
   "metadata": {},
   "source": [
    "# BEGIN TESTS"
   ]
  },
  {
   "cell_type": "code",
   "execution_count": null,
   "metadata": {},
   "outputs": [],
   "source": [
    "query_1, result_1_df = grading_util.load_results(\"result_1\")\n",
    "result_1_df.shape == (11, 2)"
   ]
  },
  {
   "cell_type": "code",
   "execution_count": null,
   "metadata": {},
   "outputs": [],
   "source": [
    "query_1, result_1_df = grading_util.load_results(\"result_1\")\n",
    "result_1_df.columns == [\"title\", \"artist\"]"
   ]
  },
  {
   "cell_type": "code",
   "execution_count": null,
   "metadata": {},
   "outputs": [],
   "source": [
    "query_1, result_1_df = grading_util.load_results(\"result_1\")\n",
    "result_1_df[\"title\"][0] == \"Beautiful Things\""
   ]
  },
  {
   "cell_type": "code",
   "execution_count": null,
   "metadata": {},
   "outputs": [],
   "source": [
    "query_1, result_1_df = grading_util.load_results(\"result_1\")\n",
    "result_1_df[\"artist\"][0] == \"Benson Boone\""
   ]
  },
  {
   "cell_type": "code",
   "execution_count": null,
   "metadata": {},
   "outputs": [],
   "source": [
    "query_1, result_1_df = grading_util.load_results(\"result_1\")\n",
    "result_1_df[\"title\"][7] == \"Please Please Please\""
   ]
  },
  {
   "cell_type": "code",
   "execution_count": null,
   "metadata": {},
   "outputs": [],
   "source": [
    "query_1, result_1_df = grading_util.load_results(\"result_1\")\n",
    "result_1_df[\"artist\"][7] == \"Sabrina Carpenter\""
   ]
  },
  {
   "cell_type": "code",
   "execution_count": null,
   "metadata": {},
   "outputs": [],
   "source": [
    "# HIDDEN\n",
    "query_1, result_1_df = grading_util.load_results(\"result_1\")\n",
    "result_1_df[\"title\"]"
   ]
  },
  {
   "cell_type": "code",
   "execution_count": null,
   "metadata": {},
   "outputs": [],
   "source": [
    "# HIDDEN\n",
    "query_1, result_1_df = grading_util.load_results(\"result_1\")\n",
    "result_1_df[\"artist\"]"
   ]
  },
  {
   "cell_type": "raw",
   "metadata": {},
   "source": [
    "# END TESTS"
   ]
  },
  {
   "cell_type": "raw",
   "metadata": {},
   "source": [
    "# END QUESTION"
   ]
  },
  {
   "cell_type": "markdown",
   "metadata": {},
   "source": [
    "<br/><br/><br/>\n",
    "\n",
    "<hr style=\"border: 1px solid #fdb515;\" />\n",
    "\n",
    "# Question 2 — Longest Time Spent on the Charts\n"
   ]
  },
  {
   "cell_type": "raw",
   "metadata": {
    "scrolled": true
   },
   "source": [
    "# BEGIN QUESTION\n",
    "name: q2\n",
    "points: 3"
   ]
  },
  {
   "cell_type": "markdown",
   "metadata": {},
   "source": [
    "Find all song titles, their artist, and the total number of weeks the song spent on the Billboard Hot 100 (call this column `total_weeks_on_chart`).\n",
    "\n",
    "Only include songs that have spent >5 weeks on the chart.\n",
    "\n",
    "Sort by the total number of weeks the song spent on the chart, descending order.\n",
    "\n",
    "Notes:\n",
    "- Similar to the previous question, make sure each song appears once\n",
    "- The `weeks_on_chart` column is the number of weeks on the chart **as of that week**. How can we get the total number of weeks?\n",
    "- Do **NOT** count the total number of rows in which that the song/artist pair appear on the hot_100 table"
   ]
  },
  {
   "cell_type": "raw",
   "metadata": {},
   "source": [
    "# BEGIN SOLUTION"
   ]
  },
  {
   "cell_type": "code",
   "execution_count": null,
   "metadata": {},
   "outputs": [],
   "source": [
    "%%sql --save query_2 result_2 <<\n",
    "/* # SOLUTION NO PROMPT\n",
    "# BEGIN SOLUTION\n",
    "*/\n",
    "SELECT\n",
    "    title,\n",
    "    artist,\n",
    "    MAX(weeks_on_chart) AS total_weeks_on_chart\n",
    "FROM\n",
    "    hot_100\n",
    "GROUP BY\n",
    "    title,\n",
    "    artist\n",
    "HAVING\n",
    "    MAX(weeks_on_chart) > 5\n",
    "ORDER BY\n",
    "    MAX(weeks_on_chart) DESC\n",
    "/*\n",
    "# END SOLUTION\n",
    "*/-- # SOLUTION NO PROMPT"
   ]
  },
  {
   "cell_type": "code",
   "execution_count": null,
   "metadata": {
    "scrolled": true
   },
   "outputs": [],
   "source": [
    "# Do not delete/edit this cell!\n",
    "# You must run this cell before running the autograder.\n",
    "query_2 = %sqlcmd snippets query_2\n",
    "grading_util.save_results(\"result_2\", query_2, result_2)\n",
    "result_2"
   ]
  },
  {
   "cell_type": "code",
   "execution_count": null,
   "metadata": {},
   "outputs": [],
   "source": [
    "display_query(result_2);"
   ]
  },
  {
   "cell_type": "raw",
   "metadata": {},
   "source": [
    "# END SOLUTION"
   ]
  },
  {
   "cell_type": "raw",
   "metadata": {},
   "source": [
    "# BEGIN TESTS"
   ]
  },
  {
   "cell_type": "code",
   "execution_count": null,
   "metadata": {},
   "outputs": [],
   "source": [
    "query_2, result_2_df = grading_util.load_results(\"result_2\")\n",
    "result_2_df.shape == (21679, 3)"
   ]
  },
  {
   "cell_type": "code",
   "execution_count": null,
   "metadata": {},
   "outputs": [],
   "source": [
    "query_2, result_2_df = grading_util.load_results(\"result_2\")\n",
    "result_2_df.columns == [\"title\", \"artist\", \"total_weeks_on_chart\"]"
   ]
  },
  {
   "cell_type": "code",
   "execution_count": null,
   "metadata": {},
   "outputs": [],
   "source": [
    "query_2, result_2_df = grading_util.load_results(\"result_2\")\n",
    "result_2_df[\"title\"][0] == \"Heat Waves\""
   ]
  },
  {
   "cell_type": "code",
   "execution_count": null,
   "metadata": {},
   "outputs": [],
   "source": [
    "query_2, result_2_df = grading_util.load_results(\"result_2\")\n",
    "result_2_df[\"artist\"][0] == \"Glass Animals\""
   ]
  },
  {
   "cell_type": "code",
   "execution_count": null,
   "metadata": {},
   "outputs": [],
   "source": [
    "query_2, result_2_df = grading_util.load_results(\"result_2\")\n",
    "result_2_df[\"total_weeks_on_chart\"][0] == 91"
   ]
  },
  {
   "cell_type": "code",
   "execution_count": null,
   "metadata": {},
   "outputs": [],
   "source": [
    "# HIDDEN\n",
    "query_2, result_2_df = grading_util.load_results(\"result_2\")\n",
    "result_2_df[\"title\"][3] == \"Sail\""
   ]
  },
  {
   "cell_type": "code",
   "execution_count": null,
   "metadata": {},
   "outputs": [],
   "source": [
    "# HIDDEN\n",
    "query_2, result_2_df = grading_util.load_results(\"result_2\")\n",
    "result_2_df[\"artist\"][3] == \"AWOLNATION\""
   ]
  },
  {
   "cell_type": "code",
   "execution_count": null,
   "metadata": {},
   "outputs": [],
   "source": [
    "# HIDDEN\n",
    "query_2, result_2_df = grading_util.load_results(\"result_2\")\n",
    "result_2_df[\"total_weeks_on_chart\"][3] == 79"
   ]
  },
  {
   "cell_type": "raw",
   "metadata": {},
   "source": [
    "# END TESTS"
   ]
  },
  {
   "cell_type": "raw",
   "metadata": {},
   "source": [
    "# END QUESTION"
   ]
  },
  {
   "cell_type": "markdown",
   "metadata": {},
   "source": [
    "<br/><br/><br/>\n",
    "\n",
    "<hr style=\"border: 1px solid #fdb515;\" />\n",
    "\n",
    "\n",
    "# Question 3 — Longest Top 10 Hits of the 1970's\n"
   ]
  },
  {
   "cell_type": "raw",
   "metadata": {
    "scrolled": true
   },
   "source": [
    "# BEGIN QUESTION\n",
    "name: q3\n",
    "points: 3"
   ]
  },
  {
   "cell_type": "markdown",
   "metadata": {},
   "source": [
    "Find all song titles, their corresponding artist, and its (highest) peak position (call this column `highest_peak_position`).\n",
    "\n",
    "Only include songs...\n",
    "- with a highest peak position in the top 10 (e.g. position 1-10, inclusive) AND\n",
    "- that charted from Jan. 1, 1970 - Dec. 31 1979, inclusive\n",
    "\n",
    "Sort by `highest_peak_position` in ascending order **AND** the song title in ascending order to break tie.\n",
    "\n",
    "Notes:\n",
    "- Remember \"highest\" position refers to lower numbers (e.g. position of 5 is higher than position of 10)\n",
    "- Peak position refers to the historical highest rank of a song, while rank only indicates the rank of that specific week"
   ]
  },
  {
   "cell_type": "raw",
   "metadata": {},
   "source": [
    "# BEGIN SOLUTION"
   ]
  },
  {
   "cell_type": "code",
   "execution_count": null,
   "metadata": {},
   "outputs": [],
   "source": [
    "%%sql --save query_3 result_3 <<\n",
    "/* # SOLUTION NO PROMPT\n",
    "# BEGIN SOLUTION\n",
    "*/\n",
    "SELECT\n",
    "    title,\n",
    "    artist,\n",
    "    MIN(peak_position) AS highest_peak_position\n",
    "FROM\n",
    "    hot_100\n",
    "WHERE\n",
    "    week_ending >= '1970-01-01' AND\n",
    "    week_ending <= '1979-12-31'\n",
    "GROUP BY\n",
    "    title,\n",
    "    artist\n",
    "HAVING\n",
    "    MIN(peak_position) <= 10\n",
    "ORDER BY\n",
    "    MIN(peak_position),\n",
    "    title\n",
    "\n",
    "/* alternate solution using rank below */\n",
    "/* SELECT title, artist, MIN(rank) AS highest_peak_position FROM hot_100 \n",
    "WHERE week_ending >= '1970-01-01' AND week_ending <= '1979-12-31' \n",
    "GROUP BY title, artist \n",
    "HAVING MIN(rank) <= 10\n",
    "ORDER BY highest_peak_position, title\n",
    "*/\n",
    "\n",
    "/*\n",
    "# END SOLUTION\n",
    "*/-- # SOLUTION NO PROMPT"
   ]
  },
  {
   "cell_type": "code",
   "execution_count": null,
   "metadata": {
    "scrolled": true
   },
   "outputs": [],
   "source": [
    "# Do not delete/edit this cell!\n",
    "# You must run this cell before running the autograder.\n",
    "query_3 = %sqlcmd snippets query_3\n",
    "grading_util.save_results(\"result_3\", query_3, result_3)\n",
    "result_3"
   ]
  },
  {
   "cell_type": "code",
   "execution_count": null,
   "metadata": {},
   "outputs": [],
   "source": [
    "display_query(result_3);"
   ]
  },
  {
   "cell_type": "raw",
   "metadata": {},
   "source": [
    "# END SOLUTION"
   ]
  },
  {
   "cell_type": "raw",
   "metadata": {},
   "source": [
    "# BEGIN TESTS"
   ]
  },
  {
   "cell_type": "code",
   "execution_count": null,
   "metadata": {},
   "outputs": [],
   "source": [
    "query_3, result_3_df = grading_util.load_results(\"result_3\")\n",
    "# the second test is to account for alternate RANK solution\n",
    "result_3_df.shape == (958, 3) or result_3_df.shape == (946, 3)"
   ]
  },
  {
   "cell_type": "code",
   "execution_count": null,
   "metadata": {},
   "outputs": [],
   "source": [
    "query_3, result_3_df = grading_util.load_results(\"result_3\")\n",
    "result_3_df.columns == [\"title\", \"artist\", \"highest_peak_position\"]"
   ]
  },
  {
   "cell_type": "code",
   "execution_count": null,
   "metadata": {},
   "outputs": [],
   "source": [
    "query_3, result_3_df = grading_util.load_results(\"result_3\")\n",
    "result_3_df[\"title\"][0] == \"50 Ways To Leave Your Lover\""
   ]
  },
  {
   "cell_type": "code",
   "execution_count": null,
   "metadata": {},
   "outputs": [],
   "source": [
    "query_3, result_3_df = grading_util.load_results(\"result_3\")\n",
    "result_3_df[\"artist\"][0] == \"Paul Simon\""
   ]
  },
  {
   "cell_type": "code",
   "execution_count": null,
   "metadata": {},
   "outputs": [],
   "source": [
    "query_3, result_3_df = grading_util.load_results(\"result_3\")\n",
    "result_3_df[\"highest_peak_position\"][0] == 1"
   ]
  },
  {
   "cell_type": "code",
   "execution_count": null,
   "metadata": {},
   "outputs": [],
   "source": [
    "# HIDDEN\n",
    "query_3, result_3_df = grading_util.load_results(\"result_3\")\n",
    "result_3_df[\"title\"][1] == \"ABC\""
   ]
  },
  {
   "cell_type": "code",
   "execution_count": null,
   "metadata": {},
   "outputs": [],
   "source": [
    "# HIDDEN\n",
    "query_3, result_3_df = grading_util.load_results(\"result_3\")\n",
    "result_3_df[\"artist\"][1] == \"Jackson 5\""
   ]
  },
  {
   "cell_type": "code",
   "execution_count": null,
   "metadata": {},
   "outputs": [],
   "source": [
    "# HIDDEN\n",
    "query_3, result_3_df = grading_util.load_results(\"result_3\")\n",
    "result_3_df[\"highest_peak_position\"][1] == 1"
   ]
  },
  {
   "cell_type": "raw",
   "metadata": {},
   "source": [
    "# END TESTS"
   ]
  },
  {
   "cell_type": "raw",
   "metadata": {},
   "source": [
    "# END QUESTION"
   ]
  },
  {
   "cell_type": "markdown",
   "metadata": {},
   "source": [
    "<br/><br/><br/>\n",
    "\n",
    "<hr style=\"border: 1px solid #fdb515;\" />\n",
    "\n",
    "\n",
    "# Question 4 — Top Artists By Number 1 Hits\n"
   ]
  },
  {
   "cell_type": "raw",
   "metadata": {
    "scrolled": true
   },
   "source": [
    "# BEGIN QUESTION\n",
    "name: q4\n",
    "points: 3"
   ]
  },
  {
   "cell_type": "markdown",
   "metadata": {},
   "source": [
    "Find the top 50 _artists_ by total number of weeks any of their songs spent at rank 1 (call this column `total_weeks_at_number_one`).\n",
    "\n",
    "Sort by `total_weeks_at_number_one` in descending order **AND** the name of the artist in ascending order to break tie.\n",
    "\n",
    "Example: Suppose artist Jane Doe has 3 songs A, B, and C that have spent 10, 20, and 30 weeks at rank 1, respectively. Then the expected output would be: Jane Doe, 60 because 10 + 20 + 30 = 60 weeks total.\n",
    "\n",
    "Notes:\n",
    "- Remember that an artist can have multiple songs that have reached rank 1 at some point\n",
    "- Remember that every row in the `hot_100` table represents 1 week on the chart, so be careful about how you aggregate the rows. Which aggregation function would work best here?"
   ]
  },
  {
   "cell_type": "raw",
   "metadata": {},
   "source": [
    "# BEGIN SOLUTION"
   ]
  },
  {
   "cell_type": "code",
   "execution_count": null,
   "metadata": {},
   "outputs": [],
   "source": [
    "%%sql --save query_4 result_4 <<\n",
    "/* # SOLUTION NO PROMPT\n",
    "# BEGIN SOLUTION\n",
    "*/\n",
    "SELECT\n",
    "    artist,\n",
    "    COUNT(*) AS total_weeks_at_number_one\n",
    "FROM\n",
    "    hot_100\n",
    "WHERE\n",
    "    rank = 1\n",
    "GROUP BY\n",
    "    artist\n",
    "ORDER BY\n",
    "    COUNT(*) DESC,\n",
    "    artist\n",
    "LIMIT\n",
    "    50\n",
    "/*\n",
    "# END SOLUTION\n",
    "*/-- # SOLUTION NO PROMPT"
   ]
  },
  {
   "cell_type": "code",
   "execution_count": null,
   "metadata": {
    "scrolled": true
   },
   "outputs": [],
   "source": [
    "# Do not delete/edit this cell!\n",
    "# You must run this cell before running the autograder.\n",
    "query_4 = %sqlcmd snippets query_4\n",
    "grading_util.save_results(\"result_4\", query_4, result_4)\n",
    "result_4"
   ]
  },
  {
   "cell_type": "code",
   "execution_count": null,
   "metadata": {},
   "outputs": [],
   "source": [
    "display_query(result_4);"
   ]
  },
  {
   "cell_type": "raw",
   "metadata": {},
   "source": [
    "# END SOLUTION"
   ]
  },
  {
   "cell_type": "raw",
   "metadata": {},
   "source": [
    "# BEGIN TESTS"
   ]
  },
  {
   "cell_type": "code",
   "execution_count": null,
   "metadata": {},
   "outputs": [],
   "source": [
    "query_4, result_4_df = grading_util.load_results(\"result_4\")\n",
    "result_4_df.shape == (50, 2)"
   ]
  },
  {
   "cell_type": "code",
   "execution_count": null,
   "metadata": {},
   "outputs": [],
   "source": [
    "query_4, result_4_df = grading_util.load_results(\"result_4\")\n",
    "result_4_df.columns == [\"artist\", \"total_weeks_at_number_one\"]"
   ]
  },
  {
   "cell_type": "code",
   "execution_count": null,
   "metadata": {},
   "outputs": [],
   "source": [
    "query_4, result_4_df = grading_util.load_results(\"result_4\")\n",
    "result_4_df[\"artist\"][0] == \"Mariah Carey\""
   ]
  },
  {
   "cell_type": "code",
   "execution_count": null,
   "metadata": {},
   "outputs": [],
   "source": [
    "query_4, result_4_df = grading_util.load_results(\"result_4\")\n",
    "result_4_df[\"total_weeks_at_number_one\"][0] == 74"
   ]
  },
  {
   "cell_type": "code",
   "execution_count": null,
   "metadata": {},
   "outputs": [],
   "source": [
    "# HIDDEN\n",
    "query_4, result_4_df = grading_util.load_results(\"result_4\")\n",
    "result_4_df[\"artist\"][7] == \"Whitney Houston\""
   ]
  },
  {
   "cell_type": "code",
   "execution_count": null,
   "metadata": {},
   "outputs": [],
   "source": [
    "# HIDDEN\n",
    "query_4, result_4_df = grading_util.load_results(\"result_4\")\n",
    "result_4_df[\"total_weeks_at_number_one\"][7] == 31"
   ]
  },
  {
   "cell_type": "raw",
   "metadata": {},
   "source": [
    "# END TESTS"
   ]
  },
  {
   "cell_type": "raw",
   "metadata": {},
   "source": [
    "# END QUESTION"
   ]
  },
  {
   "cell_type": "markdown",
   "metadata": {},
   "source": [
    "<br/><br/><br/>\n",
    "\n",
    "<hr style=\"border: 1px solid #fdb515;\" />\n",
    "\n",
    "\n",
    "# Question 5 — What's Trending on TikTok?"
   ]
  },
  {
   "cell_type": "markdown",
   "metadata": {},
   "source": [
    "## Question 5a — Popular Everywhere"
   ]
  },
  {
   "cell_type": "raw",
   "metadata": {
    "scrolled": true
   },
   "source": [
    "# BEGIN QUESTION\n",
    "name: q5a\n",
    "points: 3"
   ]
  },
  {
   "cell_type": "markdown",
   "metadata": {},
   "source": [
    "Find the songs and their corresponding artists that were on both the Billboard Hot 100 and TikTok Top 50 charts in the same week.\n",
    "\n",
    "Sort in ascending order by song title.\n",
    "\n",
    "Notes:\n",
    "- Remember that the same song can appear in multiple rows of the chart (for example, if the song was on the chart for multiple weeks)\n",
    "- A song is considered the \"same\" as another song if the song title and artist match"
   ]
  },
  {
   "cell_type": "raw",
   "metadata": {},
   "source": [
    "# BEGIN SOLUTION"
   ]
  },
  {
   "cell_type": "code",
   "execution_count": null,
   "metadata": {},
   "outputs": [],
   "source": [
    "%%sql --save query_5_0 result_5_0 <<\n",
    "/* # SOLUTION NO PROMPT\n",
    "# BEGIN SOLUTION\n",
    "*/\n",
    "SELECT\n",
    "    h.title,\n",
    "    h.artist\n",
    "FROM\n",
    "    hot_100 AS h\n",
    "JOIN\n",
    "    tiktok_top_50 AS t\n",
    "ON\n",
    "    h.title = t.title AND\n",
    "    h.artist = t.artist AND\n",
    "    h.week_ending = t.week_ending\n",
    "GROUP BY\n",
    "    h.title,\n",
    "    h.artist\n",
    "ORDER BY\n",
    "    h.title\n",
    "/*\n",
    "# END SOLUTION\n",
    "*/-- # SOLUTION NO PROMPT"
   ]
  },
  {
   "cell_type": "code",
   "execution_count": null,
   "metadata": {
    "scrolled": true
   },
   "outputs": [],
   "source": [
    "# Do not delete/edit this cell!\n",
    "# You must run this cell before running the autograder.\n",
    "query_5_0 = %sqlcmd snippets query_5_0\n",
    "grading_util.save_results(\"result_5_0\", query_5_0, result_5_0)\n",
    "result_5_0"
   ]
  },
  {
   "cell_type": "code",
   "execution_count": null,
   "metadata": {},
   "outputs": [],
   "source": [
    "display_query(result_5_0);"
   ]
  },
  {
   "cell_type": "raw",
   "metadata": {},
   "source": [
    "# END SOLUTION"
   ]
  },
  {
   "cell_type": "raw",
   "metadata": {},
   "source": [
    "# BEGIN TESTS"
   ]
  },
  {
   "cell_type": "code",
   "execution_count": null,
   "metadata": {},
   "outputs": [],
   "source": [
    "query_5_0, result_5_0_df = grading_util.load_results(\"result_5_0\")\n",
    "result_5_0_df.shape == (128, 2)"
   ]
  },
  {
   "cell_type": "code",
   "execution_count": null,
   "metadata": {},
   "outputs": [],
   "source": [
    "query_5_0, result_5_0_df = grading_util.load_results(\"result_5_0\")\n",
    "result_5_0_df.columns == [\"title\", \"artist\"]"
   ]
  },
  {
   "cell_type": "code",
   "execution_count": null,
   "metadata": {},
   "outputs": [],
   "source": [
    "query_5_0, result_5_0_df = grading_util.load_results(\"result_5_0\")\n",
    "result_5_0_df[\"title\"][0] == \"28\""
   ]
  },
  {
   "cell_type": "code",
   "execution_count": null,
   "metadata": {},
   "outputs": [],
   "source": [
    "query_5_0, result_5_0_df = grading_util.load_results(\"result_5_0\")\n",
    "result_5_0_df[\"artist\"][0] == \"Zach Bryan\""
   ]
  },
  {
   "cell_type": "code",
   "execution_count": null,
   "metadata": {},
   "outputs": [],
   "source": [
    "# HIDDEN\n",
    "query_5_0, result_5_0_df = grading_util.load_results(\"result_5_0\")\n",
    "result_5_0_df[\"title\"][9] == \"Apple\""
   ]
  },
  {
   "cell_type": "code",
   "execution_count": null,
   "metadata": {},
   "outputs": [],
   "source": [
    "# HIDDEN\n",
    "query_5_0, result_5_0_df = grading_util.load_results(\"result_5_0\")\n",
    "result_5_0_df[\"artist\"][9] == \"Charli xcx\""
   ]
  },
  {
   "cell_type": "raw",
   "metadata": {},
   "source": [
    "# END TESTS"
   ]
  },
  {
   "cell_type": "raw",
   "metadata": {},
   "source": [
    "# END QUESTION"
   ]
  },
  {
   "cell_type": "markdown",
   "metadata": {},
   "source": [
    "## Question 5b — Brat Summer"
   ]
  },
  {
   "cell_type": "raw",
   "metadata": {
    "scrolled": true
   },
   "source": [
    "# BEGIN QUESTION\n",
    "name: q5b\n",
    "points: 3"
   ]
  },
  {
   "cell_type": "markdown",
   "metadata": {},
   "source": [
    "Write a query that ouputs:\n",
    "\n",
    "- `week_ending`\n",
    "- Billboard Hot 100 peak position for that week (call this column `hot_100_peak_pos`)\n",
    "- TikTok Top 50 peak position for that week (call this column `tiktok_50_peak_pos`)\n",
    "- Song title\n",
    "\n",
    "For all songs where the artist is `'Charli xcx'` (case sensitive).\n",
    "\n",
    "Sort by `week_ending`, ascending order.\n",
    "\n",
    "<div>\n",
    "<img src=\"https://i.kym-cdn.com/photos/images/newsfeed/002/862/673/d07.jpg\" alt=\"Brat summer starter pack meme\" width=\"300\"/>\n",
    "</div>"
   ]
  },
  {
   "cell_type": "raw",
   "metadata": {},
   "source": [
    "# BEGIN SOLUTION"
   ]
  },
  {
   "cell_type": "code",
   "execution_count": null,
   "metadata": {},
   "outputs": [],
   "source": [
    "%%sql --save query_5_1 result_5_1 <<\n",
    "/* # SOLUTION NO PROMPT\n",
    "# BEGIN SOLUTION\n",
    "*/\n",
    "SELECT\n",
    "    h.week_ending,\n",
    "    h.peak_position AS hot_100_peak_pos,\n",
    "    t.peak_position AS tiktok_50_peak_pos,\n",
    "    t.title\n",
    "FROM\n",
    "    hot_100 AS h\n",
    "JOIN\n",
    "    tiktok_top_50 AS t\n",
    "ON\n",
    "    t.artist = h.artist AND\n",
    "    t.title = h.title AND\n",
    "    h.week_ending = t.week_ending\n",
    "WHERE\n",
    "    t.artist = 'Charli xcx'\n",
    "ORDER BY\n",
    "    h.week_ending\n",
    "/*\n",
    "# END SOLUTION\n",
    "*/-- # SOLUTION NO PROMPT"
   ]
  },
  {
   "cell_type": "code",
   "execution_count": null,
   "metadata": {
    "scrolled": true
   },
   "outputs": [],
   "source": [
    "# Do not delete/edit this cell!\n",
    "# You must run this cell before running the autograder.\n",
    "query_5_1 = %sqlcmd snippets query_5_1\n",
    "grading_util.save_results(\"result_5_1\", query_5_1, result_5_1)\n",
    "result_5_1"
   ]
  },
  {
   "cell_type": "code",
   "execution_count": null,
   "metadata": {},
   "outputs": [],
   "source": [
    "display_query(result_5_1);"
   ]
  },
  {
   "cell_type": "raw",
   "metadata": {},
   "source": [
    "# END SOLUTION"
   ]
  },
  {
   "cell_type": "raw",
   "metadata": {},
   "source": [
    "# BEGIN TESTS"
   ]
  },
  {
   "cell_type": "code",
   "execution_count": null,
   "metadata": {},
   "outputs": [],
   "source": [
    "query_5_1, result_5_1_df = grading_util.load_results(\"result_5_1\")\n",
    "result_5_1_df.shape == (2, 4)"
   ]
  },
  {
   "cell_type": "code",
   "execution_count": null,
   "metadata": {},
   "outputs": [],
   "source": [
    "query_5_1, result_5_1_df = grading_util.load_results(\"result_5_1\")\n",
    "result_5_1_df.columns == [\"week_ending\", \"hot_100_peak_pos\", \"tiktok_50_peak_pos\", \"title\"]"
   ]
  },
  {
   "cell_type": "code",
   "execution_count": null,
   "metadata": {},
   "outputs": [],
   "source": [
    "query_5_1, result_5_1_df = grading_util.load_results(\"result_5_1\")\n",
    "result_5_1_df[\"week_ending\"][0] == \"2024-08-03\""
   ]
  },
  {
   "cell_type": "code",
   "execution_count": null,
   "metadata": {},
   "outputs": [],
   "source": [
    "query_5_1, result_5_1_df = grading_util.load_results(\"result_5_1\")\n",
    "result_5_1_df[\"hot_100_peak_pos\"][0] == 81"
   ]
  },
  {
   "cell_type": "code",
   "execution_count": null,
   "metadata": {},
   "outputs": [],
   "source": [
    "query_5_1, result_5_1_df = grading_util.load_results(\"result_5_1\")\n",
    "result_5_1_df[\"tiktok_50_peak_pos\"][0] == 4"
   ]
  },
  {
   "cell_type": "code",
   "execution_count": null,
   "metadata": {},
   "outputs": [],
   "source": [
    "query_5_1, result_5_1_df = grading_util.load_results(\"result_5_1\")\n",
    "result_5_1_df[\"title\"][0] == \"Apple\""
   ]
  },
  {
   "cell_type": "code",
   "execution_count": null,
   "metadata": {},
   "outputs": [],
   "source": [
    "# HIDDEN\n",
    "query_5_1, result_5_1_df = grading_util.load_results(\"result_5_1\")\n",
    "result_5_1_df[\"week_ending\"][1] == \"2024-08-10\""
   ]
  },
  {
   "cell_type": "code",
   "execution_count": null,
   "metadata": {},
   "outputs": [],
   "source": [
    "# HIDDEN\n",
    "query_5_1, result_5_1_df = grading_util.load_results(\"result_5_1\")\n",
    "result_5_1_df[\"hot_100_peak_pos\"][1] == 66"
   ]
  },
  {
   "cell_type": "code",
   "execution_count": null,
   "metadata": {},
   "outputs": [],
   "source": [
    "# HIDDEN\n",
    "query_5_1, result_5_1_df = grading_util.load_results(\"result_5_1\")\n",
    "result_5_1_df[\"tiktok_50_peak_pos\"][1] == 3"
   ]
  },
  {
   "cell_type": "code",
   "execution_count": null,
   "metadata": {},
   "outputs": [],
   "source": [
    "# HIDDEN\n",
    "query_5_1, result_5_1_df = grading_util.load_results(\"result_5_1\")\n",
    "result_5_1_df[\"title\"][1] == \"Apple\""
   ]
  },
  {
   "cell_type": "raw",
   "metadata": {},
   "source": [
    "# END TESTS"
   ]
  },
  {
   "cell_type": "raw",
   "metadata": {},
   "source": [
    "# END QUESTION"
   ]
  },
  {
   "cell_type": "markdown",
   "metadata": {},
   "source": [
    "<br/><br/>\n",
    "\n",
    "<hr style=\"border: 1px solid #fdb515;\" />\n",
    "\n",
    "# Question 6 — Reminders!"
   ]
  },
  {
   "cell_type": "raw",
   "metadata": {
    "scrolled": true
   },
   "source": [
    "# BEGIN QUESTION\n",
    "name: q6\n",
    "points: 0"
   ]
  },
  {
   "cell_type": "markdown",
   "metadata": {},
   "source": [
    "Fill out the [pre-semester form](https://docs.google.com/forms/d/e/1FAIpQLScUTyUXPdLlgbFEWQJGYWojCg5dZJ3V55Qo18CyH0J2UfX3Gg/viewform). Then in the code cell below, set `secret_word` to the secret word at the end of the form."
   ]
  },
  {
   "cell_type": "raw",
   "metadata": {},
   "source": [
    "# BEGIN SOLUTION"
   ]
  },
  {
   "cell_type": "code",
   "execution_count": null,
   "metadata": {},
   "outputs": [],
   "source": [
    "secret_word = 'table' # SOLUTION"
   ]
  },
  {
   "cell_type": "raw",
   "metadata": {},
   "source": [
    "# END SOLUTION"
   ]
  },
  {
   "cell_type": "raw",
   "metadata": {},
   "source": [
    "# BEGIN TESTS"
   ]
  },
  {
   "cell_type": "code",
   "execution_count": null,
   "metadata": {},
   "outputs": [],
   "source": [
    "# HIDDEN\n",
    "secret_word == 'table'"
   ]
  },
  {
   "cell_type": "raw",
   "metadata": {},
   "source": [
    "# END TESTS"
   ]
  },
  {
   "cell_type": "raw",
   "metadata": {},
   "source": [
    "# END QUESTION"
   ]
  },
  {
   "cell_type": "markdown",
   "metadata": {},
   "source": [
    "<hr style=\"border: 5px solid #003262;\" />\n",
    "<hr style=\"border: 1px solid #fdb515;\" />"
   ]
  },
  {
   "cell_type": "markdown",
   "metadata": {},
   "source": [
    "# Congratulations! You have finished Project 0."
   ]
  },
  {
   "cell_type": "markdown",
   "metadata": {},
   "source": [
    "We hope you found something interesting to listen to :D\n",
    "\n",
    "Here is an optional but interesting video by Vox related to viral TikTok songs: [We tracked what happens after TikTok songs go viral](https://youtu.be/S1m-KgEpoow?feature=shared)"
   ]
  },
  {
   "cell_type": "markdown",
   "metadata": {},
   "source": [
    "#### Final Question\n",
    "\n",
    "What's something fun/weird/interesting you discovered while exploring some data in this assignment? (Totally feel free to leave this blank...)"
   ]
  },
  {
   "cell_type": "markdown",
   "metadata": {},
   "source": [
    "> ...put you answer in this cell."
   ]
  },
  {
   "cell_type": "markdown",
   "metadata": {},
   "source": [
    "## Acknowledgments\n",
    "\n",
    "This assignment was inspired by [Chris Molanphy’s podcast “Hit Parade”](https://slate.com/podcasts/hit-parade) which dives into the history of popular music in the US. Former TA Allen Guo’s [billboard.py](https://github.com/guoguo12/billboard-charts) library made it possible to easily extract the data from Billboard’s ad-riddled website. \n",
    "\n",
    "If you’d like to explore any of the other charts, or perhaps query more recent data, you should give it a try."
   ]
  },
  {
   "cell_type": "markdown",
   "metadata": {},
   "source": [
    "## Submission\n",
    "\n",
    "Run the following cell to zip and download the results of your queries. You will also need to run the export cell at the end of the notebook.\n",
    "\n",
    "**Please save your notebook before exporting (this is a good time to do it!)** Otherwise, we may not be able to register your written responses.\n",
    "\n",
    "**For your submission on Gradescope, you will need to submit the `proj0.zip` file generated by the export cell.** Please ensure that your submission includes `proj0.pdf`, `proj0.ipynb`, and `results.zip`. \n",
    "\n",
    "**Please ensure that public tests pass upon submission.** It is your responsibility to wait until the autograder finishes running. We will not be accepting regrade requests for submission issues.\n",
    "\n",
    "**Common submission issues:** You MUST submit the generated zip file to the autograder. However, Safari is known to automatically unzip files upon downloading. You can fix this by going into Safari preferences, and deselect the box with the text \"Open safe files after downloading\" under the \"General\" tab. If you experience issues with downloading via clicking on the link, you can also navigate to the project 0 directory within JupyterHub (remove `proj0.ipynb` from the url), and manually download the generated zip files. Please post on Ed if you encounter any other submission issues.\n",
    "\n",
    "Run the following cell to zip and download the results of your queries. You will also need to run the export cell at the end of the notebook."
   ]
  },
  {
   "cell_type": "code",
   "execution_count": null,
   "metadata": {
    "scrolled": true
   },
   "outputs": [],
   "source": [
    "grading_util.prepare_submission_and_cleanup()"
   ]
  }
 ],
 "metadata": {
  "kernelspec": {
   "display_name": "Python 3 (ipykernel)",
   "language": "python",
   "name": "python3"
  },
  "language_info": {
   "codemirror_mode": {
    "name": "ipython",
    "version": 3
   },
   "file_extension": ".py",
   "mimetype": "text/x-python",
   "name": "python",
   "nbconvert_exporter": "python",
   "pygments_lexer": "ipython3",
   "version": "3.11.11"
  }
 },
 "nbformat": 4,
 "nbformat_minor": 4
}
