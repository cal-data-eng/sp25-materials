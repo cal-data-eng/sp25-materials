{
 "cells": [
  {
   "cell_type": "markdown",
   "id": "automated-spoke",
   "metadata": {},
   "source": [
    "# Discussion 01"
   ]
  },
  {
   "cell_type": "markdown",
   "id": "piano-tucson",
   "metadata": {},
   "source": [
    "Running the below cells creates the sqlite3 database `sqlite3:///books.db`."
   ]
  },
  {
   "cell_type": "code",
   "execution_count": 1,
   "id": "sporting-repeat",
   "metadata": {},
   "outputs": [],
   "source": [
    "%load_ext autoreload\n",
    "%autoreload 2"
   ]
  },
  {
   "cell_type": "code",
   "execution_count": 2,
   "id": "another-divorce",
   "metadata": {},
   "outputs": [],
   "source": [
    "import make_books"
   ]
  },
  {
   "cell_type": "markdown",
   "id": "regulation-moldova",
   "metadata": {},
   "source": [
    "## Discussion Questions"
   ]
  },
  {
   "cell_type": "markdown",
   "id": "cosmetic-ministry",
   "metadata": {},
   "source": [
    "Database schema:\n",
    "\n",
    "```\n",
    "books (book_id, book_name, year, genre, author_id, times_trending)\n",
    "authors (author_id, author_name, publishing_company, debut_year)\n",
    "awards (award_id, book_id, award_name, author_name)\n",
    "```"
   ]
  },
  {
   "cell_type": "markdown",
   "id": "ruled-direction",
   "metadata": {},
   "source": [
    "Run the below cells to start a sql connection."
   ]
  },
  {
   "cell_type": "code",
   "execution_count": 3,
   "id": "afraid-virgin",
   "metadata": {},
   "outputs": [],
   "source": [
    "%load_ext sql"
   ]
  },
  {
   "cell_type": "code",
   "execution_count": 4,
   "id": "therapeutic-connection",
   "metadata": {},
   "outputs": [
    {
     "data": {
      "text/html": [
       "<span style=\"None\">Connecting to &#x27;sqlite:///books.db&#x27;</span>"
      ],
      "text/plain": [
       "Connecting to 'sqlite:///books.db'"
      ]
     },
     "metadata": {},
     "output_type": "display_data"
    }
   ],
   "source": [
    "%sql sqlite:///books.db"
   ]
  },
  {
   "cell_type": "markdown",
   "id": "negative-packaging",
   "metadata": {},
   "source": [
    "## 1) SQL Review\n",
    "Suppose a full database schema is as follows (same as above):\n",
    "- books (book_id, book_name, year, genre, author_id, times_trending)\n",
    "- authors (author_id, author_name, publishing_company, debut_year)\n",
    "- awards (award_id, book_id, award_name, author_name)\n",
    "\n",
    "Below is how you will be writing your SQL queries with [\"SQL magic\"](https://www.datacamp.com/tutorial/sql-interface-within-jupyterlab)."
   ]
  },
  {
   "cell_type": "code",
   "execution_count": 5,
   "id": "tight-yahoo",
   "metadata": {},
   "outputs": [
    {
     "data": {
      "text/html": [
       "<span style=\"None\">Running query in &#x27;sqlite:///books.db&#x27;</span>"
      ],
      "text/plain": [
       "Running query in 'sqlite:///books.db'"
      ]
     },
     "metadata": {},
     "output_type": "display_data"
    },
    {
     "data": {
      "text/html": [
       "<table>\n",
       "    <thead>\n",
       "        <tr>\n",
       "        </tr>\n",
       "    </thead>\n",
       "    <tbody>\n",
       "    </tbody>\n",
       "</table>"
      ],
      "text/plain": [
       "++\n",
       "||\n",
       "++\n",
       "++"
      ]
     },
     "execution_count": 5,
     "metadata": {},
     "output_type": "execute_result"
    }
   ],
   "source": [
    "%%sql\n",
    "-- your code here --\n",
    ";"
   ]
  },
  {
   "cell_type": "markdown",
   "id": "abstract-egypt",
   "metadata": {},
   "source": [
    "### SQL Styling Convention\n",
    "Just for consistency (and best practice), here's a few guidelines to follow when writing SQL:\n",
    "- SQL keywords should be all caps\n",
    "- Table names are preferred snake_case, plural (e.g., student_records) or at least consistent within the entire system\n",
    "    - And in general, it's preferred to use all lowercase identifiers (column names, table names, aliases), unless necessary for clarity\n",
    "- Whitespace: line breaks however reasonable, two-space indentation\n",
    "- Semicolons **always** to end queries\n",
    "- Similar attributes should have similar naming conventions, e.g., created_at, updated_at, etc. For now, default attributes to snake_case\n",
    "- All timestamps should have timezones"
   ]
  },
  {
   "cell_type": "markdown",
   "id": "aerial-paragraph",
   "metadata": {},
   "source": [
    "Write a SQL query to accomplish each task below:\n",
    "\n",
    "\n",
    "**1. Select only the book names and years from the books table.**"
   ]
  },
  {
   "cell_type": "code",
   "execution_count": 5,
   "id": "exact-riding",
   "metadata": {},
   "outputs": [
    {
     "data": {
      "text/html": [
       "<span style=\"None\">Running query in &#x27;sqlite:///books.db&#x27;</span>"
      ],
      "text/plain": [
       "Running query in 'sqlite:///books.db'"
      ]
     },
     "metadata": {},
     "output_type": "display_data"
    },
    {
     "data": {
      "text/html": [
       "<table>\n",
       "    <thead>\n",
       "        <tr>\n",
       "            <th>book_name</th>\n",
       "            <th>year</th>\n",
       "        </tr>\n",
       "    </thead>\n",
       "    <tbody>\n",
       "        <tr>\n",
       "            <td>And Then There Were None</td>\n",
       "            <td>1939</td>\n",
       "        </tr>\n",
       "        <tr>\n",
       "            <td>Endless Night</td>\n",
       "            <td>1967</td>\n",
       "        </tr>\n",
       "        <tr>\n",
       "            <td>Teaching to Transgress</td>\n",
       "            <td>1994</td>\n",
       "        </tr>\n",
       "        <tr>\n",
       "            <td>Chanwoo's Photobook</td>\n",
       "            <td>2017</td>\n",
       "        </tr>\n",
       "        <tr>\n",
       "            <td>The Dispossessed</td>\n",
       "            <td>1974</td>\n",
       "        </tr>\n",
       "        <tr>\n",
       "            <td>The Ministry for the Future</td>\n",
       "            <td>2020</td>\n",
       "        </tr>\n",
       "    </tbody>\n",
       "</table>"
      ],
      "text/plain": [
       "+-----------------------------+------+\n",
       "|          book_name          | year |\n",
       "+-----------------------------+------+\n",
       "|   And Then There Were None  | 1939 |\n",
       "|        Endless Night        | 1967 |\n",
       "|    Teaching to Transgress   | 1994 |\n",
       "|     Chanwoo's Photobook     | 2017 |\n",
       "|       The Dispossessed      | 1974 |\n",
       "| The Ministry for the Future | 2020 |\n",
       "+-----------------------------+------+"
      ]
     },
     "execution_count": 5,
     "metadata": {},
     "output_type": "execute_result"
    }
   ],
   "source": [
    "%%sql\n",
    "-- your code here --\n",
    ";"
   ]
  },
  {
   "cell_type": "code",
   "execution_count": null,
   "id": "e6851b3c-7cd1-4c93-ac8a-9993a88a226d",
   "metadata": {},
   "outputs": [],
   "source": [
    "%%sql\n",
    "SELECT * FROM books;"
   ]
  },
  {
   "cell_type": "markdown",
   "id": "periodic-feature",
   "metadata": {},
   "source": [
    "**2. Find the names of all authors whose debut years are in the 21st century (defined as after 2000).**"
   ]
  },
  {
   "cell_type": "code",
   "execution_count": 7,
   "id": "coordinate-rehabilitation",
   "metadata": {},
   "outputs": [
    {
     "data": {
      "text/html": [
       "<span style=\"None\">Running query in &#x27;sqlite:///books.db&#x27;</span>"
      ],
      "text/plain": [
       "Running query in 'sqlite:///books.db'"
      ]
     },
     "metadata": {},
     "output_type": "display_data"
    },
    {
     "data": {
      "text/html": [
       "<table>\n",
       "    <thead>\n",
       "        <tr>\n",
       "            <th>author_name</th>\n",
       "        </tr>\n",
       "    </thead>\n",
       "    <tbody>\n",
       "        <tr>\n",
       "            <td>Chanwoo</td>\n",
       "        </tr>\n",
       "    </tbody>\n",
       "</table>"
      ],
      "text/plain": [
       "+-------------+\n",
       "| author_name |\n",
       "+-------------+\n",
       "|   Chanwoo   |\n",
       "+-------------+"
      ]
     },
     "execution_count": 7,
     "metadata": {},
     "output_type": "execute_result"
    }
   ],
   "source": [
    "%%sql\n",
    "    -- your code here --\n",
    ";"
   ]
  },
  {
   "cell_type": "markdown",
   "id": "involved-installation",
   "metadata": {},
   "source": [
    "**3. Find the names of all authors who released a sci-fi genre book in 1974 that won an award.**"
   ]
  },
  {
   "cell_type": "code",
   "execution_count": null,
   "id": "objective-canal",
   "metadata": {},
   "outputs": [],
   "source": [
    "%%sql\n",
    "-- your code here --\n",
    ";"
   ]
  },
  {
   "cell_type": "markdown",
   "id": "bigger-rogers",
   "metadata": {},
   "source": [
    "## 2) SQL Aggregation Review\n",
    "In some cases, we may need to accumulate results by combining multiple rows via aggregation. We use the same schema as in Section 2.\n",
    "\n",
    "**4. Write a query that calculates the total number of books written by author Agatha Christie.**"
   ]
  },
  {
   "cell_type": "code",
   "execution_count": null,
   "id": "connected-ministry",
   "metadata": {},
   "outputs": [],
   "source": [
    "%%sql\n",
    "-- your code here --\n",
    ";"
   ]
  },
  {
   "cell_type": "markdown",
   "id": "indirect-scholarship",
   "metadata": {},
   "source": [
    "**5. The group-by construct lets us compute aggregates for different chunks of a relation. Find the total number of books released per genre. Don’t include genres with a count less than 2. (Hint: HAVING)**"
   ]
  },
  {
   "cell_type": "code",
   "execution_count": 7,
   "id": "julian-scholar",
   "metadata": {},
   "outputs": [
    {
     "data": {
      "text/html": [
       "<span style=\"None\">Running query in &#x27;sqlite:///books.db&#x27;</span>"
      ],
      "text/plain": [
       "Running query in 'sqlite:///books.db'"
      ]
     },
     "metadata": {},
     "output_type": "display_data"
    },
    {
     "data": {
      "text/html": [
       "<table>\n",
       "    <thead>\n",
       "        <tr>\n",
       "            <th>genre</th>\n",
       "            <th>c</th>\n",
       "        </tr>\n",
       "    </thead>\n",
       "    <tbody>\n",
       "    </tbody>\n",
       "</table>"
      ],
      "text/plain": [
       "+-------+---+\n",
       "| genre | c |\n",
       "+-------+---+\n",
       "+-------+---+"
      ]
     },
     "execution_count": 7,
     "metadata": {},
     "output_type": "execute_result"
    }
   ],
   "source": [
    "%%sql\n",
    "-- your code here --\n",
    ";"
   ]
  },
  {
   "cell_type": "markdown",
   "id": "square-visiting",
   "metadata": {},
   "source": [
    "## 3) Optional Questions\n",
    "\n",
    "**6. Find the names of the 5 books that trended the least, ordered from least to most. Break ties by book name in alphabetical order.**"
   ]
  },
  {
   "cell_type": "code",
   "execution_count": null,
   "id": "integrated-indianapolis",
   "metadata": {},
   "outputs": [],
   "source": [
    "%%sql\n",
    "-- your code here --\n",
    ";"
   ]
  },
  {
   "cell_type": "markdown",
   "id": "understood-territory",
   "metadata": {},
   "source": [
    "**7. *Challenge:* Write a query that computes the total times each author has had a trending book. (Hint: you will need to use a join for this as well.)**"
   ]
  },
  {
   "cell_type": "code",
   "execution_count": null,
   "id": "hydraulic-school",
   "metadata": {},
   "outputs": [],
   "source": [
    "%%sql\n",
    "-- your code here --\n",
    ";"
   ]
  }
 ],
 "metadata": {
  "kernelspec": {
   "display_name": "Python 3 (ipykernel)",
   "language": "python",
   "name": "python3"
  },
  "language_info": {
   "codemirror_mode": {
    "name": "ipython",
    "version": 3
   },
   "file_extension": ".py",
   "mimetype": "text/x-python",
   "name": "python",
   "nbconvert_exporter": "python",
   "pygments_lexer": "ipython3",
   "version": "3.11.11"
  }
 },
 "nbformat": 4,
 "nbformat_minor": 5
}
