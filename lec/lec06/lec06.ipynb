{
 "cells": [
  {
   "cell_type": "markdown",
   "id": "e8d7b8e2",
   "metadata": {},
   "source": [
    "# Lecture 06"
   ]
  },
  {
   "cell_type": "code",
   "execution_count": 2,
   "id": "3f7386cd",
   "metadata": {},
   "outputs": [],
   "source": [
    "# Run this cell to set up imports\n",
    "import numpy as np\n",
    "import pandas as pd"
   ]
  },
  {
   "cell_type": "code",
   "execution_count": 3,
   "id": "6cb3757e",
   "metadata": {},
   "outputs": [],
   "source": [
    "%reload_ext sql"
   ]
  },
  {
   "cell_type": "markdown",
   "id": "e9675e9c",
   "metadata": {},
   "source": [
    "## New IMDB Performance database\n",
    "\n",
    "This is a variation of the IMDB database with keys defined. Note that this is a pretty big database! So if you run the below lines, please also remember to delete the `imdb_perf_lecture` afterwards to save space on your limited postgreSQL server."
   ]
  },
  {
   "cell_type": "code",
   "execution_count": 4,
   "id": "1e244cf9",
   "metadata": {},
   "outputs": [
    {
     "name": "stdout",
     "output_type": "stream",
     "text": [
      "Archive:  data/imdb_perf_lecture.zip\n"
     ]
    }
   ],
   "source": [
    "!unzip -u data/imdb_perf_lecture.zip -d data/"
   ]
  },
  {
   "cell_type": "code",
   "execution_count": 5,
   "id": "41a9652c",
   "metadata": {},
   "outputs": [
    {
     "name": "stdout",
     "output_type": "stream",
     "text": [
      "NOTICE:  database \"imdb_perf_lecture\" does not exist, skipping\n",
      "DROP DATABASE\n",
      "CREATE DATABASE\n",
      "SET\n",
      "SET\n",
      "SET\n",
      "SET\n",
      "SET\n",
      " set_config \n",
      "------------\n",
      " \n",
      "(1 row)\n",
      "\n",
      "SET\n",
      "SET\n",
      "SET\n",
      "SET\n",
      "SET\n",
      "SET\n",
      "CREATE TABLE\n",
      "ALTER TABLE\n",
      "CREATE TABLE\n",
      "ALTER TABLE\n",
      "CREATE TABLE\n",
      "ALTER TABLE\n",
      "COPY 845888\n",
      "COPY 2211936\n",
      "COPY 656453\n",
      "ALTER TABLE\n",
      "ALTER TABLE\n",
      "ALTER TABLE\n",
      "ALTER TABLE\n"
     ]
    }
   ],
   "source": [
    "!psql -h localhost -c 'DROP DATABASE IF EXISTS imdb_perf_lecture'\n",
    "!psql -h localhost -c 'CREATE DATABASE imdb_perf_lecture' \n",
    "!psql -h localhost -d imdb_perf_lecture -f data/imdb_perf_lecture.sql"
   ]
  },
  {
   "cell_type": "code",
   "execution_count": 6,
   "id": "124be448",
   "metadata": {},
   "outputs": [
    {
     "data": {
      "text/html": [
       "<span style=\"None\">Connecting to &#x27;postgresql://127.0.0.1:5432/imdb_perf_lecture&#x27;</span>"
      ],
      "text/plain": [
       "Connecting to 'postgresql://127.0.0.1:5432/imdb_perf_lecture'"
      ]
     },
     "metadata": {},
     "output_type": "display_data"
    }
   ],
   "source": [
    "%sql postgresql://127.0.0.1:5432/imdb_perf_lecture"
   ]
  },
  {
   "cell_type": "markdown",
   "id": "b66ff7ff",
   "metadata": {},
   "source": [
    "## Display indexes"
   ]
  },
  {
   "cell_type": "code",
   "execution_count": 7,
   "id": "019590a6-4e2c-41e3-93ad-3b16989a8898",
   "metadata": {},
   "outputs": [
    {
     "data": {
      "text/html": [
       "<table>\n",
       "    <thead>\n",
       "        <tr>\n",
       "            <th>Name</th>\n",
       "        </tr>\n",
       "    </thead>\n",
       "    <tbody>\n",
       "        <tr>\n",
       "            <td>movies</td>\n",
       "        </tr>\n",
       "        <tr>\n",
       "            <td>cast_info</td>\n",
       "        </tr>\n",
       "        <tr>\n",
       "            <td>actors</td>\n",
       "        </tr>\n",
       "    </tbody>\n",
       "</table>"
      ],
      "text/plain": [
       "+-----------+\n",
       "|    Name   |\n",
       "+-----------+\n",
       "|   movies  |\n",
       "| cast_info |\n",
       "|   actors  |\n",
       "+-----------+"
      ]
     },
     "execution_count": 7,
     "metadata": {},
     "output_type": "execute_result"
    }
   ],
   "source": [
    "%sqlcmd tables"
   ]
  },
  {
   "cell_type": "code",
   "execution_count": 9,
   "id": "d2a0001b-a783-4c97-bec7-904c0ee05edd",
   "metadata": {},
   "outputs": [
    {
     "data": {
      "text/html": [
       "<table>\n",
       "    <thead>\n",
       "        <tr>\n",
       "            <th>name</th>\n",
       "            <th>type</th>\n",
       "            <th>nullable</th>\n",
       "            <th>default</th>\n",
       "            <th>autoincrement</th>\n",
       "            <th>comment</th>\n",
       "        </tr>\n",
       "    </thead>\n",
       "    <tbody>\n",
       "        <tr>\n",
       "            <td>id</td>\n",
       "            <td>INTEGER</td>\n",
       "            <td>False</td>\n",
       "            <td>None</td>\n",
       "            <td>False</td>\n",
       "            <td>None</td>\n",
       "        </tr>\n",
       "        <tr>\n",
       "            <td>name</td>\n",
       "            <td>TEXT</td>\n",
       "            <td>True</td>\n",
       "            <td>None</td>\n",
       "            <td>False</td>\n",
       "            <td>None</td>\n",
       "        </tr>\n",
       "    </tbody>\n",
       "</table>"
      ],
      "text/plain": [
       "+------+---------+----------+---------+---------------+---------+\n",
       "| name |   type  | nullable | default | autoincrement | comment |\n",
       "+------+---------+----------+---------+---------------+---------+\n",
       "|  id  | INTEGER |  False   |   None  |     False     |   None  |\n",
       "| name |   TEXT  |   True   |   None  |     False     |   None  |\n",
       "+------+---------+----------+---------+---------------+---------+"
      ]
     },
     "execution_count": 9,
     "metadata": {},
     "output_type": "execute_result"
    }
   ],
   "source": [
    "%sqlcmd columns -t actors"
   ]
  },
  {
   "cell_type": "markdown",
   "id": "fe8e5e07",
   "metadata": {},
   "source": [
    "The meta-command `\\d <relation>` shows indexes maintained with the `<relation>` table.\n",
    "\n",
    "To run a SQL command, you can also look in the system view `pg_indexes` ([documentation 54.11](https://www.postgresql.org/docs/current/view-pg-indexes.html)):"
   ]
  },
  {
   "cell_type": "code",
   "execution_count": 10,
   "id": "5d59c981",
   "metadata": {},
   "outputs": [
    {
     "data": {
      "text/html": [
       "<span style=\"None\">Running query in &#x27;postgresql://127.0.0.1:5432/imdb_perf_lecture&#x27;</span>"
      ],
      "text/plain": [
       "Running query in 'postgresql://127.0.0.1:5432/imdb_perf_lecture'"
      ]
     },
     "metadata": {},
     "output_type": "display_data"
    },
    {
     "data": {
      "text/html": [
       "<span style=\"color: green\">2 rows affected.</span>"
      ],
      "text/plain": [
       "2 rows affected."
      ]
     },
     "metadata": {},
     "output_type": "display_data"
    },
    {
     "data": {
      "text/html": [
       "<table>\n",
       "    <thead>\n",
       "        <tr>\n",
       "            <th>schemaname</th>\n",
       "            <th>tablename</th>\n",
       "            <th>indexname</th>\n",
       "            <th>tablespace</th>\n",
       "            <th>indexdef</th>\n",
       "        </tr>\n",
       "    </thead>\n",
       "    <tbody>\n",
       "        <tr>\n",
       "            <td>public</td>\n",
       "            <td>actors</td>\n",
       "            <td>actor_pkey</td>\n",
       "            <td>None</td>\n",
       "            <td>CREATE UNIQUE INDEX actor_pkey ON public.actors USING btree (id)</td>\n",
       "        </tr>\n",
       "        <tr>\n",
       "            <td>public</td>\n",
       "            <td>movies</td>\n",
       "            <td>movie_pkey</td>\n",
       "            <td>None</td>\n",
       "            <td>CREATE UNIQUE INDEX movie_pkey ON public.movies USING btree (id)</td>\n",
       "        </tr>\n",
       "    </tbody>\n",
       "</table>"
      ],
      "text/plain": [
       "+------------+-----------+------------+------------+------------------------------------------------------------------+\n",
       "| schemaname | tablename | indexname  | tablespace |                             indexdef                             |\n",
       "+------------+-----------+------------+------------+------------------------------------------------------------------+\n",
       "|   public   |   actors  | actor_pkey |    None    | CREATE UNIQUE INDEX actor_pkey ON public.actors USING btree (id) |\n",
       "|   public   |   movies  | movie_pkey |    None    | CREATE UNIQUE INDEX movie_pkey ON public.movies USING btree (id) |\n",
       "+------------+-----------+------------+------------+------------------------------------------------------------------+"
      ]
     },
     "execution_count": 10,
     "metadata": {},
     "output_type": "execute_result"
    }
   ],
   "source": [
    "%%sql\n",
    "SELECT *\n",
    "FROM pg_indexes\n",
    "WHERE schemaname = 'public';"
   ]
  },
  {
   "cell_type": "markdown",
   "id": "13579705",
   "metadata": {},
   "source": [
    "Read the `indexdef` as: the Actor relation has an index named `actor_pkey` which is created on the attribute `id`. In this case, the attribute `id` is also the **primary key** of the Actor relation, hence why it has an index. More on why primary keys automatically generate indexes in a bit."
   ]
  },
  {
   "cell_type": "markdown",
   "id": "e493c3fa",
   "metadata": {},
   "source": [
    "# `EXPLAIN ANALYZE`\n",
    "\n",
    "This query seems like it runs pretty quickly:"
   ]
  },
  {
   "cell_type": "code",
   "execution_count": 11,
   "id": "5d55370c",
   "metadata": {},
   "outputs": [
    {
     "data": {
      "text/html": [
       "<span style=\"None\">Running query in &#x27;postgresql://127.0.0.1:5432/imdb_perf_lecture&#x27;</span>"
      ],
      "text/plain": [
       "Running query in 'postgresql://127.0.0.1:5432/imdb_perf_lecture'"
      ]
     },
     "metadata": {},
     "output_type": "display_data"
    },
    {
     "data": {
      "text/html": [
       "<span style=\"color: green\">1 rows affected.</span>"
      ],
      "text/plain": [
       "1 rows affected."
      ]
     },
     "metadata": {},
     "output_type": "display_data"
    },
    {
     "data": {
      "text/html": [
       "<table>\n",
       "    <thead>\n",
       "        <tr>\n",
       "            <th>id</th>\n",
       "            <th>name</th>\n",
       "        </tr>\n",
       "    </thead>\n",
       "    <tbody>\n",
       "        <tr>\n",
       "            <td>23456</td>\n",
       "            <td>Geraldo Alves</td>\n",
       "        </tr>\n",
       "    </tbody>\n",
       "</table>"
      ],
      "text/plain": [
       "+-------+---------------+\n",
       "|   id  |      name     |\n",
       "+-------+---------------+\n",
       "| 23456 | Geraldo Alves |\n",
       "+-------+---------------+"
      ]
     },
     "execution_count": 11,
     "metadata": {},
     "output_type": "execute_result"
    }
   ],
   "source": [
    "%%sql\n",
    "SELECT * FROM Actors WHERE id = 23456;"
   ]
  },
  {
   "cell_type": "markdown",
   "id": "b3922d56",
   "metadata": {},
   "source": [
    "The PostgreSQL command `EXPLAIN ANALYZE` runs the **execution plan** of a statement and displays actual run time statistics. This is useful to understand what the query is actually doing. "
   ]
  },
  {
   "cell_type": "code",
   "execution_count": 12,
   "id": "ab496903",
   "metadata": {},
   "outputs": [
    {
     "data": {
      "text/html": [
       "<span style=\"None\">Running query in &#x27;postgresql://127.0.0.1:5432/imdb_perf_lecture&#x27;</span>"
      ],
      "text/plain": [
       "Running query in 'postgresql://127.0.0.1:5432/imdb_perf_lecture'"
      ]
     },
     "metadata": {},
     "output_type": "display_data"
    },
    {
     "data": {
      "text/html": [
       "<span style=\"color: green\">4 rows affected.</span>"
      ],
      "text/plain": [
       "4 rows affected."
      ]
     },
     "metadata": {},
     "output_type": "display_data"
    },
    {
     "data": {
      "text/html": [
       "<table>\n",
       "    <thead>\n",
       "        <tr>\n",
       "            <th>QUERY PLAN</th>\n",
       "        </tr>\n",
       "    </thead>\n",
       "    <tbody>\n",
       "        <tr>\n",
       "            <td>Index Scan using actor_pkey on actors  (cost=0.42..8.44 rows=1 width=18) (actual time=0.014..0.015 rows=1 loops=1)</td>\n",
       "        </tr>\n",
       "        <tr>\n",
       "            <td>&nbsp;&nbsp;Index Cond: (id = 23456)</td>\n",
       "        </tr>\n",
       "        <tr>\n",
       "            <td>Planning Time: 0.074 ms</td>\n",
       "        </tr>\n",
       "        <tr>\n",
       "            <td>Execution Time: 0.029 ms</td>\n",
       "        </tr>\n",
       "    </tbody>\n",
       "</table>"
      ],
      "text/plain": [
       "+--------------------------------------------------------------------------------------------------------------------+\n",
       "|                                                     QUERY PLAN                                                     |\n",
       "+--------------------------------------------------------------------------------------------------------------------+\n",
       "| Index Scan using actor_pkey on actors  (cost=0.42..8.44 rows=1 width=18) (actual time=0.014..0.015 rows=1 loops=1) |\n",
       "|                                               Index Cond: (id = 23456)                                             |\n",
       "|                                              Planning Time: 0.074 ms                                               |\n",
       "|                                              Execution Time: 0.029 ms                                              |\n",
       "+--------------------------------------------------------------------------------------------------------------------+"
      ]
     },
     "execution_count": 12,
     "metadata": {},
     "output_type": "execute_result"
    }
   ],
   "source": [
    "%%sql\n",
    "EXPLAIN ANALYZE SELECT * FROM Actors WHERE id = 23456;"
   ]
  },
  {
   "cell_type": "markdown",
   "id": "593872a5-1b78-477b-a364-4bb88da743bc",
   "metadata": {},
   "source": [
    "Try visualizing this on https://explain.dalibo.com/"
   ]
  },
  {
   "cell_type": "markdown",
   "id": "24a7b442",
   "metadata": {},
   "source": [
    "<br/>\n",
    "\n",
    "By contrast, the below query on `cast_info` runs quite slowly. Why?"
   ]
  },
  {
   "cell_type": "code",
   "execution_count": 13,
   "id": "5bf633f8",
   "metadata": {},
   "outputs": [
    {
     "data": {
      "text/html": [
       "<span style=\"None\">Running query in &#x27;postgresql://127.0.0.1:5432/imdb_perf_lecture&#x27;</span>"
      ],
      "text/plain": [
       "Running query in 'postgresql://127.0.0.1:5432/imdb_perf_lecture'"
      ]
     },
     "metadata": {},
     "output_type": "display_data"
    },
    {
     "data": {
      "text/html": [
       "<span style=\"color: green\">8 rows affected.</span>"
      ],
      "text/plain": [
       "8 rows affected."
      ]
     },
     "metadata": {},
     "output_type": "display_data"
    },
    {
     "data": {
      "text/html": [
       "<table>\n",
       "    <thead>\n",
       "        <tr>\n",
       "            <th>QUERY PLAN</th>\n",
       "        </tr>\n",
       "    </thead>\n",
       "    <tbody>\n",
       "        <tr>\n",
       "            <td>Gather  (cost=1000.00..22310.10 rows=16 width=8) (actual time=77.839..79.845 rows=3 loops=1)</td>\n",
       "        </tr>\n",
       "        <tr>\n",
       "            <td>&nbsp;&nbsp;Workers Planned: 2</td>\n",
       "        </tr>\n",
       "        <tr>\n",
       "            <td>&nbsp;&nbsp;Workers Launched: 2</td>\n",
       "        </tr>\n",
       "        <tr>\n",
       "            <td>&nbsp;&nbsp;->  Parallel Seq Scan on cast_info  (cost=0.00..21308.50 rows=7 width=8) (actual time=29.646..75.436 rows=1 loops=3)</td>\n",
       "        </tr>\n",
       "        <tr>\n",
       "            <td>&nbsp;&nbsp;&nbsp;&nbsp;&nbsp;&nbsp;&nbsp;&nbsp;Filter: (person_id = 23456)</td>\n",
       "        </tr>\n",
       "        <tr>\n",
       "            <td>&nbsp;&nbsp;&nbsp;&nbsp;&nbsp;&nbsp;&nbsp;&nbsp;Rows Removed by Filter: 737311</td>\n",
       "        </tr>\n",
       "        <tr>\n",
       "            <td>Planning Time: 0.103 ms</td>\n",
       "        </tr>\n",
       "        <tr>\n",
       "            <td>Execution Time: 79.871 ms</td>\n",
       "        </tr>\n",
       "    </tbody>\n",
       "</table>"
      ],
      "text/plain": [
       "+------------------------------------------------------------------------------------------------------------------------+\n",
       "|                                                       QUERY PLAN                                                       |\n",
       "+------------------------------------------------------------------------------------------------------------------------+\n",
       "|              Gather  (cost=1000.00..22310.10 rows=16 width=8) (actual time=77.839..79.845 rows=3 loops=1)              |\n",
       "|                                                    Workers Planned: 2                                                  |\n",
       "|                                                   Workers Launched: 2                                                  |\n",
       "|   ->  Parallel Seq Scan on cast_info  (cost=0.00..21308.50 rows=7 width=8) (actual time=29.646..75.436 rows=1 loops=3) |\n",
       "|                                                  Filter: (person_id = 23456)                                           |\n",
       "|                                                 Rows Removed by Filter: 737311                                         |\n",
       "|                                                Planning Time: 0.103 ms                                                 |\n",
       "|                                               Execution Time: 79.871 ms                                                |\n",
       "+------------------------------------------------------------------------------------------------------------------------+"
      ]
     },
     "execution_count": 13,
     "metadata": {},
     "output_type": "execute_result"
    }
   ],
   "source": [
    "%%sql\n",
    "EXPLAIN ANALYZE SELECT * FROM Cast_info WHERE person_id = 23456;"
   ]
  },
  {
   "cell_type": "markdown",
   "id": "15ef0a8d",
   "metadata": {},
   "source": [
    "<br/>\n",
    "\n",
    "Explanation:\n",
    "\n",
    "Run `\\d` on `cast_info` and `actors`. `cast_info` does **not have an index** on `person_id`!\n",
    "\n",
    "```\n",
    "$ psql -h localhost -d imdb_perf_lecture\n",
    "imdb_perf_lecture=# \\d actors\n",
    "               Table \"public.actors\"\n",
    " Column |  Type   | Collation | Nullable | Default \n",
    "--------+---------+-----------+----------+---------\n",
    " id     | integer |           | not null | \n",
    " name   | text    |           |          | \n",
    "Indexes:\n",
    "    \"actor_pkey\" PRIMARY KEY, btree (id)\n",
    "Referenced by:\n",
    "    TABLE \"cast_info\" CONSTRAINT \"cast_info_person_id_fkey\" FOREIGN KEY (person_id) REFERENCES actors(id)\n",
    "\n",
    "imdb_perf_lecture=# \\d cast_info\n",
    "               Table \"public.cast_info\"\n",
    "  Column   |  Type   | Collation | Nullable | Default \n",
    "-----------+---------+-----------+----------+---------\n",
    " person_id | integer |           |          | \n",
    " movie_id  | integer |           |          | \n",
    "Foreign-key constraints:\n",
    "    \"cast_info_movie_id_fkey\" FOREIGN KEY (movie_id) REFERENCES movies(id)\n",
    "    \"cast_info_person_id_fkey\" FOREIGN KEY (person_id) REFERENCES actors(id)\n",
    "```"
   ]
  },
  {
   "cell_type": "markdown",
   "id": "01dcef54",
   "metadata": {},
   "source": [
    "# Creating new Indexes"
   ]
  },
  {
   "cell_type": "markdown",
   "id": "a385c520",
   "metadata": {},
   "source": [
    "In the Actors table, `name` is not a primary key. What kind of scan do you think the following query will produce?"
   ]
  },
  {
   "cell_type": "code",
   "execution_count": 14,
   "id": "74287633",
   "metadata": {},
   "outputs": [
    {
     "data": {
      "text/html": [
       "<span style=\"None\">Running query in &#x27;postgresql://127.0.0.1:5432/imdb_perf_lecture&#x27;</span>"
      ],
      "text/plain": [
       "Running query in 'postgresql://127.0.0.1:5432/imdb_perf_lecture'"
      ]
     },
     "metadata": {},
     "output_type": "display_data"
    },
    {
     "data": {
      "text/html": [
       "<span style=\"color: green\">8 rows affected.</span>"
      ],
      "text/plain": [
       "8 rows affected."
      ]
     },
     "metadata": {},
     "output_type": "display_data"
    },
    {
     "data": {
      "text/html": [
       "<table>\n",
       "    <thead>\n",
       "        <tr>\n",
       "            <th>QUERY PLAN</th>\n",
       "        </tr>\n",
       "    </thead>\n",
       "    <tbody>\n",
       "        <tr>\n",
       "            <td>Gather  (cost=1000.00..10631.77 rows=1 width=18) (actual time=0.307..25.925 rows=1 loops=1)</td>\n",
       "        </tr>\n",
       "        <tr>\n",
       "            <td>&nbsp;&nbsp;Workers Planned: 2</td>\n",
       "        </tr>\n",
       "        <tr>\n",
       "            <td>&nbsp;&nbsp;Workers Launched: 2</td>\n",
       "        </tr>\n",
       "        <tr>\n",
       "            <td>&nbsp;&nbsp;->  Parallel Seq Scan on actors  (cost=0.00..9631.67 rows=1 width=18) (actual time=13.500..21.337 rows=0 loops=3)</td>\n",
       "        </tr>\n",
       "        <tr>\n",
       "            <td>&nbsp;&nbsp;&nbsp;&nbsp;&nbsp;&nbsp;&nbsp;&nbsp;Filter: (name = 'Tom Hanks'::text)</td>\n",
       "        </tr>\n",
       "        <tr>\n",
       "            <td>&nbsp;&nbsp;&nbsp;&nbsp;&nbsp;&nbsp;&nbsp;&nbsp;Rows Removed by Filter: 281962</td>\n",
       "        </tr>\n",
       "        <tr>\n",
       "            <td>Planning Time: 0.064 ms</td>\n",
       "        </tr>\n",
       "        <tr>\n",
       "            <td>Execution Time: 25.947 ms</td>\n",
       "        </tr>\n",
       "    </tbody>\n",
       "</table>"
      ],
      "text/plain": [
       "+---------------------------------------------------------------------------------------------------------------------+\n",
       "|                                                      QUERY PLAN                                                     |\n",
       "+---------------------------------------------------------------------------------------------------------------------+\n",
       "|             Gather  (cost=1000.00..10631.77 rows=1 width=18) (actual time=0.307..25.925 rows=1 loops=1)             |\n",
       "|                                                   Workers Planned: 2                                                |\n",
       "|                                                  Workers Launched: 2                                                |\n",
       "|   ->  Parallel Seq Scan on actors  (cost=0.00..9631.67 rows=1 width=18) (actual time=13.500..21.337 rows=0 loops=3) |\n",
       "|                                              Filter: (name = 'Tom Hanks'::text)                                     |\n",
       "|                                                Rows Removed by Filter: 281962                                       |\n",
       "|                                               Planning Time: 0.064 ms                                               |\n",
       "|                                              Execution Time: 25.947 ms                                              |\n",
       "+---------------------------------------------------------------------------------------------------------------------+"
      ]
     },
     "execution_count": 14,
     "metadata": {},
     "output_type": "execute_result"
    }
   ],
   "source": [
    "%sql EXPLAIN ANALYZE SELECT * FROM Actors WHERE name = 'Tom Hanks';"
   ]
  },
  {
   "cell_type": "markdown",
   "id": "6690baf3",
   "metadata": {},
   "source": [
    "We can manually create an index, even if it's not a primary key. Below, we create a multi-dimensional index just to show you the syntax:"
   ]
  },
  {
   "cell_type": "code",
   "execution_count": 15,
   "id": "5e9129b3",
   "metadata": {},
   "outputs": [
    {
     "data": {
      "text/html": [
       "<span style=\"None\">Running query in &#x27;postgresql://127.0.0.1:5432/imdb_perf_lecture&#x27;</span>"
      ],
      "text/plain": [
       "Running query in 'postgresql://127.0.0.1:5432/imdb_perf_lecture'"
      ]
     },
     "metadata": {},
     "output_type": "display_data"
    },
    {
     "data": {
      "text/html": [
       "<table>\n",
       "    <thead>\n",
       "        <tr>\n",
       "        </tr>\n",
       "    </thead>\n",
       "    <tbody>\n",
       "    </tbody>\n",
       "</table>"
      ],
      "text/plain": [
       "++\n",
       "||\n",
       "++\n",
       "++"
      ]
     },
     "execution_count": 15,
     "metadata": {},
     "output_type": "execute_result"
    }
   ],
   "source": [
    "%sql CREATE INDEX nameIdIndex ON actors(name,id);"
   ]
  },
  {
   "cell_type": "markdown",
   "id": "2f249e13",
   "metadata": {},
   "source": [
    "This makes our original query much faster:"
   ]
  },
  {
   "cell_type": "code",
   "execution_count": 16,
   "id": "74f88cce",
   "metadata": {},
   "outputs": [
    {
     "data": {
      "text/html": [
       "<span style=\"None\">Running query in &#x27;postgresql://127.0.0.1:5432/imdb_perf_lecture&#x27;</span>"
      ],
      "text/plain": [
       "Running query in 'postgresql://127.0.0.1:5432/imdb_perf_lecture'"
      ]
     },
     "metadata": {},
     "output_type": "display_data"
    },
    {
     "data": {
      "text/html": [
       "<span style=\"color: green\">5 rows affected.</span>"
      ],
      "text/plain": [
       "5 rows affected."
      ]
     },
     "metadata": {},
     "output_type": "display_data"
    },
    {
     "data": {
      "text/html": [
       "<table>\n",
       "    <thead>\n",
       "        <tr>\n",
       "            <th>QUERY PLAN</th>\n",
       "        </tr>\n",
       "    </thead>\n",
       "    <tbody>\n",
       "        <tr>\n",
       "            <td>Index Only Scan using nameidindex on actors  (cost=0.42..4.44 rows=1 width=18) (actual time=0.045..0.046 rows=1 loops=1)</td>\n",
       "        </tr>\n",
       "        <tr>\n",
       "            <td>&nbsp;&nbsp;Index Cond: (name = 'Tom Hanks'::text)</td>\n",
       "        </tr>\n",
       "        <tr>\n",
       "            <td>&nbsp;&nbsp;Heap Fetches: 0</td>\n",
       "        </tr>\n",
       "        <tr>\n",
       "            <td>Planning Time: 0.178 ms</td>\n",
       "        </tr>\n",
       "        <tr>\n",
       "            <td>Execution Time: 0.061 ms</td>\n",
       "        </tr>\n",
       "    </tbody>\n",
       "</table>"
      ],
      "text/plain": [
       "+--------------------------------------------------------------------------------------------------------------------------+\n",
       "|                                                        QUERY PLAN                                                        |\n",
       "+--------------------------------------------------------------------------------------------------------------------------+\n",
       "| Index Only Scan using nameidindex on actors  (cost=0.42..4.44 rows=1 width=18) (actual time=0.045..0.046 rows=1 loops=1) |\n",
       "|                                           Index Cond: (name = 'Tom Hanks'::text)                                         |\n",
       "|                                                      Heap Fetches: 0                                                     |\n",
       "|                                                 Planning Time: 0.178 ms                                                  |\n",
       "|                                                 Execution Time: 0.061 ms                                                 |\n",
       "+--------------------------------------------------------------------------------------------------------------------------+"
      ]
     },
     "execution_count": 16,
     "metadata": {},
     "output_type": "execute_result"
    }
   ],
   "source": [
    "%sql EXPLAIN ANALYZE SELECT * FROM actors WHERE name = 'Tom Hanks';"
   ]
  },
  {
   "cell_type": "markdown",
   "id": "2acfcd2e",
   "metadata": {},
   "source": [
    "Why \"Index Only\" Scan? Well, SQL correctly identified that there are only two attributes in the Actors table, and both are located in the index. So we just need to search the index; we don't need to additionally fetch any records."
   ]
  },
  {
   "cell_type": "markdown",
   "id": "ca67c6d3",
   "metadata": {},
   "source": [
    "# Exercise: Types of Scans"
   ]
  },
  {
   "cell_type": "markdown",
   "id": "0048f149",
   "metadata": {},
   "source": [
    "SQL automatically decides whether index scans are worth it. Sometimes, it decides to do a sequential scan instead, or even a bitmap heap scan."
   ]
  },
  {
   "cell_type": "markdown",
   "id": "15a85804",
   "metadata": {},
   "source": [
    "<br/>\n",
    "\n",
    "The below exact match lookup produces an Index Scan:"
   ]
  },
  {
   "cell_type": "code",
   "execution_count": 17,
   "id": "bb096f2e",
   "metadata": {},
   "outputs": [
    {
     "data": {
      "text/html": [
       "<span style=\"None\">Running query in &#x27;postgresql://127.0.0.1:5432/imdb_perf_lecture&#x27;</span>"
      ],
      "text/plain": [
       "Running query in 'postgresql://127.0.0.1:5432/imdb_perf_lecture'"
      ]
     },
     "metadata": {},
     "output_type": "display_data"
    },
    {
     "data": {
      "text/html": [
       "<span style=\"color: green\">4 rows affected.</span>"
      ],
      "text/plain": [
       "4 rows affected."
      ]
     },
     "metadata": {},
     "output_type": "display_data"
    },
    {
     "data": {
      "text/html": [
       "<table>\n",
       "    <thead>\n",
       "        <tr>\n",
       "            <th>QUERY PLAN</th>\n",
       "        </tr>\n",
       "    </thead>\n",
       "    <tbody>\n",
       "        <tr>\n",
       "            <td>Index Scan using actor_pkey on actors  (cost=0.42..8.44 rows=1 width=18) (actual time=0.017..0.018 rows=1 loops=1)</td>\n",
       "        </tr>\n",
       "        <tr>\n",
       "            <td>&nbsp;&nbsp;Index Cond: (id = 23456)</td>\n",
       "        </tr>\n",
       "        <tr>\n",
       "            <td>Planning Time: 0.064 ms</td>\n",
       "        </tr>\n",
       "        <tr>\n",
       "            <td>Execution Time: 0.032 ms</td>\n",
       "        </tr>\n",
       "    </tbody>\n",
       "</table>"
      ],
      "text/plain": [
       "+--------------------------------------------------------------------------------------------------------------------+\n",
       "|                                                     QUERY PLAN                                                     |\n",
       "+--------------------------------------------------------------------------------------------------------------------+\n",
       "| Index Scan using actor_pkey on actors  (cost=0.42..8.44 rows=1 width=18) (actual time=0.017..0.018 rows=1 loops=1) |\n",
       "|                                               Index Cond: (id = 23456)                                             |\n",
       "|                                              Planning Time: 0.064 ms                                               |\n",
       "|                                              Execution Time: 0.032 ms                                              |\n",
       "+--------------------------------------------------------------------------------------------------------------------+"
      ]
     },
     "execution_count": 17,
     "metadata": {},
     "output_type": "execute_result"
    }
   ],
   "source": [
    "%sql EXPLAIN ANALYZE SELECT * FROM actors WHERE id = 23456;\n"
   ]
  },
  {
   "cell_type": "markdown",
   "id": "6eb8d385",
   "metadata": {},
   "source": [
    "This range lookup **also** produces an Index Scan:"
   ]
  },
  {
   "cell_type": "code",
   "execution_count": 18,
   "id": "95e92b4e",
   "metadata": {},
   "outputs": [
    {
     "data": {
      "text/html": [
       "<span style=\"None\">Running query in &#x27;postgresql://127.0.0.1:5432/imdb_perf_lecture&#x27;</span>"
      ],
      "text/plain": [
       "Running query in 'postgresql://127.0.0.1:5432/imdb_perf_lecture'"
      ]
     },
     "metadata": {},
     "output_type": "display_data"
    },
    {
     "data": {
      "text/html": [
       "<span style=\"color: green\">4 rows affected.</span>"
      ],
      "text/plain": [
       "4 rows affected."
      ]
     },
     "metadata": {},
     "output_type": "display_data"
    },
    {
     "data": {
      "text/html": [
       "<table>\n",
       "    <thead>\n",
       "        <tr>\n",
       "            <th>QUERY PLAN</th>\n",
       "        </tr>\n",
       "    </thead>\n",
       "    <tbody>\n",
       "        <tr>\n",
       "            <td>Index Scan using actor_pkey on actors  (cost=0.42..51.73 rows=15 width=18) (actual time=0.006..0.008 rows=11 loops=1)</td>\n",
       "        </tr>\n",
       "        <tr>\n",
       "            <td>&nbsp;&nbsp;Index Cond: ((id >= 23456) AND (id < 23500))</td>\n",
       "        </tr>\n",
       "        <tr>\n",
       "            <td>Planning Time: 0.166 ms</td>\n",
       "        </tr>\n",
       "        <tr>\n",
       "            <td>Execution Time: 0.020 ms</td>\n",
       "        </tr>\n",
       "    </tbody>\n",
       "</table>"
      ],
      "text/plain": [
       "+-----------------------------------------------------------------------------------------------------------------------+\n",
       "|                                                       QUERY PLAN                                                      |\n",
       "+-----------------------------------------------------------------------------------------------------------------------+\n",
       "| Index Scan using actor_pkey on actors  (cost=0.42..51.73 rows=15 width=18) (actual time=0.006..0.008 rows=11 loops=1) |\n",
       "|                                       Index Cond: ((id >= 23456) AND (id < 23500))                                    |\n",
       "|                                                Planning Time: 0.166 ms                                                |\n",
       "|                                                Execution Time: 0.020 ms                                               |\n",
       "+-----------------------------------------------------------------------------------------------------------------------+"
      ]
     },
     "execution_count": 18,
     "metadata": {},
     "output_type": "execute_result"
    }
   ],
   "source": [
    "%sql EXPLAIN ANALYZE SELECT * FROM actors WHERE 23456 <= id AND id < 23500;\n"
   ]
  },
  {
   "cell_type": "markdown",
   "id": "37c4689f",
   "metadata": {},
   "source": [
    "However, the below range lookup produces a **Sequential scan**!"
   ]
  },
  {
   "cell_type": "code",
   "execution_count": 19,
   "id": "e5703dff",
   "metadata": {},
   "outputs": [
    {
     "data": {
      "text/html": [
       "<span style=\"None\">Running query in &#x27;postgresql://127.0.0.1:5432/imdb_perf_lecture&#x27;</span>"
      ],
      "text/plain": [
       "Running query in 'postgresql://127.0.0.1:5432/imdb_perf_lecture'"
      ]
     },
     "metadata": {},
     "output_type": "display_data"
    },
    {
     "data": {
      "text/html": [
       "<span style=\"color: green\">5 rows affected.</span>"
      ],
      "text/plain": [
       "5 rows affected."
      ]
     },
     "metadata": {},
     "output_type": "display_data"
    },
    {
     "data": {
      "text/html": [
       "<table>\n",
       "    <thead>\n",
       "        <tr>\n",
       "            <th>QUERY PLAN</th>\n",
       "        </tr>\n",
       "    </thead>\n",
       "    <tbody>\n",
       "        <tr>\n",
       "            <td>Seq Scan on actors  (cost=0.00..15799.60 rows=837716 width=18) (actual time=0.182..71.666 rows=838028 loops=1)</td>\n",
       "        </tr>\n",
       "        <tr>\n",
       "            <td>&nbsp;&nbsp;Filter: (id >= 23456)</td>\n",
       "        </tr>\n",
       "        <tr>\n",
       "            <td>&nbsp;&nbsp;Rows Removed by Filter: 7860</td>\n",
       "        </tr>\n",
       "        <tr>\n",
       "            <td>Planning Time: 0.095 ms</td>\n",
       "        </tr>\n",
       "        <tr>\n",
       "            <td>Execution Time: 95.209 ms</td>\n",
       "        </tr>\n",
       "    </tbody>\n",
       "</table>"
      ],
      "text/plain": [
       "+----------------------------------------------------------------------------------------------------------------+\n",
       "|                                                   QUERY PLAN                                                   |\n",
       "+----------------------------------------------------------------------------------------------------------------+\n",
       "| Seq Scan on actors  (cost=0.00..15799.60 rows=837716 width=18) (actual time=0.182..71.666 rows=838028 loops=1) |\n",
       "|                                              Filter: (id >= 23456)                                             |\n",
       "|                                           Rows Removed by Filter: 7860                                         |\n",
       "|                                            Planning Time: 0.095 ms                                             |\n",
       "|                                           Execution Time: 95.209 ms                                            |\n",
       "+----------------------------------------------------------------------------------------------------------------+"
      ]
     },
     "execution_count": 19,
     "metadata": {},
     "output_type": "execute_result"
    }
   ],
   "source": [
    "%sql EXPLAIN ANALYZE SELECT * FROM actors WHERE id >= 23456;"
   ]
  },
  {
   "cell_type": "markdown",
   "id": "f54c4343",
   "metadata": {},
   "source": [
    "<br/>\n",
    "\n",
    "And this other range lookup produces a **Bitmap Heap Scan**??"
   ]
  },
  {
   "cell_type": "code",
   "execution_count": 20,
   "id": "711b40d3",
   "metadata": {},
   "outputs": [
    {
     "data": {
      "text/html": [
       "<span style=\"None\">Running query in &#x27;postgresql://127.0.0.1:5432/imdb_perf_lecture&#x27;</span>"
      ],
      "text/plain": [
       "Running query in 'postgresql://127.0.0.1:5432/imdb_perf_lecture'"
      ]
     },
     "metadata": {},
     "output_type": "display_data"
    },
    {
     "data": {
      "text/html": [
       "<span style=\"color: green\">7 rows affected.</span>"
      ],
      "text/plain": [
       "7 rows affected."
      ]
     },
     "metadata": {},
     "output_type": "display_data"
    },
    {
     "data": {
      "text/html": [
       "<table>\n",
       "    <thead>\n",
       "        <tr>\n",
       "            <th>QUERY PLAN</th>\n",
       "        </tr>\n",
       "    </thead>\n",
       "    <tbody>\n",
       "        <tr>\n",
       "            <td>Bitmap Heap Scan on actors  (cost=176.18..5754.68 rows=8171 width=18) (actual time=0.505..1.330 rows=7857 loops=1)</td>\n",
       "        </tr>\n",
       "        <tr>\n",
       "            <td>&nbsp;&nbsp;Recheck Cond: ((5 <= id) AND (id < 23457))</td>\n",
       "        </tr>\n",
       "        <tr>\n",
       "            <td>&nbsp;&nbsp;Heap Blocks: exact=49</td>\n",
       "        </tr>\n",
       "        <tr>\n",
       "            <td>&nbsp;&nbsp;->  Bitmap Index Scan on actor_pkey  (cost=0.00..174.14 rows=8171 width=0) (actual time=0.484..0.484 rows=7857 loops=1)</td>\n",
       "        </tr>\n",
       "        <tr>\n",
       "            <td>&nbsp;&nbsp;&nbsp;&nbsp;&nbsp;&nbsp;&nbsp;&nbsp;Index Cond: ((id >= 5) AND (id < 23457))</td>\n",
       "        </tr>\n",
       "        <tr>\n",
       "            <td>Planning Time: 0.119 ms</td>\n",
       "        </tr>\n",
       "        <tr>\n",
       "            <td>Execution Time: 1.577 ms</td>\n",
       "        </tr>\n",
       "    </tbody>\n",
       "</table>"
      ],
      "text/plain": [
       "+---------------------------------------------------------------------------------------------------------------------------+\n",
       "|                                                         QUERY PLAN                                                        |\n",
       "+---------------------------------------------------------------------------------------------------------------------------+\n",
       "|     Bitmap Heap Scan on actors  (cost=176.18..5754.68 rows=8171 width=18) (actual time=0.505..1.330 rows=7857 loops=1)    |\n",
       "|                                          Recheck Cond: ((5 <= id) AND (id < 23457))                                       |\n",
       "|                                                    Heap Blocks: exact=49                                                  |\n",
       "|   ->  Bitmap Index Scan on actor_pkey  (cost=0.00..174.14 rows=8171 width=0) (actual time=0.484..0.484 rows=7857 loops=1) |\n",
       "|                                              Index Cond: ((id >= 5) AND (id < 23457))                                     |\n",
       "|                                                  Planning Time: 0.119 ms                                                  |\n",
       "|                                                  Execution Time: 1.577 ms                                                 |\n",
       "+---------------------------------------------------------------------------------------------------------------------------+"
      ]
     },
     "execution_count": 20,
     "metadata": {},
     "output_type": "execute_result"
    }
   ],
   "source": [
    "%sql EXPLAIN ANALYZE SELECT * FROM actors WHERE 5 <= id AND id < 23457;"
   ]
  },
  {
   "cell_type": "markdown",
   "id": "98dee2a1",
   "metadata": {},
   "source": [
    "\n",
    "* Index scan:\n",
    "    * For each index key match, there is a page fetch.\n",
    "    * If multiple index key matches all correspond to a single page, that single page may get fetched multiple times.matches on our query.\n",
    "* Sequential scan:\n",
    "    * Once each page is loaded in, all records on that page are scanned in sequence.\n",
    "* Bitmap heap scan:\n",
    "    * Pre-scans the index to identify the unique pages to visit, then sequentially scans the subset of pages\n",
    "    * More here: [stackoverflow](https://stackoverflow.com/questions/6592626/what-is-a-bitmap-heap-scan-in-a-query-plan)\n",
    "    \n",
    "<br/><br/><br/><br/>\n",
    "\n",
    "Takeaway:\n",
    "* There is no guarantee that records on disk are sorted in the same way as records in the index.\n",
    "* Therefore index lookups are effectively random lookups! Many random lookups are typically more expensive than many sequential lookups!"
   ]
  },
  {
   "cell_type": "markdown",
   "id": "4c5ff3be",
   "metadata": {},
   "source": [
    "<br/>\n",
    "<br/>\n",
    "Other range lookups for your practice:"
   ]
  },
  {
   "cell_type": "code",
   "execution_count": 21,
   "id": "030dac9f",
   "metadata": {},
   "outputs": [
    {
     "data": {
      "text/html": [
       "<span style=\"None\">Running query in &#x27;postgresql://127.0.0.1:5432/imdb_perf_lecture&#x27;</span>"
      ],
      "text/plain": [
       "Running query in 'postgresql://127.0.0.1:5432/imdb_perf_lecture'"
      ]
     },
     "metadata": {},
     "output_type": "display_data"
    },
    {
     "data": {
      "text/html": [
       "<span style=\"color: green\">4 rows affected.</span>"
      ],
      "text/plain": [
       "4 rows affected."
      ]
     },
     "metadata": {},
     "output_type": "display_data"
    },
    {
     "data": {
      "text/html": [
       "<table>\n",
       "    <thead>\n",
       "        <tr>\n",
       "            <th>QUERY PLAN</th>\n",
       "        </tr>\n",
       "    </thead>\n",
       "    <tbody>\n",
       "        <tr>\n",
       "            <td>Index Scan using actor_pkey on actors  (cost=0.42..51.73 rows=15 width=18) (actual time=0.012..0.016 rows=11 loops=1)</td>\n",
       "        </tr>\n",
       "        <tr>\n",
       "            <td>&nbsp;&nbsp;Index Cond: ((id >= 23456) AND (id < 23500))</td>\n",
       "        </tr>\n",
       "        <tr>\n",
       "            <td>Planning Time: 0.172 ms</td>\n",
       "        </tr>\n",
       "        <tr>\n",
       "            <td>Execution Time: 0.035 ms</td>\n",
       "        </tr>\n",
       "    </tbody>\n",
       "</table>"
      ],
      "text/plain": [
       "+-----------------------------------------------------------------------------------------------------------------------+\n",
       "|                                                       QUERY PLAN                                                      |\n",
       "+-----------------------------------------------------------------------------------------------------------------------+\n",
       "| Index Scan using actor_pkey on actors  (cost=0.42..51.73 rows=15 width=18) (actual time=0.012..0.016 rows=11 loops=1) |\n",
       "|                                       Index Cond: ((id >= 23456) AND (id < 23500))                                    |\n",
       "|                                                Planning Time: 0.172 ms                                                |\n",
       "|                                                Execution Time: 0.035 ms                                               |\n",
       "+-----------------------------------------------------------------------------------------------------------------------+"
      ]
     },
     "execution_count": 21,
     "metadata": {},
     "output_type": "execute_result"
    }
   ],
   "source": [
    "%sql EXPLAIN ANALYZE SELECT * FROM actors WHERE id >= 23456 AND id < 23500;"
   ]
  },
  {
   "cell_type": "code",
   "execution_count": 22,
   "id": "8b12f54f",
   "metadata": {},
   "outputs": [
    {
     "data": {
      "text/html": [
       "<span style=\"None\">Running query in &#x27;postgresql://127.0.0.1:5432/imdb_perf_lecture&#x27;</span>"
      ],
      "text/plain": [
       "Running query in 'postgresql://127.0.0.1:5432/imdb_perf_lecture'"
      ]
     },
     "metadata": {},
     "output_type": "display_data"
    },
    {
     "data": {
      "text/html": [
       "<span style=\"color: green\">4 rows affected.</span>"
      ],
      "text/plain": [
       "4 rows affected."
      ]
     },
     "metadata": {},
     "output_type": "display_data"
    },
    {
     "data": {
      "text/html": [
       "<table>\n",
       "    <thead>\n",
       "        <tr>\n",
       "            <th>QUERY PLAN</th>\n",
       "        </tr>\n",
       "    </thead>\n",
       "    <tbody>\n",
       "        <tr>\n",
       "            <td>Index Scan using actor_pkey on actors  (cost=0.42..8.45 rows=1 width=18) (actual time=0.012..0.013 rows=1 loops=1)</td>\n",
       "        </tr>\n",
       "        <tr>\n",
       "            <td>&nbsp;&nbsp;Index Cond: ((id >= 23456) AND (id < 23457))</td>\n",
       "        </tr>\n",
       "        <tr>\n",
       "            <td>Planning Time: 0.174 ms</td>\n",
       "        </tr>\n",
       "        <tr>\n",
       "            <td>Execution Time: 0.030 ms</td>\n",
       "        </tr>\n",
       "    </tbody>\n",
       "</table>"
      ],
      "text/plain": [
       "+--------------------------------------------------------------------------------------------------------------------+\n",
       "|                                                     QUERY PLAN                                                     |\n",
       "+--------------------------------------------------------------------------------------------------------------------+\n",
       "| Index Scan using actor_pkey on actors  (cost=0.42..8.45 rows=1 width=18) (actual time=0.012..0.013 rows=1 loops=1) |\n",
       "|                                     Index Cond: ((id >= 23456) AND (id < 23457))                                   |\n",
       "|                                              Planning Time: 0.174 ms                                               |\n",
       "|                                              Execution Time: 0.030 ms                                              |\n",
       "+--------------------------------------------------------------------------------------------------------------------+"
      ]
     },
     "execution_count": 22,
     "metadata": {},
     "output_type": "execute_result"
    }
   ],
   "source": [
    "%sql EXPLAIN ANALYZE SELECT * FROM actors WHERE id >= 23456 AND id < 23457;"
   ]
  },
  {
   "cell_type": "code",
   "execution_count": 23,
   "id": "b35cbc78",
   "metadata": {},
   "outputs": [
    {
     "data": {
      "text/html": [
       "<span style=\"None\">Running query in &#x27;postgresql://127.0.0.1:5432/imdb_perf_lecture&#x27;</span>"
      ],
      "text/plain": [
       "Running query in 'postgresql://127.0.0.1:5432/imdb_perf_lecture'"
      ]
     },
     "metadata": {},
     "output_type": "display_data"
    },
    {
     "data": {
      "text/html": [
       "<span style=\"color: green\">4 rows affected.</span>"
      ],
      "text/plain": [
       "4 rows affected."
      ]
     },
     "metadata": {},
     "output_type": "display_data"
    },
    {
     "data": {
      "text/html": [
       "<table>\n",
       "    <thead>\n",
       "        <tr>\n",
       "            <th>QUERY PLAN</th>\n",
       "        </tr>\n",
       "    </thead>\n",
       "    <tbody>\n",
       "        <tr>\n",
       "            <td>Seq Scan on actors  (cost=0.00..17914.32 rows=837795 width=18) (actual time=0.009..75.234 rows=845888 loops=1)</td>\n",
       "        </tr>\n",
       "        <tr>\n",
       "            <td>&nbsp;&nbsp;Filter: ((id >= 23456) OR (id < 23457))</td>\n",
       "        </tr>\n",
       "        <tr>\n",
       "            <td>Planning Time: 0.129 ms</td>\n",
       "        </tr>\n",
       "        <tr>\n",
       "            <td>Execution Time: 99.573 ms</td>\n",
       "        </tr>\n",
       "    </tbody>\n",
       "</table>"
      ],
      "text/plain": [
       "+----------------------------------------------------------------------------------------------------------------+\n",
       "|                                                   QUERY PLAN                                                   |\n",
       "+----------------------------------------------------------------------------------------------------------------+\n",
       "| Seq Scan on actors  (cost=0.00..17914.32 rows=837795 width=18) (actual time=0.009..75.234 rows=845888 loops=1) |\n",
       "|                                     Filter: ((id >= 23456) OR (id < 23457))                                    |\n",
       "|                                            Planning Time: 0.129 ms                                             |\n",
       "|                                           Execution Time: 99.573 ms                                            |\n",
       "+----------------------------------------------------------------------------------------------------------------+"
      ]
     },
     "execution_count": 23,
     "metadata": {},
     "output_type": "execute_result"
    }
   ],
   "source": [
    "%sql EXPLAIN ANALYZE SELECT * FROM actors WHERE id >= 23456 OR id < 23457;"
   ]
  },
  {
   "cell_type": "markdown",
   "id": "4b13ca01",
   "metadata": {},
   "source": [
    "# Cleanup"
   ]
  },
  {
   "cell_type": "markdown",
   "id": "f34ce1fe",
   "metadata": {},
   "source": [
    "We drop the newly created index just to clean things up:"
   ]
  },
  {
   "cell_type": "code",
   "execution_count": 24,
   "id": "df9f7fc2",
   "metadata": {},
   "outputs": [
    {
     "data": {
      "text/html": [
       "<span style=\"None\">Running query in &#x27;postgresql://127.0.0.1:5432/imdb_perf_lecture&#x27;</span>"
      ],
      "text/plain": [
       "Running query in 'postgresql://127.0.0.1:5432/imdb_perf_lecture'"
      ]
     },
     "metadata": {},
     "output_type": "display_data"
    },
    {
     "data": {
      "text/html": [
       "<table>\n",
       "    <thead>\n",
       "        <tr>\n",
       "        </tr>\n",
       "    </thead>\n",
       "    <tbody>\n",
       "    </tbody>\n",
       "</table>"
      ],
      "text/plain": [
       "++\n",
       "||\n",
       "++\n",
       "++"
      ]
     },
     "execution_count": 24,
     "metadata": {},
     "output_type": "execute_result"
    }
   ],
   "source": [
    "%sql DROP INDEX nameIdIndex;"
   ]
  },
  {
   "cell_type": "markdown",
   "id": "1afcb9bd",
   "metadata": {},
   "source": [
    "And we close the connection, then drop the database:"
   ]
  },
  {
   "cell_type": "code",
   "execution_count": 25,
   "id": "27d40776",
   "metadata": {},
   "outputs": [],
   "source": [
    "%sql --close postgresql://127.0.0.1:5432/imdb_perf_lecture"
   ]
  },
  {
   "cell_type": "code",
   "execution_count": 26,
   "id": "bf6bdf18",
   "metadata": {},
   "outputs": [
    {
     "name": "stdout",
     "output_type": "stream",
     "text": [
      "DROP DATABASE\n"
     ]
    }
   ],
   "source": [
    "!psql -h localhost -c 'DROP DATABASE IF EXISTS imdb_perf_lecture'"
   ]
  }
 ],
 "metadata": {
  "kernelspec": {
   "display_name": "Python 3 (ipykernel)",
   "language": "python",
   "name": "python3"
  },
  "language_info": {
   "codemirror_mode": {
    "name": "ipython",
    "version": 3
   },
   "file_extension": ".py",
   "mimetype": "text/x-python",
   "name": "python",
   "nbconvert_exporter": "python",
   "pygments_lexer": "ipython3",
   "version": "3.11.11"
  }
 },
 "nbformat": 4,
 "nbformat_minor": 5
}
