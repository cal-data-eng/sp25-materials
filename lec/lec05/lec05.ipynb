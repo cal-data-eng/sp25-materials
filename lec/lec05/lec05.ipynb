{
 "cells": [
  {
   "cell_type": "markdown",
   "id": "ef67ff30",
   "metadata": {},
   "source": [
    "# Lecture 05 -- DDL, DML & Constraints"
   ]
  },
  {
   "cell_type": "code",
   "execution_count": 1,
   "id": "14aae7e8",
   "metadata": {},
   "outputs": [],
   "source": [
    "# Run this cell to set up imports\n",
    "import numpy as np\n",
    "import pandas as pd"
   ]
  },
  {
   "cell_type": "code",
   "execution_count": 2,
   "id": "37af279c",
   "metadata": {},
   "outputs": [],
   "source": [
    "%reload_ext sql"
   ]
  },
  {
   "cell_type": "code",
   "execution_count": 3,
   "id": "bfbc2487",
   "metadata": {},
   "outputs": [
    {
     "name": "stdout",
     "output_type": "stream",
     "text": [
      "createdb: error: database creation failed: ERROR:  database \"lecture5\" already exists\n"
     ]
    }
   ],
   "source": [
    "!createdb lecture5 -h localhost"
   ]
  },
  {
   "cell_type": "code",
   "execution_count": 4,
   "id": "83c8ef18",
   "metadata": {},
   "outputs": [
    {
     "data": {
      "text/html": [
       "<span style=\"None\">Connecting to &#x27;postgresql://127.0.0.1:5432/lecture5&#x27;</span>"
      ],
      "text/plain": [
       "Connecting to 'postgresql://127.0.0.1:5432/lecture5'"
      ]
     },
     "metadata": {},
     "output_type": "display_data"
    }
   ],
   "source": [
    "%sql postgresql://127.0.0.1:5432/lecture5"
   ]
  },
  {
   "cell_type": "markdown",
   "id": "3af27072",
   "metadata": {},
   "source": [
    "# Manager demo"
   ]
  },
  {
   "cell_type": "markdown",
   "id": "2f894bf4",
   "metadata": {},
   "source": [
    "Creating the manager relation"
   ]
  },
  {
   "cell_type": "code",
   "execution_count": 5,
   "id": "4d61639c",
   "metadata": {},
   "outputs": [
    {
     "data": {
      "text/html": [
       "<span style=\"None\">Running query in &#x27;postgresql://127.0.0.1:5432/lecture5&#x27;</span>"
      ],
      "text/plain": [
       "Running query in 'postgresql://127.0.0.1:5432/lecture5'"
      ]
     },
     "metadata": {},
     "output_type": "display_data"
    },
    {
     "data": {
      "text/html": [
       "<table>\n",
       "    <thead>\n",
       "        <tr>\n",
       "            <th>manager_name</th>\n",
       "            <th>age</th>\n",
       "            <th>address</th>\n",
       "            <th>manager_id</th>\n",
       "        </tr>\n",
       "    </thead>\n",
       "    <tbody>\n",
       "    </tbody>\n",
       "</table>"
      ],
      "text/plain": [
       "+--------------+-----+---------+------------+\n",
       "| manager_name | age | address | manager_id |\n",
       "+--------------+-----+---------+------------+\n",
       "+--------------+-----+---------+------------+"
      ]
     },
     "execution_count": 5,
     "metadata": {},
     "output_type": "execute_result"
    }
   ],
   "source": [
    "%%sql\n",
    "\n",
    "DROP TABLE IF EXISTS managers;\n",
    "CREATE TABLE managers (\n",
    "    manager_name VARCHAR(20),\n",
    "    age INTEGER,\n",
    "    address TEXT,\n",
    "    manager_id INTEGER\n",
    ");\n",
    "SELECT * FROM managers;"
   ]
  },
  {
   "cell_type": "markdown",
   "id": "d21cd8d4",
   "metadata": {},
   "source": [
    "<br/><br/>\n",
    "\n",
    "Add a tuple"
   ]
  },
  {
   "cell_type": "code",
   "execution_count": 6,
   "id": "426986ff",
   "metadata": {},
   "outputs": [
    {
     "data": {
      "text/html": [
       "<span style=\"None\">Running query in &#x27;postgresql://127.0.0.1:5432/lecture5&#x27;</span>"
      ],
      "text/plain": [
       "Running query in 'postgresql://127.0.0.1:5432/lecture5'"
      ]
     },
     "metadata": {},
     "output_type": "display_data"
    },
    {
     "data": {
      "text/html": [
       "<span style=\"color: green\">2 rows affected.</span>"
      ],
      "text/plain": [
       "2 rows affected."
      ]
     },
     "metadata": {},
     "output_type": "display_data"
    },
    {
     "data": {
      "text/html": [
       "<span style=\"color: green\">2 rows affected.</span>"
      ],
      "text/plain": [
       "2 rows affected."
      ]
     },
     "metadata": {},
     "output_type": "display_data"
    },
    {
     "data": {
      "text/html": [
       "<table>\n",
       "    <thead>\n",
       "        <tr>\n",
       "            <th>manager_name</th>\n",
       "            <th>age</th>\n",
       "            <th>address</th>\n",
       "            <th>manager_id</th>\n",
       "        </tr>\n",
       "    </thead>\n",
       "    <tbody>\n",
       "        <tr>\n",
       "            <td>Aditya</td>\n",
       "            <td>23</td>\n",
       "            <td>None</td>\n",
       "            <td>1</td>\n",
       "        </tr>\n",
       "        <tr>\n",
       "            <td>Lisa</td>\n",
       "            <td>23</td>\n",
       "            <td>None</td>\n",
       "            <td>2</td>\n",
       "        </tr>\n",
       "    </tbody>\n",
       "</table>"
      ],
      "text/plain": [
       "+--------------+-----+---------+------------+\n",
       "| manager_name | age | address | manager_id |\n",
       "+--------------+-----+---------+------------+\n",
       "|    Aditya    |  23 |   None  |     1      |\n",
       "|     Lisa     |  23 |   None  |     2      |\n",
       "+--------------+-----+---------+------------+"
      ]
     },
     "execution_count": 6,
     "metadata": {},
     "output_type": "execute_result"
    }
   ],
   "source": [
    "%%sql\n",
    "INSERT INTO managers\n",
    "    (manager_id, age, manager_name)\n",
    "VALUES\n",
    "    (1, 23, 'Aditya'),\n",
    "    (2, 23, 'Lisa')\n",
    ";\n",
    "\n",
    "/***********/\n",
    "SELECT * FROM managers;"
   ]
  },
  {
   "cell_type": "markdown",
   "id": "0b8d6135-bc8a-437b-bf69-98637fe83130",
   "metadata": {},
   "source": [
    "What if we add a new tuple?"
   ]
  },
  {
   "cell_type": "code",
   "execution_count": 7,
   "id": "01ab30ff-fbbd-4547-b7fc-fdabe6104884",
   "metadata": {},
   "outputs": [
    {
     "data": {
      "text/html": [
       "<span style=\"None\">Running query in &#x27;postgresql://127.0.0.1:5432/lecture5&#x27;</span>"
      ],
      "text/plain": [
       "Running query in 'postgresql://127.0.0.1:5432/lecture5'"
      ]
     },
     "metadata": {},
     "output_type": "display_data"
    },
    {
     "data": {
      "text/html": [
       "<span style=\"color: green\">1 rows affected.</span>"
      ],
      "text/plain": [
       "1 rows affected."
      ]
     },
     "metadata": {},
     "output_type": "display_data"
    },
    {
     "data": {
      "text/html": [
       "<span style=\"color: green\">3 rows affected.</span>"
      ],
      "text/plain": [
       "3 rows affected."
      ]
     },
     "metadata": {},
     "output_type": "display_data"
    },
    {
     "data": {
      "text/html": [
       "<table>\n",
       "    <thead>\n",
       "        <tr>\n",
       "            <th>manager_name</th>\n",
       "            <th>age</th>\n",
       "            <th>address</th>\n",
       "            <th>manager_id</th>\n",
       "        </tr>\n",
       "    </thead>\n",
       "    <tbody>\n",
       "        <tr>\n",
       "            <td>Aditya</td>\n",
       "            <td>23</td>\n",
       "            <td>None</td>\n",
       "            <td>1</td>\n",
       "        </tr>\n",
       "        <tr>\n",
       "            <td>Lisa</td>\n",
       "            <td>23</td>\n",
       "            <td>None</td>\n",
       "            <td>2</td>\n",
       "        </tr>\n",
       "        <tr>\n",
       "            <td>Michael</td>\n",
       "            <td>123</td>\n",
       "            <td>None</td>\n",
       "            <td>1</td>\n",
       "        </tr>\n",
       "    </tbody>\n",
       "</table>"
      ],
      "text/plain": [
       "+--------------+-----+---------+------------+\n",
       "| manager_name | age | address | manager_id |\n",
       "+--------------+-----+---------+------------+\n",
       "|    Aditya    |  23 |   None  |     1      |\n",
       "|     Lisa     |  23 |   None  |     2      |\n",
       "|   Michael    | 123 |   None  |     1      |\n",
       "+--------------+-----+---------+------------+"
      ]
     },
     "execution_count": 7,
     "metadata": {},
     "output_type": "execute_result"
    }
   ],
   "source": [
    "%%sql\n",
    "INSERT INTO managers\n",
    "    (manager_id, manager_name, age)\n",
    "VALUES\n",
    "    (1, 'Michael', 123);\n",
    "\n",
    "/***********/\n",
    "SELECT * FROM managers;"
   ]
  },
  {
   "cell_type": "markdown",
   "id": "fdc1b25c-9a8d-43f3-bed2-82f1b64021b5",
   "metadata": {},
   "source": [
    "Whoops! We can have two tuples with the same ID!\n",
    "\n",
    "**Alternate Managers Schema**\n",
    "\n",
    "One way to to fix is to let the system set the ID. \n",
    "This replaces the `manager_id` type with a `SERIAL` instead of an `INTEGER`.\n"
   ]
  },
  {
   "cell_type": "code",
   "execution_count": 8,
   "id": "999b7c07-379c-44e8-9e7b-884351255579",
   "metadata": {},
   "outputs": [
    {
     "data": {
      "text/html": [
       "<span style=\"None\">Running query in &#x27;postgresql://127.0.0.1:5432/lecture5&#x27;</span>"
      ],
      "text/plain": [
       "Running query in 'postgresql://127.0.0.1:5432/lecture5'"
      ]
     },
     "metadata": {},
     "output_type": "display_data"
    },
    {
     "data": {
      "text/html": [
       "<table>\n",
       "    <thead>\n",
       "        <tr>\n",
       "            <th>manager_name</th>\n",
       "            <th>age</th>\n",
       "            <th>address</th>\n",
       "            <th>manager_id</th>\n",
       "        </tr>\n",
       "    </thead>\n",
       "    <tbody>\n",
       "    </tbody>\n",
       "</table>"
      ],
      "text/plain": [
       "+--------------+-----+---------+------------+\n",
       "| manager_name | age | address | manager_id |\n",
       "+--------------+-----+---------+------------+\n",
       "+--------------+-----+---------+------------+"
      ]
     },
     "execution_count": 8,
     "metadata": {},
     "output_type": "execute_result"
    }
   ],
   "source": [
    "%%sql\n",
    "DROP TABLE IF EXISTS managers;\n",
    "CREATE TABLE managers(\n",
    "    manager_name VARCHAR(20),\n",
    "    age INTEGER,\n",
    "    address TEXT,\n",
    "    manager_id SERIAL\n",
    ");\n",
    "\n",
    "/***********/\n",
    "SELECT * FROM managers;"
   ]
  },
  {
   "cell_type": "code",
   "execution_count": 9,
   "id": "455feb25-15ab-4357-993e-04d9ee523773",
   "metadata": {},
   "outputs": [
    {
     "data": {
      "text/html": [
       "<span style=\"None\">Running query in &#x27;postgresql://127.0.0.1:5432/lecture5&#x27;</span>"
      ],
      "text/plain": [
       "Running query in 'postgresql://127.0.0.1:5432/lecture5'"
      ]
     },
     "metadata": {},
     "output_type": "display_data"
    },
    {
     "data": {
      "text/html": [
       "<span style=\"color: green\">2 rows affected.</span>"
      ],
      "text/plain": [
       "2 rows affected."
      ]
     },
     "metadata": {},
     "output_type": "display_data"
    },
    {
     "data": {
      "text/html": [
       "<span style=\"color: green\">2 rows affected.</span>"
      ],
      "text/plain": [
       "2 rows affected."
      ]
     },
     "metadata": {},
     "output_type": "display_data"
    },
    {
     "data": {
      "text/html": [
       "<table>\n",
       "    <thead>\n",
       "        <tr>\n",
       "            <th>manager_name</th>\n",
       "            <th>age</th>\n",
       "            <th>address</th>\n",
       "            <th>manager_id</th>\n",
       "        </tr>\n",
       "    </thead>\n",
       "    <tbody>\n",
       "        <tr>\n",
       "            <td>Aditya</td>\n",
       "            <td>23</td>\n",
       "            <td>None</td>\n",
       "            <td>1</td>\n",
       "        </tr>\n",
       "        <tr>\n",
       "            <td>Lisa</td>\n",
       "            <td>23</td>\n",
       "            <td>None</td>\n",
       "            <td>2</td>\n",
       "        </tr>\n",
       "    </tbody>\n",
       "</table>"
      ],
      "text/plain": [
       "+--------------+-----+---------+------------+\n",
       "| manager_name | age | address | manager_id |\n",
       "+--------------+-----+---------+------------+\n",
       "|    Aditya    |  23 |   None  |     1      |\n",
       "|     Lisa     |  23 |   None  |     2      |\n",
       "+--------------+-----+---------+------------+"
      ]
     },
     "execution_count": 9,
     "metadata": {},
     "output_type": "execute_result"
    }
   ],
   "source": [
    "%%sql\n",
    "INSERT INTO managers\n",
    "    (age, manager_name)\n",
    "VALUES\n",
    "    (23, 'Aditya'),\n",
    "    (23, 'Lisa')\n",
    ";\n",
    "\n",
    "SELECT * FROM managers;"
   ]
  },
  {
   "cell_type": "markdown",
   "id": "096c1fe8",
   "metadata": {},
   "source": [
    "<br/><br/>\n",
    "\n",
    "And we can add another tuple..."
   ]
  },
  {
   "cell_type": "code",
   "execution_count": 10,
   "id": "4664c6f3",
   "metadata": {},
   "outputs": [
    {
     "data": {
      "text/html": [
       "<span style=\"None\">Running query in &#x27;postgresql://127.0.0.1:5432/lecture5&#x27;</span>"
      ],
      "text/plain": [
       "Running query in 'postgresql://127.0.0.1:5432/lecture5'"
      ]
     },
     "metadata": {},
     "output_type": "display_data"
    },
    {
     "data": {
      "text/html": [
       "<span style=\"color: green\">1 rows affected.</span>"
      ],
      "text/plain": [
       "1 rows affected."
      ]
     },
     "metadata": {},
     "output_type": "display_data"
    },
    {
     "data": {
      "text/html": [
       "<span style=\"color: green\">3 rows affected.</span>"
      ],
      "text/plain": [
       "3 rows affected."
      ]
     },
     "metadata": {},
     "output_type": "display_data"
    },
    {
     "data": {
      "text/html": [
       "<table>\n",
       "    <thead>\n",
       "        <tr>\n",
       "            <th>manager_name</th>\n",
       "            <th>age</th>\n",
       "            <th>address</th>\n",
       "            <th>manager_id</th>\n",
       "        </tr>\n",
       "    </thead>\n",
       "    <tbody>\n",
       "        <tr>\n",
       "            <td>Aditya</td>\n",
       "            <td>23</td>\n",
       "            <td>None</td>\n",
       "            <td>1</td>\n",
       "        </tr>\n",
       "        <tr>\n",
       "            <td>Lisa</td>\n",
       "            <td>23</td>\n",
       "            <td>None</td>\n",
       "            <td>2</td>\n",
       "        </tr>\n",
       "        <tr>\n",
       "            <td>Michael</td>\n",
       "            <td>123</td>\n",
       "            <td>None</td>\n",
       "            <td>3</td>\n",
       "        </tr>\n",
       "    </tbody>\n",
       "</table>"
      ],
      "text/plain": [
       "+--------------+-----+---------+------------+\n",
       "| manager_name | age | address | manager_id |\n",
       "+--------------+-----+---------+------------+\n",
       "|    Aditya    |  23 |   None  |     1      |\n",
       "|     Lisa     |  23 |   None  |     2      |\n",
       "|   Michael    | 123 |   None  |     3      |\n",
       "+--------------+-----+---------+------------+"
      ]
     },
     "execution_count": 10,
     "metadata": {},
     "output_type": "execute_result"
    }
   ],
   "source": [
    "%%sql\n",
    "INSERT INTO managers\n",
    "    (manager_name, age)\n",
    "VALUES\n",
    "    ('Michael', 123);\n",
    "\n",
    "/***********/\n",
    "SELECT * FROM managers;"
   ]
  },
  {
   "cell_type": "markdown",
   "id": "61969288",
   "metadata": {},
   "source": [
    "## Adding in Constraints\n",
    "\n",
    "    "
   ]
  },
  {
   "cell_type": "code",
   "execution_count": 11,
   "id": "13ef4ed6-0851-4428-9452-f758a3082d85",
   "metadata": {},
   "outputs": [
    {
     "data": {
      "text/html": [
       "<span style=\"None\">Running query in &#x27;postgresql://127.0.0.1:5432/lecture5&#x27;</span>"
      ],
      "text/plain": [
       "Running query in 'postgresql://127.0.0.1:5432/lecture5'"
      ]
     },
     "metadata": {},
     "output_type": "display_data"
    },
    {
     "data": {
      "text/html": [
       "<table>\n",
       "    <thead>\n",
       "        <tr>\n",
       "            <th>manager_name</th>\n",
       "            <th>age</th>\n",
       "            <th>address</th>\n",
       "            <th>manager_id</th>\n",
       "        </tr>\n",
       "    </thead>\n",
       "    <tbody>\n",
       "    </tbody>\n",
       "</table>"
      ],
      "text/plain": [
       "+--------------+-----+---------+------------+\n",
       "| manager_name | age | address | manager_id |\n",
       "+--------------+-----+---------+------------+\n",
       "+--------------+-----+---------+------------+"
      ]
     },
     "execution_count": 11,
     "metadata": {},
     "output_type": "execute_result"
    }
   ],
   "source": [
    "%%sql\n",
    "\n",
    "DROP TABLE IF EXISTS managers;\n",
    "CREATE TABLE managers (\n",
    "    manager_name VARCHAR(20) UNIQUE,\n",
    "    age INTEGER DEFAULT 50,\n",
    "    address TEXT,\n",
    "    manager_id SERIAL PRIMARY KEY\n",
    ");\n",
    "SELECT * FROM managers;"
   ]
  },
  {
   "cell_type": "code",
   "execution_count": 12,
   "id": "90610c5d-4770-494c-b080-ed37409695c5",
   "metadata": {},
   "outputs": [
    {
     "data": {
      "text/html": [
       "<span style=\"None\">Running query in &#x27;postgresql://127.0.0.1:5432/lecture5&#x27;</span>"
      ],
      "text/plain": [
       "Running query in 'postgresql://127.0.0.1:5432/lecture5'"
      ]
     },
     "metadata": {},
     "output_type": "display_data"
    },
    {
     "data": {
      "text/html": [
       "<span style=\"color: green\">2 rows affected.</span>"
      ],
      "text/plain": [
       "2 rows affected."
      ]
     },
     "metadata": {},
     "output_type": "display_data"
    },
    {
     "data": {
      "text/html": [
       "<span style=\"color: green\">2 rows affected.</span>"
      ],
      "text/plain": [
       "2 rows affected."
      ]
     },
     "metadata": {},
     "output_type": "display_data"
    },
    {
     "data": {
      "text/html": [
       "<table>\n",
       "    <thead>\n",
       "        <tr>\n",
       "            <th>manager_name</th>\n",
       "            <th>age</th>\n",
       "            <th>address</th>\n",
       "            <th>manager_id</th>\n",
       "        </tr>\n",
       "    </thead>\n",
       "    <tbody>\n",
       "        <tr>\n",
       "            <td>Aditya</td>\n",
       "            <td>23</td>\n",
       "            <td>None</td>\n",
       "            <td>1</td>\n",
       "        </tr>\n",
       "        <tr>\n",
       "            <td>Lisa</td>\n",
       "            <td>23</td>\n",
       "            <td>None</td>\n",
       "            <td>2</td>\n",
       "        </tr>\n",
       "    </tbody>\n",
       "</table>"
      ],
      "text/plain": [
       "+--------------+-----+---------+------------+\n",
       "| manager_name | age | address | manager_id |\n",
       "+--------------+-----+---------+------------+\n",
       "|    Aditya    |  23 |   None  |     1      |\n",
       "|     Lisa     |  23 |   None  |     2      |\n",
       "+--------------+-----+---------+------------+"
      ]
     },
     "execution_count": 12,
     "metadata": {},
     "output_type": "execute_result"
    }
   ],
   "source": [
    "%%sql\n",
    "INSERT INTO managers\n",
    "    (age, manager_name)\n",
    "VALUES\n",
    "    (23, 'Aditya'),\n",
    "    (23, 'Lisa')\n",
    ";\n",
    "\n",
    "SELECT * FROM managers;"
   ]
  },
  {
   "cell_type": "code",
   "execution_count": 13,
   "id": "d8bceea5-0ed8-428f-9beb-915cc90b3c1e",
   "metadata": {},
   "outputs": [
    {
     "data": {
      "text/html": [
       "<span style=\"None\">Running query in &#x27;postgresql://127.0.0.1:5432/lecture5&#x27;</span>"
      ],
      "text/plain": [
       "Running query in 'postgresql://127.0.0.1:5432/lecture5'"
      ]
     },
     "metadata": {},
     "output_type": "display_data"
    },
    {
     "data": {
      "text/html": [
       "<span style=\"color: green\">1 rows affected.</span>"
      ],
      "text/plain": [
       "1 rows affected."
      ]
     },
     "metadata": {},
     "output_type": "display_data"
    },
    {
     "data": {
      "text/html": [
       "<span style=\"color: green\">3 rows affected.</span>"
      ],
      "text/plain": [
       "3 rows affected."
      ]
     },
     "metadata": {},
     "output_type": "display_data"
    },
    {
     "data": {
      "text/html": [
       "<table>\n",
       "    <thead>\n",
       "        <tr>\n",
       "            <th>manager_name</th>\n",
       "            <th>age</th>\n",
       "            <th>address</th>\n",
       "            <th>manager_id</th>\n",
       "        </tr>\n",
       "    </thead>\n",
       "    <tbody>\n",
       "        <tr>\n",
       "            <td>Aditya</td>\n",
       "            <td>23</td>\n",
       "            <td>None</td>\n",
       "            <td>1</td>\n",
       "        </tr>\n",
       "        <tr>\n",
       "            <td>Lisa</td>\n",
       "            <td>23</td>\n",
       "            <td>None</td>\n",
       "            <td>2</td>\n",
       "        </tr>\n",
       "        <tr>\n",
       "            <td>Michael</td>\n",
       "            <td>50</td>\n",
       "            <td>None</td>\n",
       "            <td>3</td>\n",
       "        </tr>\n",
       "    </tbody>\n",
       "</table>"
      ],
      "text/plain": [
       "+--------------+-----+---------+------------+\n",
       "| manager_name | age | address | manager_id |\n",
       "+--------------+-----+---------+------------+\n",
       "|    Aditya    |  23 |   None  |     1      |\n",
       "|     Lisa     |  23 |   None  |     2      |\n",
       "|   Michael    |  50 |   None  |     3      |\n",
       "+--------------+-----+---------+------------+"
      ]
     },
     "execution_count": 13,
     "metadata": {},
     "output_type": "execute_result"
    }
   ],
   "source": [
    "%%sql\n",
    "INSERT INTO managers\n",
    "    (manager_name)\n",
    "VALUES\n",
    "    ('Michael');\n",
    "\n",
    "SELECT * FROM managers;"
   ]
  },
  {
   "cell_type": "markdown",
   "id": "1d1df89e-19a8-4939-ac34-ffeb35927324",
   "metadata": {},
   "source": [
    "Can't insert another Michael due to the UNIQUE constraint!\n",
    "\n"
   ]
  },
  {
   "cell_type": "code",
   "execution_count": 14,
   "id": "16505cce-7e5b-4185-82f5-fa0c3da2e949",
   "metadata": {},
   "outputs": [
    {
     "data": {
      "text/html": [
       "<span style=\"None\">Running query in &#x27;postgresql://127.0.0.1:5432/lecture5&#x27;</span>"
      ],
      "text/plain": [
       "Running query in 'postgresql://127.0.0.1:5432/lecture5'"
      ]
     },
     "metadata": {},
     "output_type": "display_data"
    },
    {
     "name": "stderr",
     "output_type": "stream",
     "text": [
      "RuntimeError: (psycopg2.errors.UniqueViolation) duplicate key value violates unique constraint \"managers_manager_name_key\"\n",
      "DETAIL:  Key (manager_name)=(Michael) already exists.\n",
      "\n",
      "[SQL: INSERT INTO managers\n",
      "    (manager_name)\n",
      "VALUES\n",
      "    ('Michael');]\n",
      "(Background on this error at: https://sqlalche.me/e/20/gkpj)\n",
      "If you need help solving this issue, send us a message: https://ploomber.io/community\n"
     ]
    }
   ],
   "source": [
    "%%sql\n",
    "INSERT INTO managers\n",
    "    (manager_name)\n",
    "VALUES\n",
    "    ('Michael');\n",
    "\n",
    "SELECT * FROM managers;"
   ]
  },
  {
   "cell_type": "markdown",
   "id": "cc09d984-ac1d-4908-9443-86ee1d71a3c3",
   "metadata": {},
   "source": [
    "OK what if we update Michael's ID?"
   ]
  },
  {
   "cell_type": "code",
   "execution_count": 15,
   "id": "2daf091a-7422-45da-920a-4f1b03279952",
   "metadata": {},
   "outputs": [
    {
     "data": {
      "text/html": [
       "<span style=\"None\">Running query in &#x27;postgresql://127.0.0.1:5432/lecture5&#x27;</span>"
      ],
      "text/plain": [
       "Running query in 'postgresql://127.0.0.1:5432/lecture5'"
      ]
     },
     "metadata": {},
     "output_type": "display_data"
    },
    {
     "data": {
      "text/html": [
       "<span style=\"color: green\">1 rows affected.</span>"
      ],
      "text/plain": [
       "1 rows affected."
      ]
     },
     "metadata": {},
     "output_type": "display_data"
    },
    {
     "data": {
      "text/html": [
       "<span style=\"color: green\">3 rows affected.</span>"
      ],
      "text/plain": [
       "3 rows affected."
      ]
     },
     "metadata": {},
     "output_type": "display_data"
    },
    {
     "data": {
      "text/html": [
       "<table>\n",
       "    <thead>\n",
       "        <tr>\n",
       "            <th>manager_name</th>\n",
       "            <th>age</th>\n",
       "            <th>address</th>\n",
       "            <th>manager_id</th>\n",
       "        </tr>\n",
       "    </thead>\n",
       "    <tbody>\n",
       "        <tr>\n",
       "            <td>Aditya</td>\n",
       "            <td>23</td>\n",
       "            <td>None</td>\n",
       "            <td>1</td>\n",
       "        </tr>\n",
       "        <tr>\n",
       "            <td>Lisa</td>\n",
       "            <td>23</td>\n",
       "            <td>None</td>\n",
       "            <td>2</td>\n",
       "        </tr>\n",
       "        <tr>\n",
       "            <td>Michael</td>\n",
       "            <td>50</td>\n",
       "            <td>None</td>\n",
       "            <td>4</td>\n",
       "        </tr>\n",
       "    </tbody>\n",
       "</table>"
      ],
      "text/plain": [
       "+--------------+-----+---------+------------+\n",
       "| manager_name | age | address | manager_id |\n",
       "+--------------+-----+---------+------------+\n",
       "|    Aditya    |  23 |   None  |     1      |\n",
       "|     Lisa     |  23 |   None  |     2      |\n",
       "|   Michael    |  50 |   None  |     4      |\n",
       "+--------------+-----+---------+------------+"
      ]
     },
     "execution_count": 15,
     "metadata": {},
     "output_type": "execute_result"
    }
   ],
   "source": [
    "%%sql\n",
    "UPDATE managers\n",
    "SET manager_id = manager_id + 1 \n",
    "WHERE manager_name = 'Michael';\n",
    "\n",
    "SELECT * FROM managers;"
   ]
  },
  {
   "cell_type": "markdown",
   "id": "7d2522bb-e909-4665-a1b5-9303e523b09c",
   "metadata": {},
   "source": [
    "This works, but will this work?"
   ]
  },
  {
   "cell_type": "code",
   "execution_count": 16,
   "id": "e2c0e9e3-24d4-47e7-a4b5-f5d73fdb2c12",
   "metadata": {},
   "outputs": [
    {
     "data": {
      "text/html": [
       "<span style=\"None\">Running query in &#x27;postgresql://127.0.0.1:5432/lecture5&#x27;</span>"
      ],
      "text/plain": [
       "Running query in 'postgresql://127.0.0.1:5432/lecture5'"
      ]
     },
     "metadata": {},
     "output_type": "display_data"
    },
    {
     "name": "stderr",
     "output_type": "stream",
     "text": [
      "RuntimeError: (psycopg2.errors.UniqueViolation) duplicate key value violates unique constraint \"managers_pkey\"\n",
      "DETAIL:  Key (manager_id)=(1) already exists.\n",
      "\n",
      "[SQL: UPDATE managers\n",
      "SET manager_id = manager_id - 1\n",
      "WHERE manager_name = 'Lisa';]\n",
      "(Background on this error at: https://sqlalche.me/e/20/gkpj)\n",
      "If you need help solving this issue, send us a message: https://ploomber.io/community\n"
     ]
    }
   ],
   "source": [
    "%%sql\n",
    "UPDATE managers\n",
    "SET manager_id = manager_id - 1 \n",
    "WHERE manager_name = 'Lisa';\n",
    "\n",
    "SELECT * FROM managers;"
   ]
  },
  {
   "cell_type": "markdown",
   "id": "5e0a8837-bfe0-4ce1-91cf-580b8e36b8d0",
   "metadata": {},
   "source": [
    "## ALTER TABLES"
   ]
  },
  {
   "cell_type": "code",
   "execution_count": 17,
   "id": "eab4abff",
   "metadata": {},
   "outputs": [
    {
     "data": {
      "text/html": [
       "<span style=\"None\">Running query in &#x27;postgresql://127.0.0.1:5432/lecture5&#x27;</span>"
      ],
      "text/plain": [
       "Running query in 'postgresql://127.0.0.1:5432/lecture5'"
      ]
     },
     "metadata": {},
     "output_type": "display_data"
    },
    {
     "data": {
      "text/html": [
       "<span style=\"color: green\">3 rows affected.</span>"
      ],
      "text/plain": [
       "3 rows affected."
      ]
     },
     "metadata": {},
     "output_type": "display_data"
    },
    {
     "data": {
      "text/html": [
       "<table>\n",
       "    <thead>\n",
       "        <tr>\n",
       "            <th>manager_name</th>\n",
       "            <th>manager_id</th>\n",
       "            <th>income</th>\n",
       "        </tr>\n",
       "    </thead>\n",
       "    <tbody>\n",
       "        <tr>\n",
       "            <td>Aditya</td>\n",
       "            <td>1</td>\n",
       "            <td>1000000.0</td>\n",
       "        </tr>\n",
       "        <tr>\n",
       "            <td>Lisa</td>\n",
       "            <td>2</td>\n",
       "            <td>1000000.0</td>\n",
       "        </tr>\n",
       "        <tr>\n",
       "            <td>Michael</td>\n",
       "            <td>4</td>\n",
       "            <td>1000000.0</td>\n",
       "        </tr>\n",
       "    </tbody>\n",
       "</table>"
      ],
      "text/plain": [
       "+--------------+------------+-----------+\n",
       "| manager_name | manager_id |   income  |\n",
       "+--------------+------------+-----------+\n",
       "|    Aditya    |     1      | 1000000.0 |\n",
       "|     Lisa     |     2      | 1000000.0 |\n",
       "|   Michael    |     4      | 1000000.0 |\n",
       "+--------------+------------+-----------+"
      ]
     },
     "execution_count": 17,
     "metadata": {},
     "output_type": "execute_result"
    }
   ],
   "source": [
    "%%sql\n",
    "ALTER TABLE managers\n",
    "    DROP address,\n",
    "    DROP age,\n",
    "    ADD income REAL DEFAULT 1000000.0;\n",
    "\n",
    "/***********/\n",
    "SELECT * FROM managers;"
   ]
  },
  {
   "cell_type": "markdown",
   "id": "a369d1c4-29a4-4f5d-b496-938c8c8b618e",
   "metadata": {},
   "source": [
    "**Beware of `UNIQUE` and `NULL` values!!**"
   ]
  },
  {
   "cell_type": "code",
   "execution_count": 18,
   "id": "24b7dc21-641a-4c64-a547-f3f0ddad1c68",
   "metadata": {},
   "outputs": [
    {
     "data": {
      "text/html": [
       "<span style=\"None\">Running query in &#x27;postgresql://127.0.0.1:5432/lecture5&#x27;</span>"
      ],
      "text/plain": [
       "Running query in 'postgresql://127.0.0.1:5432/lecture5'"
      ]
     },
     "metadata": {},
     "output_type": "display_data"
    },
    {
     "data": {
      "text/html": [
       "<table>\n",
       "    <thead>\n",
       "        <tr>\n",
       "            <th>manager_name</th>\n",
       "            <th>age</th>\n",
       "            <th>address</th>\n",
       "            <th>manager_id</th>\n",
       "        </tr>\n",
       "    </thead>\n",
       "    <tbody>\n",
       "    </tbody>\n",
       "</table>"
      ],
      "text/plain": [
       "+--------------+-----+---------+------------+\n",
       "| manager_name | age | address | manager_id |\n",
       "+--------------+-----+---------+------------+\n",
       "+--------------+-----+---------+------------+"
      ]
     },
     "execution_count": 18,
     "metadata": {},
     "output_type": "execute_result"
    }
   ],
   "source": [
    "%%sql\n",
    "\n",
    "DROP TABLE IF EXISTS managers;\n",
    "CREATE TABLE managers (\n",
    "    manager_name VARCHAR(20) UNIQUE,\n",
    "    age INTEGER DEFAULT 50,\n",
    "    address TEXT,\n",
    "    manager_id SERIAL PRIMARY KEY\n",
    ");\n",
    "SELECT * FROM managers;"
   ]
  },
  {
   "cell_type": "code",
   "execution_count": null,
   "id": "95ca48b6-8601-4af8-8010-6c36ce0871f8",
   "metadata": {},
   "outputs": [],
   "source": [
    "%%sql\n",
    "INSERT INTO managers(age)\n",
    "VALUES\n",
    "    (100),\n",
    "    (NULL);"
   ]
  },
  {
   "cell_type": "code",
   "execution_count": null,
   "id": "3cd4552e-94f5-4b57-9f56-fe37a418ee49",
   "metadata": {},
   "outputs": [],
   "source": [
    "%%sql\n",
    "SELECT * FROM managers;"
   ]
  },
  {
   "cell_type": "markdown",
   "id": "b5ea3b51-0274-4510-a852-cd7f21c4c7ae",
   "metadata": {},
   "source": [
    "**Notice** Even though we can't have duplicate names, NULL isn't considered a duplicate."
   ]
  },
  {
   "cell_type": "markdown",
   "id": "69f6701d",
   "metadata": {},
   "source": [
    "<br/><br/><br/>\n",
    "\n",
    "Delete the relation entirely"
   ]
  },
  {
   "cell_type": "code",
   "execution_count": null,
   "id": "0716a1de",
   "metadata": {},
   "outputs": [],
   "source": [
    "%%sql\n",
    "DROP TABLE managers;"
   ]
  },
  {
   "cell_type": "markdown",
   "id": "251e2c06",
   "metadata": {},
   "source": [
    "## IMDB Datebase"
   ]
  },
  {
   "cell_type": "code",
   "execution_count": null,
   "id": "e7ec09fd",
   "metadata": {},
   "outputs": [],
   "source": [
    "%reload_ext sql"
   ]
  },
  {
   "cell_type": "code",
   "execution_count": null,
   "id": "02f2cc64",
   "metadata": {},
   "outputs": [],
   "source": [
    "%sql postgresql://127.0.0.1:5432/lecture5"
   ]
  },
  {
   "cell_type": "code",
   "execution_count": null,
   "id": "55fae2dc",
   "metadata": {},
   "outputs": [],
   "source": [
    "%%sql\n",
    "DROP TABLE IF EXISTS actors CASCADE;\n",
    "DROP TABLE IF EXISTS movies CASCADE;\n",
    "DROP TABLE IF EXISTS cast_info;\n",
    "\n",
    "CREATE TABLE actors (\n",
    "  id INTEGER,\n",
    "  name TEXT,\n",
    "  PRIMARY KEY(id)\n",
    ");\n",
    "\n",
    "CREATE TABLE movies (\n",
    "  id INTEGER,\n",
    "  title TEXT,\n",
    "  PRIMARY KEY(id)\n",
    ");\n",
    "\n",
    "CREATE TABLE cast_info (\n",
    "  person_id INTEGER,\n",
    "  movie_id INTEGER,\n",
    "  FOREIGN KEY (person_id)\n",
    "    REFERENCES actors (id)\n",
    "    ON DELETE SET NULL\n",
    "    ON UPDATE CASCADE,\n",
    "  FOREIGN KEY (movie_id)\n",
    "    REFERENCES movies (id)\n",
    "    ON DELETE SET NULL);\n",
    "\n",
    "INSERT INTO actors VALUES\n",
    "    (1, 'Tom Hanks'),\n",
    "    (3, 'Michelle Yeoh')\n",
    ";\n",
    "\n",
    "INSERT INTO movies VALUES\n",
    "    (23, 'Forrest Gump'),\n",
    "    (45, 'Tomorrow Never Dies')\n",
    ";\n",
    "\n",
    "INSERT INTO cast_info VALUES\n",
    "    (1, 23),\n",
    "    (3, 45)\n",
    ";"
   ]
  },
  {
   "cell_type": "code",
   "execution_count": null,
   "id": "d9f0e146",
   "metadata": {},
   "outputs": [],
   "source": [
    "%%sql\n",
    "SELECT * FROM cast_info;"
   ]
  },
  {
   "cell_type": "markdown",
   "id": "a69a6867",
   "metadata": {},
   "source": [
    "A. What if we… Delete a tuple from Actor corresponding to id = 1?"
   ]
  },
  {
   "cell_type": "code",
   "execution_count": null,
   "id": "a66d8768",
   "metadata": {},
   "outputs": [],
   "source": [
    "%%sql\n",
    "DELETE FROM actors\n",
    "WHERE id = 1;\n",
    "\n",
    "SELECT * FROM cast_info;"
   ]
  },
  {
   "cell_type": "markdown",
   "id": "e6f75f12",
   "metadata": {},
   "source": [
    "(note: reset table layout for each choice)\n",
    "\n",
    "B. Change a tuple in Actor from id = 1 to id = 2?"
   ]
  },
  {
   "cell_type": "code",
   "execution_count": null,
   "id": "ba7734f8",
   "metadata": {},
   "outputs": [],
   "source": [
    "%%sql\n",
    "UPDATE actors\n",
    "SET id = 2\n",
    "WHERE id = 1;\n",
    "\n",
    "SELECT * FROM actors;"
   ]
  },
  {
   "cell_type": "code",
   "execution_count": null,
   "id": "a6e152e6",
   "metadata": {},
   "outputs": [],
   "source": [
    "%%sql\n",
    "SELECT * FROM cast_info;"
   ]
  },
  {
   "cell_type": "markdown",
   "id": "1cef07ec",
   "metadata": {},
   "source": [
    "C. Delete a tuple from Movie corresponding to id = 23?"
   ]
  },
  {
   "cell_type": "code",
   "execution_count": null,
   "id": "5c4a2519",
   "metadata": {},
   "outputs": [],
   "source": [
    "%%sql\n",
    "DELETE FROM movies\n",
    "WHERE id = 23;\n",
    "\n",
    "SELECT * FROM cast_info;"
   ]
  },
  {
   "cell_type": "markdown",
   "id": "c2f011a2",
   "metadata": {},
   "source": [
    "D. Change a tuple in Movie from id = 23 to id = 24?"
   ]
  },
  {
   "cell_type": "code",
   "execution_count": null,
   "id": "6584534a",
   "metadata": {},
   "outputs": [],
   "source": [
    "%%sql\n",
    "UPDATE movies\n",
    "SET id = 24\n",
    "WHERE id = 23;"
   ]
  },
  {
   "cell_type": "markdown",
   "id": "a473564f",
   "metadata": {},
   "source": [
    "E. Insert a tuple into `cast_info` that adds a new person_id not found in Actor?"
   ]
  },
  {
   "cell_type": "code",
   "execution_count": null,
   "id": "00ceb3a0",
   "metadata": {},
   "outputs": [],
   "source": [
    "%%sql\n",
    "INSERT INTO cast_info VALUES\n",
    "    (467, 23)\n",
    ";"
   ]
  },
  {
   "cell_type": "code",
   "execution_count": null,
   "id": "e811d58b",
   "metadata": {},
   "outputs": [],
   "source": []
  }
 ],
 "metadata": {
  "kernelspec": {
   "display_name": "Python 3 (ipykernel)",
   "language": "python",
   "name": "python3"
  },
  "language_info": {
   "codemirror_mode": {
    "name": "ipython",
    "version": 3
   },
   "file_extension": ".py",
   "mimetype": "text/x-python",
   "name": "python",
   "nbconvert_exporter": "python",
   "pygments_lexer": "ipython3",
   "version": "3.11.11"
  },
  "widgets": {
   "application/vnd.jupyter.widget-state+json": {
    "state": {},
    "version_major": 2,
    "version_minor": 0
   }
  }
 },
 "nbformat": 4,
 "nbformat_minor": 5
}
