{
 "cells": [
  {
   "cell_type": "markdown",
   "id": "31f40da4-66a9-4260-a6d6-5bc9e3e8e0f7",
   "metadata": {},
   "source": [
    "# Lecture 02: SQL Review, Extra\n",
    "\n",
    "This extra notebook contains a lot of extra SQL practice. Many variations of queries shown below are either in the slides or in course notes."
   ]
  },
  {
   "cell_type": "markdown",
   "id": "26256ed9-4c4d-403a-ab8a-132852df466d",
   "metadata": {},
   "source": [
    "## First load in the data into the database"
   ]
  },
  {
   "cell_type": "code",
   "execution_count": 2,
   "id": "48e4ac3e-cbd6-48c3-9869-4aa293392f2e",
   "metadata": {},
   "outputs": [
    {
     "name": "stdout",
     "output_type": "stream",
     "text": [
      "Archive:  data/imdb_lecture.zip\n"
     ]
    }
   ],
   "source": [
    "!unzip -u data/imdb_lecture.zip -d data/"
   ]
  },
  {
   "cell_type": "code",
   "execution_count": 3,
   "id": "fb6a488c-cb8e-430f-abe3-f2bbf059a3ce",
   "metadata": {},
   "outputs": [
    {
     "name": "stdout",
     "output_type": "stream",
     "text": [
      "NOTICE:  database \"imdb_lecture\" does not exist, skipping\n",
      "DROP DATABASE\n",
      "CREATE DATABASE\n",
      "SET\n",
      "SET\n",
      "SET\n",
      "SET\n",
      "SET\n",
      " set_config \n",
      "------------\n",
      " \n",
      "(1 row)\n",
      "\n",
      "SET\n",
      "SET\n",
      "SET\n",
      "SET\n",
      "SET\n",
      "SET\n",
      "CREATE TABLE\n",
      "ALTER TABLE\n",
      "CREATE TABLE\n",
      "ALTER TABLE\n",
      "CREATE TABLE\n",
      "ALTER TABLE\n",
      "CREATE TABLE\n",
      "ALTER TABLE\n",
      "CREATE TABLE\n",
      "ALTER TABLE\n",
      "CREATE TABLE\n",
      "ALTER TABLE\n",
      "COPY 8405\n",
      "COPY 4043\n",
      "COPY 4923\n",
      "COPY 1223\n",
      "COPY 820\n",
      "COPY 2420\n"
     ]
    }
   ],
   "source": [
    "!psql -h localhost -c 'DROP DATABASE IF EXISTS imdb_lecture'\n",
    "!psql -h localhost -c 'CREATE DATABASE imdb_lecture' \n",
    "!psql -h localhost -d imdb_lecture -f data/imdb_lecture.sql"
   ]
  },
  {
   "cell_type": "markdown",
   "id": "3335eec9-11c2-4e57-bc29-1259bf440fbc",
   "metadata": {},
   "source": [
    "## `jupysql` setup"
   ]
  },
  {
   "cell_type": "code",
   "execution_count": 4,
   "id": "48b60403-2104-4b17-b2ab-7b342986011e",
   "metadata": {},
   "outputs": [],
   "source": [
    "%reload_ext sql"
   ]
  },
  {
   "cell_type": "code",
   "execution_count": 6,
   "id": "628e4a8f-41e2-4fdb-96b3-f74cf5d77843",
   "metadata": {},
   "outputs": [],
   "source": [
    "%sql postgresql://jovyan@127.0.0.1:5432/imdb_lecture"
   ]
  },
  {
   "cell_type": "markdown",
   "id": "fe3b5f33-dbb3-43a0-a2a4-10f4a9fa0080",
   "metadata": {},
   "source": [
    "## CAST"
   ]
  },
  {
   "cell_type": "markdown",
   "id": "858145de-c2f8-40db-9ddf-e4de026683ca",
   "metadata": {},
   "source": [
    "What's wrong with the following query?"
   ]
  },
  {
   "cell_type": "code",
   "execution_count": 6,
   "id": "8468e0e6-2e05-49b1-b317-eada84bdaa3d",
   "metadata": {},
   "outputs": [
    {
     "data": {
      "text/html": [
       "<span style=\"None\">Running query in &#x27;postgresql://jovyan@127.0.0.1:5432/imdb_lecture&#x27;</span>"
      ],
      "text/plain": [
       "Running query in 'postgresql://jovyan@127.0.0.1:5432/imdb_lecture'"
      ]
     },
     "metadata": {},
     "output_type": "display_data"
    },
    {
     "data": {
      "text/html": [
       "<span style=\"color: green\">230 rows affected.</span>"
      ],
      "text/plain": [
       "230 rows affected."
      ]
     },
     "metadata": {},
     "output_type": "display_data"
    },
    {
     "data": {
      "text/html": [
       "<table>\n",
       "    <thead>\n",
       "        <tr>\n",
       "            <th>primary_title</th>\n",
       "            <th>type</th>\n",
       "            <th>release_year</th>\n",
       "            <th>runtime_minutes</th>\n",
       "            <th>runtime_hours</th>\n",
       "        </tr>\n",
       "    </thead>\n",
       "    <tbody>\n",
       "        <tr>\n",
       "            <td>Blood of Zeus</td>\n",
       "            <td>tvSeries</td>\n",
       "            <td>2020</td>\n",
       "            <td>30</td>\n",
       "            <td>0</td>\n",
       "        </tr>\n",
       "        <tr>\n",
       "            <td>Gods & Heroes</td>\n",
       "            <td>tvSeries</td>\n",
       "            <td>2020</td>\n",
       "            <td>30</td>\n",
       "            <td>0</td>\n",
       "        </tr>\n",
       "        <tr>\n",
       "            <td>Shaq Life</td>\n",
       "            <td>tvSeries</td>\n",
       "            <td>2020</td>\n",
       "            <td>None</td>\n",
       "            <td>None</td>\n",
       "        </tr>\n",
       "        <tr>\n",
       "            <td>What's After</td>\n",
       "            <td>tvSeries</td>\n",
       "            <td>2020</td>\n",
       "            <td>None</td>\n",
       "            <td>None</td>\n",
       "        </tr>\n",
       "        <tr>\n",
       "            <td>Utmark</td>\n",
       "            <td>tvSeries</td>\n",
       "            <td>2020</td>\n",
       "            <td>None</td>\n",
       "            <td>None</td>\n",
       "        </tr>\n",
       "        <tr>\n",
       "            <td>La Femme Anjola</td>\n",
       "            <td>movie</td>\n",
       "            <td>2021</td>\n",
       "            <td>140</td>\n",
       "            <td>2</td>\n",
       "        </tr>\n",
       "        <tr>\n",
       "            <td>Mr. Corman</td>\n",
       "            <td>tvSeries</td>\n",
       "            <td>2021</td>\n",
       "            <td>285</td>\n",
       "            <td>4</td>\n",
       "        </tr>\n",
       "        <tr>\n",
       "            <td>Player Vs Player with Trevor Noah</td>\n",
       "            <td>tvSeries</td>\n",
       "            <td>2021</td>\n",
       "            <td>None</td>\n",
       "            <td>None</td>\n",
       "        </tr>\n",
       "        <tr>\n",
       "            <td>Run for Young</td>\n",
       "            <td>tvSeries</td>\n",
       "            <td>2020</td>\n",
       "            <td>None</td>\n",
       "            <td>None</td>\n",
       "        </tr>\n",
       "        <tr>\n",
       "            <td>Poker Nights</td>\n",
       "            <td>tvSeries</td>\n",
       "            <td>2021</td>\n",
       "            <td>6</td>\n",
       "            <td>0</td>\n",
       "        </tr>\n",
       "    </tbody>\n",
       "</table>\n",
       "<span style=\"font-style:italic;text-align:center;\">Truncated to <a href=\"https://jupysql.ploomber.io/en/latest/api/configuration.html#displaylimit\">displaylimit</a> of 10.</span>"
      ],
      "text/plain": [
       "+-----------------------------------+----------+--------------+-----------------+---------------+\n",
       "|           primary_title           |   type   | release_year | runtime_minutes | runtime_hours |\n",
       "+-----------------------------------+----------+--------------+-----------------+---------------+\n",
       "|           Blood of Zeus           | tvSeries |     2020     |        30       |       0       |\n",
       "|           Gods & Heroes           | tvSeries |     2020     |        30       |       0       |\n",
       "|             Shaq Life             | tvSeries |     2020     |       None      |      None     |\n",
       "|            What's After           | tvSeries |     2020     |       None      |      None     |\n",
       "|               Utmark              | tvSeries |     2020     |       None      |      None     |\n",
       "|          La Femme Anjola          |  movie   |     2021     |       140       |       2       |\n",
       "|             Mr. Corman            | tvSeries |     2021     |       285       |       4       |\n",
       "| Player Vs Player with Trevor Noah | tvSeries |     2021     |       None      |      None     |\n",
       "|           Run for Young           | tvSeries |     2020     |       None      |      None     |\n",
       "|            Poker Nights           | tvSeries |     2021     |        6        |       0       |\n",
       "+-----------------------------------+----------+--------------+-----------------+---------------+\n",
       "Truncated to displaylimit of 10."
      ]
     },
     "execution_count": 6,
     "metadata": {},
     "output_type": "execute_result"
    }
   ],
   "source": [
    "%%sql\n",
    "SELECT primary_title, type,\n",
    "     premiered AS release_year,\n",
    "     runtime_minutes,\n",
    "     runtime_minutes/60 AS \n",
    "         runtime_hours\n",
    "FROM titles\n",
    "WHERE premiered >= 2020 AND\n",
    "      premiered <= 2023;"
   ]
  },
  {
   "cell_type": "markdown",
   "id": "84f62b54-506d-4228-98f8-6bf4b6ff2568",
   "metadata": {},
   "source": [
    "## CASE statements"
   ]
  },
  {
   "cell_type": "markdown",
   "id": "236af65a-f0db-495d-b773-5cc043c5a940",
   "metadata": {},
   "source": [
    "What's wrong with the following query?"
   ]
  },
  {
   "cell_type": "code",
   "execution_count": 7,
   "id": "d90257c1-bc2d-4590-ac00-8b621f76f670",
   "metadata": {},
   "outputs": [
    {
     "data": {
      "text/html": [
       "<span style=\"None\">Running query in &#x27;postgresql://jovyan@127.0.0.1:5432/imdb_lecture&#x27;</span>"
      ],
      "text/plain": [
       "Running query in 'postgresql://jovyan@127.0.0.1:5432/imdb_lecture'"
      ]
     },
     "metadata": {},
     "output_type": "display_data"
    },
    {
     "data": {
      "text/html": [
       "<span style=\"color: green\">1223 rows affected.</span>"
      ],
      "text/plain": [
       "1223 rows affected."
      ]
     },
     "metadata": {},
     "output_type": "display_data"
    },
    {
     "data": {
      "text/html": [
       "<table>\n",
       "    <thead>\n",
       "        <tr>\n",
       "            <th>person_id</th>\n",
       "            <th>name</th>\n",
       "            <th>died</th>\n",
       "            <th>born</th>\n",
       "            <th>age</th>\n",
       "        </tr>\n",
       "    </thead>\n",
       "    <tbody>\n",
       "        <tr>\n",
       "            <td>nm0384214</td>\n",
       "            <td>Dwayne Hill</td>\n",
       "            <td>None</td>\n",
       "            <td>None</td>\n",
       "            <td>None</td>\n",
       "        </tr>\n",
       "        <tr>\n",
       "            <td>nm0362443</td>\n",
       "            <td>Dave Hardman</td>\n",
       "            <td>None</td>\n",
       "            <td>1960</td>\n",
       "            <td>None</td>\n",
       "        </tr>\n",
       "        <tr>\n",
       "            <td>nm1560888</td>\n",
       "            <td>Rich Pryce-Jones</td>\n",
       "            <td>None</td>\n",
       "            <td>None</td>\n",
       "            <td>None</td>\n",
       "        </tr>\n",
       "        <tr>\n",
       "            <td>nm0006669</td>\n",
       "            <td>William Sadler</td>\n",
       "            <td>None</td>\n",
       "            <td>1950</td>\n",
       "            <td>None</td>\n",
       "        </tr>\n",
       "        <tr>\n",
       "            <td>nm1373094</td>\n",
       "            <td>Giada De Laurentiis</td>\n",
       "            <td>None</td>\n",
       "            <td>1970</td>\n",
       "            <td>None</td>\n",
       "        </tr>\n",
       "        <tr>\n",
       "            <td>nm7316782</td>\n",
       "            <td>Janine Hartmann</td>\n",
       "            <td>None</td>\n",
       "            <td>None</td>\n",
       "            <td>None</td>\n",
       "        </tr>\n",
       "        <tr>\n",
       "            <td>nm8671663</td>\n",
       "            <td>Tereza Taliánová</td>\n",
       "            <td>None</td>\n",
       "            <td>2005</td>\n",
       "            <td>None</td>\n",
       "        </tr>\n",
       "        <tr>\n",
       "            <td>nm10480297</td>\n",
       "            <td>Chris Heywood</td>\n",
       "            <td>None</td>\n",
       "            <td>None</td>\n",
       "            <td>None</td>\n",
       "        </tr>\n",
       "        <tr>\n",
       "            <td>nm10803545</td>\n",
       "            <td>Chengao Zhou</td>\n",
       "            <td>None</td>\n",
       "            <td>None</td>\n",
       "            <td>None</td>\n",
       "        </tr>\n",
       "        <tr>\n",
       "            <td>nm9849414</td>\n",
       "            <td>Mark Langley</td>\n",
       "            <td>None</td>\n",
       "            <td>None</td>\n",
       "            <td>None</td>\n",
       "        </tr>\n",
       "    </tbody>\n",
       "</table>\n",
       "<span style=\"font-style:italic;text-align:center;\">Truncated to <a href=\"https://jupysql.ploomber.io/en/latest/api/configuration.html#displaylimit\">displaylimit</a> of 10.</span>"
      ],
      "text/plain": [
       "+------------+---------------------+------+------+------+\n",
       "| person_id  |         name        | died | born | age  |\n",
       "+------------+---------------------+------+------+------+\n",
       "| nm0384214  |     Dwayne Hill     | None | None | None |\n",
       "| nm0362443  |     Dave Hardman    | None | 1960 | None |\n",
       "| nm1560888  |   Rich Pryce-Jones  | None | None | None |\n",
       "| nm0006669  |    William Sadler   | None | 1950 | None |\n",
       "| nm1373094  | Giada De Laurentiis | None | 1970 | None |\n",
       "| nm7316782  |   Janine Hartmann   | None | None | None |\n",
       "| nm8671663  |   Tereza Taliánová  | None | 2005 | None |\n",
       "| nm10480297 |    Chris Heywood    | None | None | None |\n",
       "| nm10803545 |     Chengao Zhou    | None | None | None |\n",
       "| nm9849414  |     Mark Langley    | None | None | None |\n",
       "+------------+---------------------+------+------+------+\n",
       "Truncated to displaylimit of 10."
      ]
     },
     "execution_count": 7,
     "metadata": {},
     "output_type": "execute_result"
    }
   ],
   "source": [
    "%%sql\n",
    "SELECT\n",
    "    person_id, name,\n",
    "    died, born,\n",
    "    died - born AS age                                                                     \n",
    "FROM people;"
   ]
  },
  {
   "cell_type": "markdown",
   "id": "7ba19f08-2013-4729-830c-eb3885fd1cad",
   "metadata": {},
   "source": [
    "## Null values and boolean expressions"
   ]
  },
  {
   "cell_type": "markdown",
   "id": "eebcf15d-8e58-4513-97ae-016a07d05f23",
   "metadata": {},
   "source": [
    "Compare/contrast the following three queries:"
   ]
  },
  {
   "cell_type": "markdown",
   "id": "f7fbde0d-b1c3-4166-bc32-072627eadaca",
   "metadata": {},
   "source": [
    "We are going to be using the `jupysql` library to connect our notebook to a PostgreSQL database server on your jupyterhub account. The next cell should do the trick; you should not see any error messages after it completes."
   ]
  },
  {
   "cell_type": "code",
   "execution_count": 8,
   "id": "12fd184d-f7c6-46eb-b6c0-890ce278cf57",
   "metadata": {},
   "outputs": [
    {
     "data": {
      "text/html": [
       "<span style=\"None\">Running query in &#x27;postgresql://jovyan@127.0.0.1:5432/imdb_lecture&#x27;</span>"
      ],
      "text/plain": [
       "Running query in 'postgresql://jovyan@127.0.0.1:5432/imdb_lecture'"
      ]
     },
     "metadata": {},
     "output_type": "display_data"
    },
    {
     "data": {
      "text/html": [
       "<span style=\"color: green\">2446 rows affected.</span>"
      ],
      "text/plain": [
       "2446 rows affected."
      ]
     },
     "metadata": {},
     "output_type": "display_data"
    },
    {
     "data": {
      "text/html": [
       "<table>\n",
       "    <thead>\n",
       "        <tr>\n",
       "            <th>born</th>\n",
       "        </tr>\n",
       "    </thead>\n",
       "    <tbody>\n",
       "        <tr>\n",
       "            <td>None</td>\n",
       "        </tr>\n",
       "        <tr>\n",
       "            <td>1960</td>\n",
       "        </tr>\n",
       "        <tr>\n",
       "            <td>None</td>\n",
       "        </tr>\n",
       "        <tr>\n",
       "            <td>1950</td>\n",
       "        </tr>\n",
       "        <tr>\n",
       "            <td>1970</td>\n",
       "        </tr>\n",
       "        <tr>\n",
       "            <td>None</td>\n",
       "        </tr>\n",
       "        <tr>\n",
       "            <td>2005</td>\n",
       "        </tr>\n",
       "        <tr>\n",
       "            <td>None</td>\n",
       "        </tr>\n",
       "        <tr>\n",
       "            <td>None</td>\n",
       "        </tr>\n",
       "        <tr>\n",
       "            <td>None</td>\n",
       "        </tr>\n",
       "    </tbody>\n",
       "</table>\n",
       "<span style=\"font-style:italic;text-align:center;\">Truncated to <a href=\"https://jupysql.ploomber.io/en/latest/api/configuration.html#displaylimit\">displaylimit</a> of 10.</span>"
      ],
      "text/plain": [
       "+------+\n",
       "| born |\n",
       "+------+\n",
       "| None |\n",
       "| 1960 |\n",
       "| None |\n",
       "| 1950 |\n",
       "| 1970 |\n",
       "| None |\n",
       "| 2005 |\n",
       "| None |\n",
       "| None |\n",
       "| None |\n",
       "+------+\n",
       "Truncated to displaylimit of 10."
      ]
     },
     "execution_count": 8,
     "metadata": {},
     "output_type": "execute_result"
    }
   ],
   "source": [
    "%%sql\n",
    "SELECT born\n",
    "FROM people;"
   ]
  },
  {
   "cell_type": "code",
   "execution_count": 9,
   "id": "380e48e7-8e0b-4a4e-945c-efe5a3d88729",
   "metadata": {},
   "outputs": [
    {
     "data": {
      "text/html": [
       "<span style=\"None\">Running query in &#x27;postgresql://jovyan@127.0.0.1:5432/imdb_lecture&#x27;</span>"
      ],
      "text/plain": [
       "Running query in 'postgresql://jovyan@127.0.0.1:5432/imdb_lecture'"
      ]
     },
     "metadata": {},
     "output_type": "display_data"
    },
    {
     "data": {
      "text/html": [
       "<span style=\"color: green\">2446 rows affected.</span>"
      ],
      "text/plain": [
       "2446 rows affected."
      ]
     },
     "metadata": {},
     "output_type": "display_data"
    },
    {
     "data": {
      "text/html": [
       "<table>\n",
       "    <thead>\n",
       "        <tr>\n",
       "            <th>born</th>\n",
       "        </tr>\n",
       "    </thead>\n",
       "    <tbody>\n",
       "        <tr>\n",
       "            <td>None</td>\n",
       "        </tr>\n",
       "        <tr>\n",
       "            <td>1960</td>\n",
       "        </tr>\n",
       "        <tr>\n",
       "            <td>None</td>\n",
       "        </tr>\n",
       "        <tr>\n",
       "            <td>1950</td>\n",
       "        </tr>\n",
       "        <tr>\n",
       "            <td>1970</td>\n",
       "        </tr>\n",
       "        <tr>\n",
       "            <td>None</td>\n",
       "        </tr>\n",
       "        <tr>\n",
       "            <td>2005</td>\n",
       "        </tr>\n",
       "        <tr>\n",
       "            <td>None</td>\n",
       "        </tr>\n",
       "        <tr>\n",
       "            <td>None</td>\n",
       "        </tr>\n",
       "        <tr>\n",
       "            <td>None</td>\n",
       "        </tr>\n",
       "    </tbody>\n",
       "</table>\n",
       "<span style=\"font-style:italic;text-align:center;\">Truncated to <a href=\"https://jupysql.ploomber.io/en/latest/api/configuration.html#displaylimit\">displaylimit</a> of 10.</span>"
      ],
      "text/plain": [
       "+------+\n",
       "| born |\n",
       "+------+\n",
       "| None |\n",
       "| 1960 |\n",
       "| None |\n",
       "| 1950 |\n",
       "| 1970 |\n",
       "| None |\n",
       "| 2005 |\n",
       "| None |\n",
       "| None |\n",
       "| None |\n",
       "+------+\n",
       "Truncated to displaylimit of 10."
      ]
     },
     "execution_count": 9,
     "metadata": {},
     "output_type": "execute_result"
    }
   ],
   "source": [
    "%%sql\n",
    "SELECT born\n",
    "FROM people\n",
    "WHERE born < 2023 OR\n",
    "    born IS NULL;"
   ]
  },
  {
   "cell_type": "code",
   "execution_count": 10,
   "id": "c76e23e3-8561-452a-9fed-a3b7b1454b43",
   "metadata": {},
   "outputs": [
    {
     "data": {
      "text/html": [
       "<span style=\"None\">Running query in &#x27;postgresql://jovyan@127.0.0.1:5432/imdb_lecture&#x27;</span>"
      ],
      "text/plain": [
       "Running query in 'postgresql://jovyan@127.0.0.1:5432/imdb_lecture'"
      ]
     },
     "metadata": {},
     "output_type": "display_data"
    },
    {
     "data": {
      "text/html": [
       "<span style=\"color: green\">1154 rows affected.</span>"
      ],
      "text/plain": [
       "1154 rows affected."
      ]
     },
     "metadata": {},
     "output_type": "display_data"
    },
    {
     "data": {
      "text/html": [
       "<table>\n",
       "    <thead>\n",
       "        <tr>\n",
       "            <th>born</th>\n",
       "        </tr>\n",
       "    </thead>\n",
       "    <tbody>\n",
       "        <tr>\n",
       "            <td>1960</td>\n",
       "        </tr>\n",
       "        <tr>\n",
       "            <td>1950</td>\n",
       "        </tr>\n",
       "        <tr>\n",
       "            <td>1970</td>\n",
       "        </tr>\n",
       "        <tr>\n",
       "            <td>2005</td>\n",
       "        </tr>\n",
       "        <tr>\n",
       "            <td>1980</td>\n",
       "        </tr>\n",
       "        <tr>\n",
       "            <td>1926</td>\n",
       "        </tr>\n",
       "        <tr>\n",
       "            <td>1975</td>\n",
       "        </tr>\n",
       "        <tr>\n",
       "            <td>1919</td>\n",
       "        </tr>\n",
       "        <tr>\n",
       "            <td>1940</td>\n",
       "        </tr>\n",
       "        <tr>\n",
       "            <td>1929</td>\n",
       "        </tr>\n",
       "    </tbody>\n",
       "</table>\n",
       "<span style=\"font-style:italic;text-align:center;\">Truncated to <a href=\"https://jupysql.ploomber.io/en/latest/api/configuration.html#displaylimit\">displaylimit</a> of 10.</span>"
      ],
      "text/plain": [
       "+------+\n",
       "| born |\n",
       "+------+\n",
       "| 1960 |\n",
       "| 1950 |\n",
       "| 1970 |\n",
       "| 2005 |\n",
       "| 1980 |\n",
       "| 1926 |\n",
       "| 1975 |\n",
       "| 1919 |\n",
       "| 1940 |\n",
       "| 1929 |\n",
       "+------+\n",
       "Truncated to displaylimit of 10."
      ]
     },
     "execution_count": 10,
     "metadata": {},
     "output_type": "execute_result"
    }
   ],
   "source": [
    "%%sql\n",
    "SELECT born\n",
    "FROM people\n",
    "WHERE born < 2023;"
   ]
  },
  {
   "cell_type": "markdown",
   "id": "9d84d372-fa46-4d84-8759-76a96776f6eb",
   "metadata": {},
   "source": [
    "## String matching and COUNT(*)"
   ]
  },
  {
   "cell_type": "code",
   "execution_count": 11,
   "id": "e81ac45f-c77c-4099-ab2a-4d5861b07de8",
   "metadata": {},
   "outputs": [
    {
     "data": {
      "text/html": [
       "<span style=\"None\">Running query in &#x27;postgresql://jovyan@127.0.0.1:5432/imdb_lecture&#x27;</span>"
      ],
      "text/plain": [
       "Running query in 'postgresql://jovyan@127.0.0.1:5432/imdb_lecture'"
      ]
     },
     "metadata": {},
     "output_type": "display_data"
    },
    {
     "data": {
      "text/html": [
       "<span style=\"color: green\">168 rows affected.</span>"
      ],
      "text/plain": [
       "168 rows affected."
      ]
     },
     "metadata": {},
     "output_type": "display_data"
    },
    {
     "data": {
      "text/html": [
       "<table>\n",
       "    <thead>\n",
       "        <tr>\n",
       "            <th>person_id</th>\n",
       "            <th>name</th>\n",
       "            <th>born</th>\n",
       "            <th>died</th>\n",
       "        </tr>\n",
       "    </thead>\n",
       "    <tbody>\n",
       "        <tr>\n",
       "            <td>nm10480297</td>\n",
       "            <td>Chris Heywood</td>\n",
       "            <td>None</td>\n",
       "            <td>None</td>\n",
       "        </tr>\n",
       "        <tr>\n",
       "            <td>nm9115948</td>\n",
       "            <td>Chris Bratt</td>\n",
       "            <td>None</td>\n",
       "            <td>None</td>\n",
       "        </tr>\n",
       "        <tr>\n",
       "            <td>nm6699360</td>\n",
       "            <td>Chris Evans</td>\n",
       "            <td>None</td>\n",
       "            <td>None</td>\n",
       "        </tr>\n",
       "        <tr>\n",
       "            <td>nm12363226</td>\n",
       "            <td>Chris Daniels</td>\n",
       "            <td>None</td>\n",
       "            <td>None</td>\n",
       "        </tr>\n",
       "        <tr>\n",
       "            <td>nm2653742</td>\n",
       "            <td>Chris Longo</td>\n",
       "            <td>None</td>\n",
       "            <td>None</td>\n",
       "        </tr>\n",
       "        <tr>\n",
       "            <td>nm5237685</td>\n",
       "            <td>Chris Evans</td>\n",
       "            <td>None</td>\n",
       "            <td>None</td>\n",
       "        </tr>\n",
       "        <tr>\n",
       "            <td>nm3074588</td>\n",
       "            <td>Christian Bland</td>\n",
       "            <td>None</td>\n",
       "            <td>None</td>\n",
       "        </tr>\n",
       "        <tr>\n",
       "            <td>nm5646425</td>\n",
       "            <td>Chris Evans</td>\n",
       "            <td>None</td>\n",
       "            <td>None</td>\n",
       "        </tr>\n",
       "        <tr>\n",
       "            <td>nm1470079</td>\n",
       "            <td>Chris Boiling</td>\n",
       "            <td>None</td>\n",
       "            <td>None</td>\n",
       "        </tr>\n",
       "        <tr>\n",
       "            <td>nm11632011</td>\n",
       "            <td>Chris Angold</td>\n",
       "            <td>None</td>\n",
       "            <td>None</td>\n",
       "        </tr>\n",
       "    </tbody>\n",
       "</table>\n",
       "<span style=\"font-style:italic;text-align:center;\">Truncated to <a href=\"https://jupysql.ploomber.io/en/latest/api/configuration.html#displaylimit\">displaylimit</a> of 10.</span>"
      ],
      "text/plain": [
       "+------------+-----------------+------+------+\n",
       "| person_id  |       name      | born | died |\n",
       "+------------+-----------------+------+------+\n",
       "| nm10480297 |  Chris Heywood  | None | None |\n",
       "| nm9115948  |   Chris Bratt   | None | None |\n",
       "| nm6699360  |   Chris Evans   | None | None |\n",
       "| nm12363226 |  Chris Daniels  | None | None |\n",
       "| nm2653742  |   Chris Longo   | None | None |\n",
       "| nm5237685  |   Chris Evans   | None | None |\n",
       "| nm3074588  | Christian Bland | None | None |\n",
       "| nm5646425  |   Chris Evans   | None | None |\n",
       "| nm1470079  |  Chris Boiling  | None | None |\n",
       "| nm11632011 |   Chris Angold  | None | None |\n",
       "+------------+-----------------+------+------+\n",
       "Truncated to displaylimit of 10."
      ]
     },
     "execution_count": 11,
     "metadata": {},
     "output_type": "execute_result"
    }
   ],
   "source": [
    "%%sql\n",
    "SELECT *\n",
    "FROM people\n",
    "WHERE name LIKE 'Chris%';"
   ]
  },
  {
   "cell_type": "markdown",
   "id": "224a3153-fd69-4f90-9390-c5dde9699bc4",
   "metadata": {},
   "source": [
    "## Multiple relations, Aliasing"
   ]
  },
  {
   "cell_type": "code",
   "execution_count": 12,
   "id": "352f2e93-4ca3-4faf-91b0-16a2a99e9e88",
   "metadata": {},
   "outputs": [
    {
     "data": {
      "text/html": [
       "<span style=\"None\">Running query in &#x27;postgresql://jovyan@127.0.0.1:5432/imdb_lecture&#x27;</span>"
      ],
      "text/plain": [
       "Running query in 'postgresql://jovyan@127.0.0.1:5432/imdb_lecture'"
      ]
     },
     "metadata": {},
     "output_type": "display_data"
    },
    {
     "data": {
      "text/html": [
       "<span style=\"color: green\">35268 rows affected.</span>"
      ],
      "text/plain": [
       "35268 rows affected."
      ]
     },
     "metadata": {},
     "output_type": "display_data"
    },
    {
     "data": {
      "text/html": [
       "<table>\n",
       "    <thead>\n",
       "        <tr>\n",
       "            <th>title_id</th>\n",
       "            <th>title</th>\n",
       "            <th>region</th>\n",
       "            <th>language</th>\n",
       "            <th>types</th>\n",
       "            <th>attributes</th>\n",
       "            <th>is_original_title</th>\n",
       "            <th>title_id_1</th>\n",
       "            <th>type</th>\n",
       "            <th>primary_title</th>\n",
       "            <th>original_title</th>\n",
       "            <th>is_adult</th>\n",
       "            <th>premiered</th>\n",
       "            <th>ended</th>\n",
       "            <th>runtime_minutes</th>\n",
       "            <th>genres</th>\n",
       "        </tr>\n",
       "    </thead>\n",
       "    <tbody>\n",
       "        <tr>\n",
       "            <td>tt0909144</td>\n",
       "            <td>46</td>\n",
       "            <td>US</td>\n",
       "            <td>None</td>\n",
       "            <td>None</td>\n",
       "            <td>None</td>\n",
       "            <td>0</td>\n",
       "            <td>tt0909144</td>\n",
       "            <td>tvEpisode</td>\n",
       "            <td>46</td>\n",
       "            <td>46</td>\n",
       "            <td>0</td>\n",
       "            <td>1971</td>\n",
       "            <td>None</td>\n",
       "            <td>None</td>\n",
       "            <td>Comedy,Family</td>\n",
       "        </tr>\n",
       "        <tr>\n",
       "            <td>tt0909144</td>\n",
       "            <td>46</td>\n",
       "            <td>US</td>\n",
       "            <td>None</td>\n",
       "            <td>None</td>\n",
       "            <td>None</td>\n",
       "            <td>0</td>\n",
       "            <td>tt0909144</td>\n",
       "            <td>tvEpisode</td>\n",
       "            <td>46</td>\n",
       "            <td>46</td>\n",
       "            <td>0</td>\n",
       "            <td>1971</td>\n",
       "            <td>None</td>\n",
       "            <td>None</td>\n",
       "            <td>Comedy,Family</td>\n",
       "        </tr>\n",
       "        <tr>\n",
       "            <td>tt3719148</td>\n",
       "            <td>Gustavo Lopez/Abel Pintos</td>\n",
       "            <td>AR</td>\n",
       "            <td>None</td>\n",
       "            <td>None</td>\n",
       "            <td>None</td>\n",
       "            <td>0</td>\n",
       "            <td>tt3719148</td>\n",
       "            <td>tvEpisode</td>\n",
       "            <td>Gustavo Lopez/Abel Pintos</td>\n",
       "            <td>Gustavo Lopez/Abel Pintos</td>\n",
       "            <td>0</td>\n",
       "            <td>2012</td>\n",
       "            <td>None</td>\n",
       "            <td>None</td>\n",
       "            <td>Comedy,Talk-Show</td>\n",
       "        </tr>\n",
       "        <tr>\n",
       "            <td>tt3719148</td>\n",
       "            <td>Gustavo Lopez/Abel Pintos</td>\n",
       "            <td>AR</td>\n",
       "            <td>None</td>\n",
       "            <td>None</td>\n",
       "            <td>None</td>\n",
       "            <td>0</td>\n",
       "            <td>tt3719148</td>\n",
       "            <td>tvEpisode</td>\n",
       "            <td>Gustavo Lopez/Abel Pintos</td>\n",
       "            <td>Gustavo Lopez/Abel Pintos</td>\n",
       "            <td>0</td>\n",
       "            <td>2012</td>\n",
       "            <td>None</td>\n",
       "            <td>None</td>\n",
       "            <td>Comedy,Talk-Show</td>\n",
       "        </tr>\n",
       "        <tr>\n",
       "            <td>tt9047618</td>\n",
       "            <td>The Women in the Sand</td>\n",
       "            <td>GB</td>\n",
       "            <td>None</td>\n",
       "            <td>imdbDisplay</td>\n",
       "            <td>None</td>\n",
       "            <td>0</td>\n",
       "            <td>tt9047618</td>\n",
       "            <td>movie</td>\n",
       "            <td>The Women in the Sand</td>\n",
       "            <td>The Women in the Sand</td>\n",
       "            <td>0</td>\n",
       "            <td>2017</td>\n",
       "            <td>None</td>\n",
       "            <td>73</td>\n",
       "            <td>Documentary</td>\n",
       "        </tr>\n",
       "        <tr>\n",
       "            <td>tt9047618</td>\n",
       "            <td>The Women in the Sand</td>\n",
       "            <td>GB</td>\n",
       "            <td>None</td>\n",
       "            <td>imdbDisplay</td>\n",
       "            <td>None</td>\n",
       "            <td>0</td>\n",
       "            <td>tt9047618</td>\n",
       "            <td>movie</td>\n",
       "            <td>The Women in the Sand</td>\n",
       "            <td>The Women in the Sand</td>\n",
       "            <td>0</td>\n",
       "            <td>2017</td>\n",
       "            <td>None</td>\n",
       "            <td>73</td>\n",
       "            <td>Documentary</td>\n",
       "        </tr>\n",
       "        <tr>\n",
       "            <td>tt1259521</td>\n",
       "            <td>La cabaña del terror</td>\n",
       "            <td>AR</td>\n",
       "            <td>None</td>\n",
       "            <td>imdbDisplay</td>\n",
       "            <td>None</td>\n",
       "            <td>0</td>\n",
       "            <td>tt1259521</td>\n",
       "            <td>movie</td>\n",
       "            <td>The Cabin in the Woods</td>\n",
       "            <td>The Cabin in the Woods</td>\n",
       "            <td>0</td>\n",
       "            <td>2011</td>\n",
       "            <td>None</td>\n",
       "            <td>95</td>\n",
       "            <td>Horror</td>\n",
       "        </tr>\n",
       "        <tr>\n",
       "            <td>tt1259521</td>\n",
       "            <td>La cabaña del terror</td>\n",
       "            <td>AR</td>\n",
       "            <td>None</td>\n",
       "            <td>imdbDisplay</td>\n",
       "            <td>None</td>\n",
       "            <td>0</td>\n",
       "            <td>tt1259521</td>\n",
       "            <td>movie</td>\n",
       "            <td>The Cabin in the Woods</td>\n",
       "            <td>The Cabin in the Woods</td>\n",
       "            <td>0</td>\n",
       "            <td>2011</td>\n",
       "            <td>None</td>\n",
       "            <td>95</td>\n",
       "            <td>Horror</td>\n",
       "        </tr>\n",
       "        <tr>\n",
       "            <td>tt5557622</td>\n",
       "            <td>एपिसोड #1.15</td>\n",
       "            <td>IN</td>\n",
       "            <td>hi</td>\n",
       "            <td>None</td>\n",
       "            <td>None</td>\n",
       "            <td>0</td>\n",
       "            <td>tt5557622</td>\n",
       "            <td>tvEpisode</td>\n",
       "            <td>Episode #1.15</td>\n",
       "            <td>Episode #1.15</td>\n",
       "            <td>0</td>\n",
       "            <td>2014</td>\n",
       "            <td>None</td>\n",
       "            <td>59</td>\n",
       "            <td>Drama</td>\n",
       "        </tr>\n",
       "        <tr>\n",
       "            <td>tt5557622</td>\n",
       "            <td>एपिसोड #1.15</td>\n",
       "            <td>IN</td>\n",
       "            <td>hi</td>\n",
       "            <td>None</td>\n",
       "            <td>None</td>\n",
       "            <td>0</td>\n",
       "            <td>tt5557622</td>\n",
       "            <td>tvEpisode</td>\n",
       "            <td>Episode #1.15</td>\n",
       "            <td>Episode #1.15</td>\n",
       "            <td>0</td>\n",
       "            <td>2014</td>\n",
       "            <td>None</td>\n",
       "            <td>59</td>\n",
       "            <td>Drama</td>\n",
       "        </tr>\n",
       "    </tbody>\n",
       "</table>\n",
       "<span style=\"font-style:italic;text-align:center;\">Truncated to <a href=\"https://jupysql.ploomber.io/en/latest/api/configuration.html#displaylimit\">displaylimit</a> of 10.</span>"
      ],
      "text/plain": [
       "+-----------+---------------------------+--------+----------+-------------+------------+-------------------+------------+-----------+---------------------------+---------------------------+----------+-----------+-------+-----------------+------------------+\n",
       "|  title_id |           title           | region | language |    types    | attributes | is_original_title | title_id_1 |    type   |       primary_title       |       original_title      | is_adult | premiered | ended | runtime_minutes |      genres      |\n",
       "+-----------+---------------------------+--------+----------+-------------+------------+-------------------+------------+-----------+---------------------------+---------------------------+----------+-----------+-------+-----------------+------------------+\n",
       "| tt0909144 |             46            |   US   |   None   |     None    |    None    |         0         | tt0909144  | tvEpisode |             46            |             46            |    0     |    1971   |  None |       None      |  Comedy,Family   |\n",
       "| tt0909144 |             46            |   US   |   None   |     None    |    None    |         0         | tt0909144  | tvEpisode |             46            |             46            |    0     |    1971   |  None |       None      |  Comedy,Family   |\n",
       "| tt3719148 | Gustavo Lopez/Abel Pintos |   AR   |   None   |     None    |    None    |         0         | tt3719148  | tvEpisode | Gustavo Lopez/Abel Pintos | Gustavo Lopez/Abel Pintos |    0     |    2012   |  None |       None      | Comedy,Talk-Show |\n",
       "| tt3719148 | Gustavo Lopez/Abel Pintos |   AR   |   None   |     None    |    None    |         0         | tt3719148  | tvEpisode | Gustavo Lopez/Abel Pintos | Gustavo Lopez/Abel Pintos |    0     |    2012   |  None |       None      | Comedy,Talk-Show |\n",
       "| tt9047618 |   The Women in the Sand   |   GB   |   None   | imdbDisplay |    None    |         0         | tt9047618  |   movie   |   The Women in the Sand   |   The Women in the Sand   |    0     |    2017   |  None |        73       |   Documentary    |\n",
       "| tt9047618 |   The Women in the Sand   |   GB   |   None   | imdbDisplay |    None    |         0         | tt9047618  |   movie   |   The Women in the Sand   |   The Women in the Sand   |    0     |    2017   |  None |        73       |   Documentary    |\n",
       "| tt1259521 |    La cabaña del terror   |   AR   |   None   | imdbDisplay |    None    |         0         | tt1259521  |   movie   |   The Cabin in the Woods  |   The Cabin in the Woods  |    0     |    2011   |  None |        95       |      Horror      |\n",
       "| tt1259521 |    La cabaña del terror   |   AR   |   None   | imdbDisplay |    None    |         0         | tt1259521  |   movie   |   The Cabin in the Woods  |   The Cabin in the Woods  |    0     |    2011   |  None |        95       |      Horror      |\n",
       "| tt5557622 |        एपिसोड #1.15       |   IN   |    hi    |     None    |    None    |         0         | tt5557622  | tvEpisode |       Episode #1.15       |       Episode #1.15       |    0     |    2014   |  None |        59       |      Drama       |\n",
       "| tt5557622 |        एपिसोड #1.15       |   IN   |    hi    |     None    |    None    |         0         | tt5557622  | tvEpisode |       Episode #1.15       |       Episode #1.15       |    0     |    2014   |  None |        59       |      Drama       |\n",
       "+-----------+---------------------------+--------+----------+-------------+------------+-------------------+------------+-----------+---------------------------+---------------------------+----------+-----------+-------+-----------------+------------------+\n",
       "Truncated to displaylimit of 10."
      ]
     },
     "execution_count": 12,
     "metadata": {},
     "output_type": "execute_result"
    }
   ],
   "source": [
    "%%sql\n",
    "SELECT *\n",
    "FROM\n",
    "    akas, titles\n",
    "WHERE\n",
    "    titles.title_id = \n",
    "        akas.title_id;"
   ]
  },
  {
   "cell_type": "code",
   "execution_count": 13,
   "id": "a1dfee41-f323-42f3-9809-354e8978297a",
   "metadata": {},
   "outputs": [
    {
     "data": {
      "text/html": [
       "<span style=\"None\">Running query in &#x27;postgresql://jovyan@127.0.0.1:5432/imdb_lecture&#x27;</span>"
      ],
      "text/plain": [
       "Running query in 'postgresql://jovyan@127.0.0.1:5432/imdb_lecture'"
      ]
     },
     "metadata": {},
     "output_type": "display_data"
    },
    {
     "data": {
      "text/html": [
       "<span style=\"color: green\">35268 rows affected.</span>"
      ],
      "text/plain": [
       "35268 rows affected."
      ]
     },
     "metadata": {},
     "output_type": "display_data"
    },
    {
     "data": {
      "text/html": [
       "<table>\n",
       "    <thead>\n",
       "        <tr>\n",
       "            <th>title_id</th>\n",
       "            <th>title</th>\n",
       "            <th>region</th>\n",
       "            <th>language</th>\n",
       "            <th>types</th>\n",
       "            <th>attributes</th>\n",
       "            <th>is_original_title</th>\n",
       "            <th>title_id_1</th>\n",
       "            <th>type</th>\n",
       "            <th>primary_title</th>\n",
       "            <th>original_title</th>\n",
       "            <th>is_adult</th>\n",
       "            <th>premiered</th>\n",
       "            <th>ended</th>\n",
       "            <th>runtime_minutes</th>\n",
       "            <th>genres</th>\n",
       "        </tr>\n",
       "    </thead>\n",
       "    <tbody>\n",
       "        <tr>\n",
       "            <td>tt0909144</td>\n",
       "            <td>46</td>\n",
       "            <td>US</td>\n",
       "            <td>None</td>\n",
       "            <td>None</td>\n",
       "            <td>None</td>\n",
       "            <td>0</td>\n",
       "            <td>tt0909144</td>\n",
       "            <td>tvEpisode</td>\n",
       "            <td>46</td>\n",
       "            <td>46</td>\n",
       "            <td>0</td>\n",
       "            <td>1971</td>\n",
       "            <td>None</td>\n",
       "            <td>None</td>\n",
       "            <td>Comedy,Family</td>\n",
       "        </tr>\n",
       "        <tr>\n",
       "            <td>tt0909144</td>\n",
       "            <td>46</td>\n",
       "            <td>US</td>\n",
       "            <td>None</td>\n",
       "            <td>None</td>\n",
       "            <td>None</td>\n",
       "            <td>0</td>\n",
       "            <td>tt0909144</td>\n",
       "            <td>tvEpisode</td>\n",
       "            <td>46</td>\n",
       "            <td>46</td>\n",
       "            <td>0</td>\n",
       "            <td>1971</td>\n",
       "            <td>None</td>\n",
       "            <td>None</td>\n",
       "            <td>Comedy,Family</td>\n",
       "        </tr>\n",
       "        <tr>\n",
       "            <td>tt3719148</td>\n",
       "            <td>Gustavo Lopez/Abel Pintos</td>\n",
       "            <td>AR</td>\n",
       "            <td>None</td>\n",
       "            <td>None</td>\n",
       "            <td>None</td>\n",
       "            <td>0</td>\n",
       "            <td>tt3719148</td>\n",
       "            <td>tvEpisode</td>\n",
       "            <td>Gustavo Lopez/Abel Pintos</td>\n",
       "            <td>Gustavo Lopez/Abel Pintos</td>\n",
       "            <td>0</td>\n",
       "            <td>2012</td>\n",
       "            <td>None</td>\n",
       "            <td>None</td>\n",
       "            <td>Comedy,Talk-Show</td>\n",
       "        </tr>\n",
       "        <tr>\n",
       "            <td>tt3719148</td>\n",
       "            <td>Gustavo Lopez/Abel Pintos</td>\n",
       "            <td>AR</td>\n",
       "            <td>None</td>\n",
       "            <td>None</td>\n",
       "            <td>None</td>\n",
       "            <td>0</td>\n",
       "            <td>tt3719148</td>\n",
       "            <td>tvEpisode</td>\n",
       "            <td>Gustavo Lopez/Abel Pintos</td>\n",
       "            <td>Gustavo Lopez/Abel Pintos</td>\n",
       "            <td>0</td>\n",
       "            <td>2012</td>\n",
       "            <td>None</td>\n",
       "            <td>None</td>\n",
       "            <td>Comedy,Talk-Show</td>\n",
       "        </tr>\n",
       "        <tr>\n",
       "            <td>tt9047618</td>\n",
       "            <td>The Women in the Sand</td>\n",
       "            <td>GB</td>\n",
       "            <td>None</td>\n",
       "            <td>imdbDisplay</td>\n",
       "            <td>None</td>\n",
       "            <td>0</td>\n",
       "            <td>tt9047618</td>\n",
       "            <td>movie</td>\n",
       "            <td>The Women in the Sand</td>\n",
       "            <td>The Women in the Sand</td>\n",
       "            <td>0</td>\n",
       "            <td>2017</td>\n",
       "            <td>None</td>\n",
       "            <td>73</td>\n",
       "            <td>Documentary</td>\n",
       "        </tr>\n",
       "        <tr>\n",
       "            <td>tt9047618</td>\n",
       "            <td>The Women in the Sand</td>\n",
       "            <td>GB</td>\n",
       "            <td>None</td>\n",
       "            <td>imdbDisplay</td>\n",
       "            <td>None</td>\n",
       "            <td>0</td>\n",
       "            <td>tt9047618</td>\n",
       "            <td>movie</td>\n",
       "            <td>The Women in the Sand</td>\n",
       "            <td>The Women in the Sand</td>\n",
       "            <td>0</td>\n",
       "            <td>2017</td>\n",
       "            <td>None</td>\n",
       "            <td>73</td>\n",
       "            <td>Documentary</td>\n",
       "        </tr>\n",
       "        <tr>\n",
       "            <td>tt1259521</td>\n",
       "            <td>La cabaña del terror</td>\n",
       "            <td>AR</td>\n",
       "            <td>None</td>\n",
       "            <td>imdbDisplay</td>\n",
       "            <td>None</td>\n",
       "            <td>0</td>\n",
       "            <td>tt1259521</td>\n",
       "            <td>movie</td>\n",
       "            <td>The Cabin in the Woods</td>\n",
       "            <td>The Cabin in the Woods</td>\n",
       "            <td>0</td>\n",
       "            <td>2011</td>\n",
       "            <td>None</td>\n",
       "            <td>95</td>\n",
       "            <td>Horror</td>\n",
       "        </tr>\n",
       "        <tr>\n",
       "            <td>tt1259521</td>\n",
       "            <td>La cabaña del terror</td>\n",
       "            <td>AR</td>\n",
       "            <td>None</td>\n",
       "            <td>imdbDisplay</td>\n",
       "            <td>None</td>\n",
       "            <td>0</td>\n",
       "            <td>tt1259521</td>\n",
       "            <td>movie</td>\n",
       "            <td>The Cabin in the Woods</td>\n",
       "            <td>The Cabin in the Woods</td>\n",
       "            <td>0</td>\n",
       "            <td>2011</td>\n",
       "            <td>None</td>\n",
       "            <td>95</td>\n",
       "            <td>Horror</td>\n",
       "        </tr>\n",
       "        <tr>\n",
       "            <td>tt5557622</td>\n",
       "            <td>एपिसोड #1.15</td>\n",
       "            <td>IN</td>\n",
       "            <td>hi</td>\n",
       "            <td>None</td>\n",
       "            <td>None</td>\n",
       "            <td>0</td>\n",
       "            <td>tt5557622</td>\n",
       "            <td>tvEpisode</td>\n",
       "            <td>Episode #1.15</td>\n",
       "            <td>Episode #1.15</td>\n",
       "            <td>0</td>\n",
       "            <td>2014</td>\n",
       "            <td>None</td>\n",
       "            <td>59</td>\n",
       "            <td>Drama</td>\n",
       "        </tr>\n",
       "        <tr>\n",
       "            <td>tt5557622</td>\n",
       "            <td>एपिसोड #1.15</td>\n",
       "            <td>IN</td>\n",
       "            <td>hi</td>\n",
       "            <td>None</td>\n",
       "            <td>None</td>\n",
       "            <td>0</td>\n",
       "            <td>tt5557622</td>\n",
       "            <td>tvEpisode</td>\n",
       "            <td>Episode #1.15</td>\n",
       "            <td>Episode #1.15</td>\n",
       "            <td>0</td>\n",
       "            <td>2014</td>\n",
       "            <td>None</td>\n",
       "            <td>59</td>\n",
       "            <td>Drama</td>\n",
       "        </tr>\n",
       "    </tbody>\n",
       "</table>\n",
       "<span style=\"font-style:italic;text-align:center;\">Truncated to <a href=\"https://jupysql.ploomber.io/en/latest/api/configuration.html#displaylimit\">displaylimit</a> of 10.</span>"
      ],
      "text/plain": [
       "+-----------+---------------------------+--------+----------+-------------+------------+-------------------+------------+-----------+---------------------------+---------------------------+----------+-----------+-------+-----------------+------------------+\n",
       "|  title_id |           title           | region | language |    types    | attributes | is_original_title | title_id_1 |    type   |       primary_title       |       original_title      | is_adult | premiered | ended | runtime_minutes |      genres      |\n",
       "+-----------+---------------------------+--------+----------+-------------+------------+-------------------+------------+-----------+---------------------------+---------------------------+----------+-----------+-------+-----------------+------------------+\n",
       "| tt0909144 |             46            |   US   |   None   |     None    |    None    |         0         | tt0909144  | tvEpisode |             46            |             46            |    0     |    1971   |  None |       None      |  Comedy,Family   |\n",
       "| tt0909144 |             46            |   US   |   None   |     None    |    None    |         0         | tt0909144  | tvEpisode |             46            |             46            |    0     |    1971   |  None |       None      |  Comedy,Family   |\n",
       "| tt3719148 | Gustavo Lopez/Abel Pintos |   AR   |   None   |     None    |    None    |         0         | tt3719148  | tvEpisode | Gustavo Lopez/Abel Pintos | Gustavo Lopez/Abel Pintos |    0     |    2012   |  None |       None      | Comedy,Talk-Show |\n",
       "| tt3719148 | Gustavo Lopez/Abel Pintos |   AR   |   None   |     None    |    None    |         0         | tt3719148  | tvEpisode | Gustavo Lopez/Abel Pintos | Gustavo Lopez/Abel Pintos |    0     |    2012   |  None |       None      | Comedy,Talk-Show |\n",
       "| tt9047618 |   The Women in the Sand   |   GB   |   None   | imdbDisplay |    None    |         0         | tt9047618  |   movie   |   The Women in the Sand   |   The Women in the Sand   |    0     |    2017   |  None |        73       |   Documentary    |\n",
       "| tt9047618 |   The Women in the Sand   |   GB   |   None   | imdbDisplay |    None    |         0         | tt9047618  |   movie   |   The Women in the Sand   |   The Women in the Sand   |    0     |    2017   |  None |        73       |   Documentary    |\n",
       "| tt1259521 |    La cabaña del terror   |   AR   |   None   | imdbDisplay |    None    |         0         | tt1259521  |   movie   |   The Cabin in the Woods  |   The Cabin in the Woods  |    0     |    2011   |  None |        95       |      Horror      |\n",
       "| tt1259521 |    La cabaña del terror   |   AR   |   None   | imdbDisplay |    None    |         0         | tt1259521  |   movie   |   The Cabin in the Woods  |   The Cabin in the Woods  |    0     |    2011   |  None |        95       |      Horror      |\n",
       "| tt5557622 |        एपिसोड #1.15       |   IN   |    hi    |     None    |    None    |         0         | tt5557622  | tvEpisode |       Episode #1.15       |       Episode #1.15       |    0     |    2014   |  None |        59       |      Drama       |\n",
       "| tt5557622 |        एपिसोड #1.15       |   IN   |    hi    |     None    |    None    |         0         | tt5557622  | tvEpisode |       Episode #1.15       |       Episode #1.15       |    0     |    2014   |  None |        59       |      Drama       |\n",
       "+-----------+---------------------------+--------+----------+-------------+------------+-------------------+------------+-----------+---------------------------+---------------------------+----------+-----------+-------+-----------------+------------------+\n",
       "Truncated to displaylimit of 10."
      ]
     },
     "execution_count": 13,
     "metadata": {},
     "output_type": "execute_result"
    }
   ],
   "source": [
    "%%sql\n",
    "SELECT *\n",
    "FROM\n",
    "    akas AS A,\n",
    "    titles T\n",
    "WHERE\n",
    "    A.title_id = T.title_id;"
   ]
  },
  {
   "cell_type": "code",
   "execution_count": 14,
   "id": "c1b4cf2d-f654-4c71-9bf1-b59e677a8890",
   "metadata": {},
   "outputs": [
    {
     "data": {
      "text/html": [
       "<span style=\"None\">Running query in &#x27;postgresql://jovyan@127.0.0.1:5432/imdb_lecture&#x27;</span>"
      ],
      "text/plain": [
       "Running query in 'postgresql://jovyan@127.0.0.1:5432/imdb_lecture'"
      ]
     },
     "metadata": {},
     "output_type": "display_data"
    },
    {
     "data": {
      "text/html": [
       "<span style=\"color: green\">35268 rows affected.</span>"
      ],
      "text/plain": [
       "35268 rows affected."
      ]
     },
     "metadata": {},
     "output_type": "display_data"
    },
    {
     "data": {
      "text/html": [
       "<table>\n",
       "    <thead>\n",
       "        <tr>\n",
       "            <th>title_id</th>\n",
       "            <th>title</th>\n",
       "            <th>region</th>\n",
       "            <th>language</th>\n",
       "            <th>types</th>\n",
       "            <th>attributes</th>\n",
       "            <th>is_original_title</th>\n",
       "            <th>title_id_1</th>\n",
       "            <th>type</th>\n",
       "            <th>primary_title</th>\n",
       "            <th>original_title</th>\n",
       "            <th>is_adult</th>\n",
       "            <th>premiered</th>\n",
       "            <th>ended</th>\n",
       "            <th>runtime_minutes</th>\n",
       "            <th>genres</th>\n",
       "        </tr>\n",
       "    </thead>\n",
       "    <tbody>\n",
       "        <tr>\n",
       "            <td>tt0909144</td>\n",
       "            <td>46</td>\n",
       "            <td>US</td>\n",
       "            <td>None</td>\n",
       "            <td>None</td>\n",
       "            <td>None</td>\n",
       "            <td>0</td>\n",
       "            <td>tt0909144</td>\n",
       "            <td>tvEpisode</td>\n",
       "            <td>46</td>\n",
       "            <td>46</td>\n",
       "            <td>0</td>\n",
       "            <td>1971</td>\n",
       "            <td>None</td>\n",
       "            <td>None</td>\n",
       "            <td>Comedy,Family</td>\n",
       "        </tr>\n",
       "        <tr>\n",
       "            <td>tt0909144</td>\n",
       "            <td>46</td>\n",
       "            <td>US</td>\n",
       "            <td>None</td>\n",
       "            <td>None</td>\n",
       "            <td>None</td>\n",
       "            <td>0</td>\n",
       "            <td>tt0909144</td>\n",
       "            <td>tvEpisode</td>\n",
       "            <td>46</td>\n",
       "            <td>46</td>\n",
       "            <td>0</td>\n",
       "            <td>1971</td>\n",
       "            <td>None</td>\n",
       "            <td>None</td>\n",
       "            <td>Comedy,Family</td>\n",
       "        </tr>\n",
       "        <tr>\n",
       "            <td>tt3719148</td>\n",
       "            <td>Gustavo Lopez/Abel Pintos</td>\n",
       "            <td>AR</td>\n",
       "            <td>None</td>\n",
       "            <td>None</td>\n",
       "            <td>None</td>\n",
       "            <td>0</td>\n",
       "            <td>tt3719148</td>\n",
       "            <td>tvEpisode</td>\n",
       "            <td>Gustavo Lopez/Abel Pintos</td>\n",
       "            <td>Gustavo Lopez/Abel Pintos</td>\n",
       "            <td>0</td>\n",
       "            <td>2012</td>\n",
       "            <td>None</td>\n",
       "            <td>None</td>\n",
       "            <td>Comedy,Talk-Show</td>\n",
       "        </tr>\n",
       "        <tr>\n",
       "            <td>tt3719148</td>\n",
       "            <td>Gustavo Lopez/Abel Pintos</td>\n",
       "            <td>AR</td>\n",
       "            <td>None</td>\n",
       "            <td>None</td>\n",
       "            <td>None</td>\n",
       "            <td>0</td>\n",
       "            <td>tt3719148</td>\n",
       "            <td>tvEpisode</td>\n",
       "            <td>Gustavo Lopez/Abel Pintos</td>\n",
       "            <td>Gustavo Lopez/Abel Pintos</td>\n",
       "            <td>0</td>\n",
       "            <td>2012</td>\n",
       "            <td>None</td>\n",
       "            <td>None</td>\n",
       "            <td>Comedy,Talk-Show</td>\n",
       "        </tr>\n",
       "        <tr>\n",
       "            <td>tt9047618</td>\n",
       "            <td>The Women in the Sand</td>\n",
       "            <td>GB</td>\n",
       "            <td>None</td>\n",
       "            <td>imdbDisplay</td>\n",
       "            <td>None</td>\n",
       "            <td>0</td>\n",
       "            <td>tt9047618</td>\n",
       "            <td>movie</td>\n",
       "            <td>The Women in the Sand</td>\n",
       "            <td>The Women in the Sand</td>\n",
       "            <td>0</td>\n",
       "            <td>2017</td>\n",
       "            <td>None</td>\n",
       "            <td>73</td>\n",
       "            <td>Documentary</td>\n",
       "        </tr>\n",
       "        <tr>\n",
       "            <td>tt9047618</td>\n",
       "            <td>The Women in the Sand</td>\n",
       "            <td>GB</td>\n",
       "            <td>None</td>\n",
       "            <td>imdbDisplay</td>\n",
       "            <td>None</td>\n",
       "            <td>0</td>\n",
       "            <td>tt9047618</td>\n",
       "            <td>movie</td>\n",
       "            <td>The Women in the Sand</td>\n",
       "            <td>The Women in the Sand</td>\n",
       "            <td>0</td>\n",
       "            <td>2017</td>\n",
       "            <td>None</td>\n",
       "            <td>73</td>\n",
       "            <td>Documentary</td>\n",
       "        </tr>\n",
       "        <tr>\n",
       "            <td>tt1259521</td>\n",
       "            <td>La cabaña del terror</td>\n",
       "            <td>AR</td>\n",
       "            <td>None</td>\n",
       "            <td>imdbDisplay</td>\n",
       "            <td>None</td>\n",
       "            <td>0</td>\n",
       "            <td>tt1259521</td>\n",
       "            <td>movie</td>\n",
       "            <td>The Cabin in the Woods</td>\n",
       "            <td>The Cabin in the Woods</td>\n",
       "            <td>0</td>\n",
       "            <td>2011</td>\n",
       "            <td>None</td>\n",
       "            <td>95</td>\n",
       "            <td>Horror</td>\n",
       "        </tr>\n",
       "        <tr>\n",
       "            <td>tt1259521</td>\n",
       "            <td>La cabaña del terror</td>\n",
       "            <td>AR</td>\n",
       "            <td>None</td>\n",
       "            <td>imdbDisplay</td>\n",
       "            <td>None</td>\n",
       "            <td>0</td>\n",
       "            <td>tt1259521</td>\n",
       "            <td>movie</td>\n",
       "            <td>The Cabin in the Woods</td>\n",
       "            <td>The Cabin in the Woods</td>\n",
       "            <td>0</td>\n",
       "            <td>2011</td>\n",
       "            <td>None</td>\n",
       "            <td>95</td>\n",
       "            <td>Horror</td>\n",
       "        </tr>\n",
       "        <tr>\n",
       "            <td>tt5557622</td>\n",
       "            <td>एपिसोड #1.15</td>\n",
       "            <td>IN</td>\n",
       "            <td>hi</td>\n",
       "            <td>None</td>\n",
       "            <td>None</td>\n",
       "            <td>0</td>\n",
       "            <td>tt5557622</td>\n",
       "            <td>tvEpisode</td>\n",
       "            <td>Episode #1.15</td>\n",
       "            <td>Episode #1.15</td>\n",
       "            <td>0</td>\n",
       "            <td>2014</td>\n",
       "            <td>None</td>\n",
       "            <td>59</td>\n",
       "            <td>Drama</td>\n",
       "        </tr>\n",
       "        <tr>\n",
       "            <td>tt5557622</td>\n",
       "            <td>एपिसोड #1.15</td>\n",
       "            <td>IN</td>\n",
       "            <td>hi</td>\n",
       "            <td>None</td>\n",
       "            <td>None</td>\n",
       "            <td>0</td>\n",
       "            <td>tt5557622</td>\n",
       "            <td>tvEpisode</td>\n",
       "            <td>Episode #1.15</td>\n",
       "            <td>Episode #1.15</td>\n",
       "            <td>0</td>\n",
       "            <td>2014</td>\n",
       "            <td>None</td>\n",
       "            <td>59</td>\n",
       "            <td>Drama</td>\n",
       "        </tr>\n",
       "    </tbody>\n",
       "</table>\n",
       "<span style=\"font-style:italic;text-align:center;\">Truncated to <a href=\"https://jupysql.ploomber.io/en/latest/api/configuration.html#displaylimit\">displaylimit</a> of 10.</span>"
      ],
      "text/plain": [
       "+-----------+---------------------------+--------+----------+-------------+------------+-------------------+------------+-----------+---------------------------+---------------------------+----------+-----------+-------+-----------------+------------------+\n",
       "|  title_id |           title           | region | language |    types    | attributes | is_original_title | title_id_1 |    type   |       primary_title       |       original_title      | is_adult | premiered | ended | runtime_minutes |      genres      |\n",
       "+-----------+---------------------------+--------+----------+-------------+------------+-------------------+------------+-----------+---------------------------+---------------------------+----------+-----------+-------+-----------------+------------------+\n",
       "| tt0909144 |             46            |   US   |   None   |     None    |    None    |         0         | tt0909144  | tvEpisode |             46            |             46            |    0     |    1971   |  None |       None      |  Comedy,Family   |\n",
       "| tt0909144 |             46            |   US   |   None   |     None    |    None    |         0         | tt0909144  | tvEpisode |             46            |             46            |    0     |    1971   |  None |       None      |  Comedy,Family   |\n",
       "| tt3719148 | Gustavo Lopez/Abel Pintos |   AR   |   None   |     None    |    None    |         0         | tt3719148  | tvEpisode | Gustavo Lopez/Abel Pintos | Gustavo Lopez/Abel Pintos |    0     |    2012   |  None |       None      | Comedy,Talk-Show |\n",
       "| tt3719148 | Gustavo Lopez/Abel Pintos |   AR   |   None   |     None    |    None    |         0         | tt3719148  | tvEpisode | Gustavo Lopez/Abel Pintos | Gustavo Lopez/Abel Pintos |    0     |    2012   |  None |       None      | Comedy,Talk-Show |\n",
       "| tt9047618 |   The Women in the Sand   |   GB   |   None   | imdbDisplay |    None    |         0         | tt9047618  |   movie   |   The Women in the Sand   |   The Women in the Sand   |    0     |    2017   |  None |        73       |   Documentary    |\n",
       "| tt9047618 |   The Women in the Sand   |   GB   |   None   | imdbDisplay |    None    |         0         | tt9047618  |   movie   |   The Women in the Sand   |   The Women in the Sand   |    0     |    2017   |  None |        73       |   Documentary    |\n",
       "| tt1259521 |    La cabaña del terror   |   AR   |   None   | imdbDisplay |    None    |         0         | tt1259521  |   movie   |   The Cabin in the Woods  |   The Cabin in the Woods  |    0     |    2011   |  None |        95       |      Horror      |\n",
       "| tt1259521 |    La cabaña del terror   |   AR   |   None   | imdbDisplay |    None    |         0         | tt1259521  |   movie   |   The Cabin in the Woods  |   The Cabin in the Woods  |    0     |    2011   |  None |        95       |      Horror      |\n",
       "| tt5557622 |        एपिसोड #1.15       |   IN   |    hi    |     None    |    None    |         0         | tt5557622  | tvEpisode |       Episode #1.15       |       Episode #1.15       |    0     |    2014   |  None |        59       |      Drama       |\n",
       "| tt5557622 |        एपिसोड #1.15       |   IN   |    hi    |     None    |    None    |         0         | tt5557622  | tvEpisode |       Episode #1.15       |       Episode #1.15       |    0     |    2014   |  None |        59       |      Drama       |\n",
       "+-----------+---------------------------+--------+----------+-------------+------------+-------------------+------------+-----------+---------------------------+---------------------------+----------+-----------+-------+-----------------+------------------+\n",
       "Truncated to displaylimit of 10."
      ]
     },
     "execution_count": 14,
     "metadata": {},
     "output_type": "execute_result"
    }
   ],
   "source": [
    "%%sql\n",
    "SELECT *\n",
    "FROM akas A\n",
    "  INNER JOIN titles T\n",
    "    ON A.title_id = T.title_id"
   ]
  },
  {
   "cell_type": "markdown",
   "id": "01660b0a-29de-4cd3-ad47-591c9f06e186",
   "metadata": {},
   "source": [
    "# IMDB exercise 1"
   ]
  },
  {
   "cell_type": "markdown",
   "id": "acac3322-0f60-4513-bcca-71f4b792cd35",
   "metadata": {},
   "source": [
    "What does each record represent in the below result? Why?"
   ]
  },
  {
   "cell_type": "code",
   "execution_count": 15,
   "id": "f23d4e08-d389-452e-8b17-eeca5b6ae5c5",
   "metadata": {},
   "outputs": [
    {
     "data": {
      "text/html": [
       "<span style=\"None\">Running query in &#x27;postgresql://jovyan@127.0.0.1:5432/imdb_lecture&#x27;</span>"
      ],
      "text/plain": [
       "Running query in 'postgresql://jovyan@127.0.0.1:5432/imdb_lecture'"
      ]
     },
     "metadata": {},
     "output_type": "display_data"
    },
    {
     "data": {
      "text/html": [
       "<span style=\"color: green\">25368 rows affected.</span>"
      ],
      "text/plain": [
       "25368 rows affected."
      ]
     },
     "metadata": {},
     "output_type": "display_data"
    },
    {
     "data": {
      "text/html": [
       "<table>\n",
       "    <thead>\n",
       "        <tr>\n",
       "            <th>title_id</th>\n",
       "            <th>type</th>\n",
       "            <th>primary_title</th>\n",
       "            <th>original_title</th>\n",
       "            <th>is_adult</th>\n",
       "            <th>premiered</th>\n",
       "            <th>ended</th>\n",
       "            <th>runtime_minutes</th>\n",
       "            <th>genres</th>\n",
       "            <th>title_id_1</th>\n",
       "            <th>person_id</th>\n",
       "            <th>category</th>\n",
       "            <th>job</th>\n",
       "            <th>person_id_1</th>\n",
       "            <th>name</th>\n",
       "            <th>born</th>\n",
       "            <th>died</th>\n",
       "        </tr>\n",
       "    </thead>\n",
       "    <tbody>\n",
       "        <tr>\n",
       "            <td>tt0008572</td>\n",
       "            <td>movie</td>\n",
       "            <td>The Silent Master</td>\n",
       "            <td>The Silent Master</td>\n",
       "            <td>0</td>\n",
       "            <td>1917</td>\n",
       "            <td>None</td>\n",
       "            <td>None</td>\n",
       "            <td>Crime,Drama</td>\n",
       "            <td>tt0008572</td>\n",
       "            <td>nm0913094</td>\n",
       "            <td>actor</td>\n",
       "            <td>None</td>\n",
       "            <td>nm0913094</td>\n",
       "            <td>Robert Warwick</td>\n",
       "            <td>1878</td>\n",
       "            <td>1964</td>\n",
       "        </tr>\n",
       "        <tr>\n",
       "            <td>tt0008572</td>\n",
       "            <td>movie</td>\n",
       "            <td>The Silent Master</td>\n",
       "            <td>The Silent Master</td>\n",
       "            <td>0</td>\n",
       "            <td>1917</td>\n",
       "            <td>None</td>\n",
       "            <td>None</td>\n",
       "            <td>Crime,Drama</td>\n",
       "            <td>tt0008572</td>\n",
       "            <td>nm0913094</td>\n",
       "            <td>actor</td>\n",
       "            <td>None</td>\n",
       "            <td>nm0913094</td>\n",
       "            <td>Robert Warwick</td>\n",
       "            <td>1878</td>\n",
       "            <td>1964</td>\n",
       "        </tr>\n",
       "        <tr>\n",
       "            <td>tt0008572</td>\n",
       "            <td>movie</td>\n",
       "            <td>The Silent Master</td>\n",
       "            <td>The Silent Master</td>\n",
       "            <td>0</td>\n",
       "            <td>1917</td>\n",
       "            <td>None</td>\n",
       "            <td>70</td>\n",
       "            <td>Crime,Drama</td>\n",
       "            <td>tt0008572</td>\n",
       "            <td>nm0913094</td>\n",
       "            <td>actor</td>\n",
       "            <td>None</td>\n",
       "            <td>nm0913094</td>\n",
       "            <td>Robert Warwick</td>\n",
       "            <td>1878</td>\n",
       "            <td>1964</td>\n",
       "        </tr>\n",
       "        <tr>\n",
       "            <td>tt0008572</td>\n",
       "            <td>movie</td>\n",
       "            <td>The Silent Master</td>\n",
       "            <td>The Silent Master</td>\n",
       "            <td>0</td>\n",
       "            <td>1917</td>\n",
       "            <td>None</td>\n",
       "            <td>70</td>\n",
       "            <td>Crime,Drama</td>\n",
       "            <td>tt0008572</td>\n",
       "            <td>nm0913094</td>\n",
       "            <td>actor</td>\n",
       "            <td>None</td>\n",
       "            <td>nm0913094</td>\n",
       "            <td>Robert Warwick</td>\n",
       "            <td>1878</td>\n",
       "            <td>1964</td>\n",
       "        </tr>\n",
       "        <tr>\n",
       "            <td>tt0008572</td>\n",
       "            <td>movie</td>\n",
       "            <td>The Silent Master</td>\n",
       "            <td>The Silent Master</td>\n",
       "            <td>0</td>\n",
       "            <td>1917</td>\n",
       "            <td>None</td>\n",
       "            <td>None</td>\n",
       "            <td>Crime,Drama</td>\n",
       "            <td>tt0008572</td>\n",
       "            <td>nm0913094</td>\n",
       "            <td>actor</td>\n",
       "            <td>None</td>\n",
       "            <td>nm0913094</td>\n",
       "            <td>Robert Warwick</td>\n",
       "            <td>1878</td>\n",
       "            <td>1964</td>\n",
       "        </tr>\n",
       "        <tr>\n",
       "            <td>tt0008572</td>\n",
       "            <td>movie</td>\n",
       "            <td>The Silent Master</td>\n",
       "            <td>The Silent Master</td>\n",
       "            <td>0</td>\n",
       "            <td>1917</td>\n",
       "            <td>None</td>\n",
       "            <td>None</td>\n",
       "            <td>Crime,Drama</td>\n",
       "            <td>tt0008572</td>\n",
       "            <td>nm0913094</td>\n",
       "            <td>actor</td>\n",
       "            <td>None</td>\n",
       "            <td>nm0913094</td>\n",
       "            <td>Robert Warwick</td>\n",
       "            <td>1878</td>\n",
       "            <td>1964</td>\n",
       "        </tr>\n",
       "        <tr>\n",
       "            <td>tt0008572</td>\n",
       "            <td>movie</td>\n",
       "            <td>The Silent Master</td>\n",
       "            <td>The Silent Master</td>\n",
       "            <td>0</td>\n",
       "            <td>1917</td>\n",
       "            <td>None</td>\n",
       "            <td>70</td>\n",
       "            <td>Crime,Drama</td>\n",
       "            <td>tt0008572</td>\n",
       "            <td>nm0913094</td>\n",
       "            <td>actor</td>\n",
       "            <td>None</td>\n",
       "            <td>nm0913094</td>\n",
       "            <td>Robert Warwick</td>\n",
       "            <td>1878</td>\n",
       "            <td>1964</td>\n",
       "        </tr>\n",
       "        <tr>\n",
       "            <td>tt0008572</td>\n",
       "            <td>movie</td>\n",
       "            <td>The Silent Master</td>\n",
       "            <td>The Silent Master</td>\n",
       "            <td>0</td>\n",
       "            <td>1917</td>\n",
       "            <td>None</td>\n",
       "            <td>70</td>\n",
       "            <td>Crime,Drama</td>\n",
       "            <td>tt0008572</td>\n",
       "            <td>nm0913094</td>\n",
       "            <td>actor</td>\n",
       "            <td>None</td>\n",
       "            <td>nm0913094</td>\n",
       "            <td>Robert Warwick</td>\n",
       "            <td>1878</td>\n",
       "            <td>1964</td>\n",
       "        </tr>\n",
       "        <tr>\n",
       "            <td>tt0009202</td>\n",
       "            <td>movie</td>\n",
       "            <td>The House of Glass</td>\n",
       "            <td>The House of Glass</td>\n",
       "            <td>0</td>\n",
       "            <td>1918</td>\n",
       "            <td>None</td>\n",
       "            <td>50</td>\n",
       "            <td>Drama</td>\n",
       "            <td>tt0009202</td>\n",
       "            <td>nm0154352</td>\n",
       "            <td>director</td>\n",
       "            <td>None</td>\n",
       "            <td>nm0154352</td>\n",
       "            <td>Emile Chautard</td>\n",
       "            <td>1864</td>\n",
       "            <td>1934</td>\n",
       "        </tr>\n",
       "        <tr>\n",
       "            <td>tt0009202</td>\n",
       "            <td>movie</td>\n",
       "            <td>The House of Glass</td>\n",
       "            <td>The House of Glass</td>\n",
       "            <td>0</td>\n",
       "            <td>1918</td>\n",
       "            <td>None</td>\n",
       "            <td>50</td>\n",
       "            <td>Drama</td>\n",
       "            <td>tt0009202</td>\n",
       "            <td>nm0154352</td>\n",
       "            <td>director</td>\n",
       "            <td>None</td>\n",
       "            <td>nm0154352</td>\n",
       "            <td>Emile Chautard</td>\n",
       "            <td>1864</td>\n",
       "            <td>1934</td>\n",
       "        </tr>\n",
       "    </tbody>\n",
       "</table>\n",
       "<span style=\"font-style:italic;text-align:center;\">Truncated to <a href=\"https://jupysql.ploomber.io/en/latest/api/configuration.html#displaylimit\">displaylimit</a> of 10.</span>"
      ],
      "text/plain": [
       "+-----------+-------+--------------------+--------------------+----------+-----------+-------+-----------------+-------------+------------+-----------+----------+------+-------------+----------------+------+------+\n",
       "|  title_id |  type |   primary_title    |   original_title   | is_adult | premiered | ended | runtime_minutes |    genres   | title_id_1 | person_id | category | job  | person_id_1 |      name      | born | died |\n",
       "+-----------+-------+--------------------+--------------------+----------+-----------+-------+-----------------+-------------+------------+-----------+----------+------+-------------+----------------+------+------+\n",
       "| tt0008572 | movie | The Silent Master  | The Silent Master  |    0     |    1917   |  None |       None      | Crime,Drama | tt0008572  | nm0913094 |  actor   | None |  nm0913094  | Robert Warwick | 1878 | 1964 |\n",
       "| tt0008572 | movie | The Silent Master  | The Silent Master  |    0     |    1917   |  None |       None      | Crime,Drama | tt0008572  | nm0913094 |  actor   | None |  nm0913094  | Robert Warwick | 1878 | 1964 |\n",
       "| tt0008572 | movie | The Silent Master  | The Silent Master  |    0     |    1917   |  None |        70       | Crime,Drama | tt0008572  | nm0913094 |  actor   | None |  nm0913094  | Robert Warwick | 1878 | 1964 |\n",
       "| tt0008572 | movie | The Silent Master  | The Silent Master  |    0     |    1917   |  None |        70       | Crime,Drama | tt0008572  | nm0913094 |  actor   | None |  nm0913094  | Robert Warwick | 1878 | 1964 |\n",
       "| tt0008572 | movie | The Silent Master  | The Silent Master  |    0     |    1917   |  None |       None      | Crime,Drama | tt0008572  | nm0913094 |  actor   | None |  nm0913094  | Robert Warwick | 1878 | 1964 |\n",
       "| tt0008572 | movie | The Silent Master  | The Silent Master  |    0     |    1917   |  None |       None      | Crime,Drama | tt0008572  | nm0913094 |  actor   | None |  nm0913094  | Robert Warwick | 1878 | 1964 |\n",
       "| tt0008572 | movie | The Silent Master  | The Silent Master  |    0     |    1917   |  None |        70       | Crime,Drama | tt0008572  | nm0913094 |  actor   | None |  nm0913094  | Robert Warwick | 1878 | 1964 |\n",
       "| tt0008572 | movie | The Silent Master  | The Silent Master  |    0     |    1917   |  None |        70       | Crime,Drama | tt0008572  | nm0913094 |  actor   | None |  nm0913094  | Robert Warwick | 1878 | 1964 |\n",
       "| tt0009202 | movie | The House of Glass | The House of Glass |    0     |    1918   |  None |        50       |    Drama    | tt0009202  | nm0154352 | director | None |  nm0154352  | Emile Chautard | 1864 | 1934 |\n",
       "| tt0009202 | movie | The House of Glass | The House of Glass |    0     |    1918   |  None |        50       |    Drama    | tt0009202  | nm0154352 | director | None |  nm0154352  | Emile Chautard | 1864 | 1934 |\n",
       "+-----------+-------+--------------------+--------------------+----------+-----------+-------+-----------------+-------------+------------+-----------+----------+------+-------------+----------------+------+------+\n",
       "Truncated to displaylimit of 10."
      ]
     },
     "execution_count": 15,
     "metadata": {},
     "output_type": "execute_result"
    }
   ],
   "source": [
    "%%sql\n",
    "SELECT *\n",
    "FROM titles\n",
    "\n",
    "  INNER JOIN crew \n",
    "    ON crew.title_id = \n",
    "       titles.title_id\n",
    "\n",
    "\n",
    "  INNER JOIN people\n",
    "\t ON people.person_id = \n",
    "       crew.person_id;"
   ]
  },
  {
   "cell_type": "markdown",
   "id": "50931934-4c17-49af-b479-073d007c030d",
   "metadata": {},
   "source": [
    "How do we modify the above query so that it gets the\n",
    "titles and IDs of Michelle Yeoh movies?\n"
   ]
  },
  {
   "cell_type": "markdown",
   "id": "c4efeefe-97b4-44b5-b9af-0a0bf6e9092d",
   "metadata": {},
   "source": [
    "Let's cache your query string using some fancy `jupysql` formatting:"
   ]
  },
  {
   "cell_type": "code",
   "execution_count": 16,
   "id": "1f909f6c-1a44-4cea-81e8-00e49ee07d0d",
   "metadata": {},
   "outputs": [],
   "source": [
    "# write your query below\n",
    "# while it's bad style, for this to work,\n",
    "# don't end with a semicolon.\n",
    "ex1_query = \"\"\"\n",
    "-- fill in your query here --\n",
    "\"\"\""
   ]
  },
  {
   "cell_type": "code",
   "execution_count": null,
   "id": "012553ad-6f56-4a5b-b193-ffb7f53d6b07",
   "metadata": {},
   "outputs": [],
   "source": [
    "%%sql\n",
    "{{ex1_query}};"
   ]
  },
  {
   "cell_type": "markdown",
   "id": "8713106a-cd20-4e55-ba8a-3148dee36966",
   "metadata": {},
   "source": [
    "# IMDB exercise 2"
   ]
  },
  {
   "cell_type": "markdown",
   "id": "ddc52580-23f8-4afc-8865-8d88b2aca326",
   "metadata": {},
   "source": [
    "How do we write a query that gets the names of Michelle Yeoh movies\n",
    "that have a rating of at least 8.0?"
   ]
  },
  {
   "cell_type": "markdown",
   "id": "23862080-23b8-4aca-857c-0aec9b42d3f6",
   "metadata": {},
   "source": [
    "First, let's create a view called `yeoh_movies`. More in a bit."
   ]
  },
  {
   "cell_type": "code",
   "execution_count": null,
   "id": "46c8c91e-2a8d-426d-97b0-dfb468a81fc7",
   "metadata": {},
   "outputs": [],
   "source": [
    "%%sql\n",
    "CREATE VIEW yeoh_movies AS (\n",
    "  {{ex1_query}}\n",
    ");"
   ]
  },
  {
   "cell_type": "code",
   "execution_count": null,
   "id": "dd57e00b-7175-4cd0-a42b-8fad9a4eb78d",
   "metadata": {},
   "outputs": [],
   "source": [
    "%sql SELECT * FROM yeoh_movies;"
   ]
  },
  {
   "cell_type": "code",
   "execution_count": null,
   "id": "6cd26003-c947-42e3-a7ea-cb3a01ef81f8",
   "metadata": {},
   "outputs": [],
   "source": [
    "%%sql\n",
    "SELECT primary_title\n",
    "FROM ratings\n",
    "INNER JOIN yeoh_movies\n",
    "  ON ratings.title_id = yeoh_movies.title_id\n",
    "WHERE rating >= 7.0;"
   ]
  },
  {
   "cell_type": "markdown",
   "id": "4e1bb626-1d6b-4cb1-b46a-e29c21014272",
   "metadata": {},
   "source": [
    "## Quick Peek: The Natural Join"
   ]
  },
  {
   "cell_type": "code",
   "execution_count": 19,
   "id": "6f54a3b6-de99-4c54-86e4-5f8b441ff751",
   "metadata": {},
   "outputs": [
    {
     "data": {
      "text/html": [
       "<span style=\"None\">Running query in &#x27;postgresql://jovyan@127.0.0.1:5432/imdb_lecture&#x27;</span>"
      ],
      "text/plain": [
       "Running query in 'postgresql://jovyan@127.0.0.1:5432/imdb_lecture'"
      ]
     },
     "metadata": {},
     "output_type": "display_data"
    },
    {
     "data": {
      "text/html": [
       "<span style=\"color: green\">6 rows affected.</span>"
      ],
      "text/plain": [
       "6 rows affected."
      ]
     },
     "metadata": {},
     "output_type": "display_data"
    },
    {
     "data": {
      "text/html": [
       "<table>\n",
       "    <thead>\n",
       "        <tr>\n",
       "            <th>title_id</th>\n",
       "            <th>rating</th>\n",
       "            <th>votes</th>\n",
       "            <th>primary_title</th>\n",
       "            <th>title_id_1</th>\n",
       "        </tr>\n",
       "    </thead>\n",
       "    <tbody>\n",
       "        <tr>\n",
       "            <td>tt0190332</td>\n",
       "            <td>7.9</td>\n",
       "            <td>268227</td>\n",
       "            <td>Crouching Tiger, Hidden Dragon</td>\n",
       "            <td>tt0190332</td>\n",
       "        </tr>\n",
       "        <tr>\n",
       "            <td>tt0397535</td>\n",
       "            <td>7.4</td>\n",
       "            <td>132457</td>\n",
       "            <td>Memoirs of a Geisha</td>\n",
       "            <td>tt0397535</td>\n",
       "        </tr>\n",
       "        <tr>\n",
       "            <td>tt0190332</td>\n",
       "            <td>7.8</td>\n",
       "            <td>241690</td>\n",
       "            <td>Crouching Tiger, Hidden Dragon</td>\n",
       "            <td>tt0190332</td>\n",
       "        </tr>\n",
       "        <tr>\n",
       "            <td>tt0190332</td>\n",
       "            <td>7.9</td>\n",
       "            <td>268227</td>\n",
       "            <td>Crouching Tiger, Hidden Dragon</td>\n",
       "            <td>tt0190332</td>\n",
       "        </tr>\n",
       "        <tr>\n",
       "            <td>tt0397535</td>\n",
       "            <td>7.4</td>\n",
       "            <td>132457</td>\n",
       "            <td>Memoirs of a Geisha</td>\n",
       "            <td>tt0397535</td>\n",
       "        </tr>\n",
       "        <tr>\n",
       "            <td>tt0190332</td>\n",
       "            <td>7.8</td>\n",
       "            <td>241690</td>\n",
       "            <td>Crouching Tiger, Hidden Dragon</td>\n",
       "            <td>tt0190332</td>\n",
       "        </tr>\n",
       "    </tbody>\n",
       "</table>"
      ],
      "text/plain": [
       "+-----------+--------+--------+--------------------------------+------------+\n",
       "|  title_id | rating | votes  |         primary_title          | title_id_1 |\n",
       "+-----------+--------+--------+--------------------------------+------------+\n",
       "| tt0190332 |  7.9   | 268227 | Crouching Tiger, Hidden Dragon | tt0190332  |\n",
       "| tt0397535 |  7.4   | 132457 |      Memoirs of a Geisha       | tt0397535  |\n",
       "| tt0190332 |  7.8   | 241690 | Crouching Tiger, Hidden Dragon | tt0190332  |\n",
       "| tt0190332 |  7.9   | 268227 | Crouching Tiger, Hidden Dragon | tt0190332  |\n",
       "| tt0397535 |  7.4   | 132457 |      Memoirs of a Geisha       | tt0397535  |\n",
       "| tt0190332 |  7.8   | 241690 | Crouching Tiger, Hidden Dragon | tt0190332  |\n",
       "+-----------+--------+--------+--------------------------------+------------+"
      ]
     },
     "execution_count": 19,
     "metadata": {},
     "output_type": "execute_result"
    }
   ],
   "source": [
    "%%sql\n",
    "SELECT *\n",
    "FROM ratings\n",
    "INNER JOIN yeoh_movies\n",
    "  ON ratings.title_id = \n",
    "   yeoh_movies.title_id\n",
    "WHERE rating >= 7.0;"
   ]
  },
  {
   "cell_type": "code",
   "execution_count": null,
   "id": "be96b4c2-3540-47a6-93d2-fb2fc1e4c61f",
   "metadata": {},
   "outputs": [],
   "source": [
    "%%sql\n",
    "SELECT *\n",
    "FROM ratings\n",
    "NATURAL JOIN yeoh_movies\n",
    "WHERE rating >= 7.0;"
   ]
  },
  {
   "cell_type": "code",
   "execution_count": null,
   "id": "f73d6abb-f037-4fcb-ba25-e0a106fb1af0",
   "metadata": {},
   "outputs": [],
   "source": [
    "%reload_ext sql"
   ]
  },
  {
   "cell_type": "code",
   "execution_count": null,
   "id": "acbb352f-482b-48df-ad5d-89bc73cd28a5",
   "metadata": {},
   "outputs": [],
   "source": [
    "%%sql\n",
    "SELECT DISTINCT titles.primary_title, titles.title_id\n",
    "FROM titles\n",
    "    INNER JOIN crew\n",
    "        ON crew.title_id = titles.title_id\n",
    "    INNER JOIN people\n",
    "        ON people.person_id = crew.person_id\n",
    "WHERE people.name = 'Morgan Freeman' AND titles.type = 'movie';"
   ]
  },
  {
   "cell_type": "code",
   "execution_count": null,
   "id": "9cdb29d3-b5f6-4de9-a91b-d8e6f4f7bab6",
   "metadata": {},
   "outputs": [],
   "source": [
    "%sql postgresql://jovyan@127.0.0.1:5432/imdb_lecture"
   ]
  },
  {
   "cell_type": "markdown",
   "id": "8fc1baf5-c485-48a0-87db-8373516eeeb9",
   "metadata": {},
   "source": [
    "# Tricky Queries"
   ]
  },
  {
   "cell_type": "markdown",
   "id": "e8f6e1d9-ba19-4cdc-99c7-f80d84e4ca36",
   "metadata": {},
   "source": [
    "What do these queries do?"
   ]
  },
  {
   "cell_type": "code",
   "execution_count": null,
   "id": "4e85dc5f-bfb9-4b83-a458-9fdadd12192c",
   "metadata": {},
   "outputs": [],
   "source": [
    "%%sql\n",
    "SELECT REGEXP_REPLACE(name, '(.*) (.*)', '\\1') \n",
    "         as firstname,\n",
    "       COUNT(*) as countname\n",
    "FROM people\n",
    "GROUP BY firstname\n",
    "ORDER BY countname DESC;"
   ]
  },
  {
   "cell_type": "code",
   "execution_count": null,
   "id": "2e5d5f1b-25e9-4629-bf76-a7b3f552fac8",
   "metadata": {},
   "outputs": [],
   "source": [
    "%%sql\n",
    "SELECT type, \n",
    "AVG (CASE WHEN premiered < 2000 THEN runtime_minutes              \n",
    "     ELSE NULL\n",
    "     END) AS pre2k_avg, AVG (CASE WHEN premiered >= 2000 THEN runtime_minutes             \n",
    "     ELSE NULL\n",
    "     END) AS post2k_avg \n",
    "FROM titles\n",
    "GROUP BY type;"
   ]
  }
 ],
 "metadata": {
  "kernelspec": {
   "display_name": "Python 3 (ipykernel)",
   "language": "python",
   "name": "python3"
  },
  "language_info": {
   "codemirror_mode": {
    "name": "ipython",
    "version": 3
   },
   "file_extension": ".py",
   "mimetype": "text/x-python",
   "name": "python",
   "nbconvert_exporter": "python",
   "pygments_lexer": "ipython3",
   "version": "3.11.6"
  }
 },
 "nbformat": 4,
 "nbformat_minor": 5
}
