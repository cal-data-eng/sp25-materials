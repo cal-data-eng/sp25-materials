{
 "cells": [
  {
   "cell_type": "markdown",
   "id": "31f40da4-66a9-4260-a6d6-5bc9e3e8e0f7",
   "metadata": {},
   "source": [
    "# Lecture 02: SQL Review, Extra\n",
    "\n",
    "This extra notebook contains a lot of extra SQL practice. Many variations of queries shown below are either in the slides or in course notes."
   ]
  },
  {
   "cell_type": "markdown",
   "id": "26256ed9-4c4d-403a-ab8a-132852df466d",
   "metadata": {},
   "source": [
    "## First load in the data into the database"
   ]
  },
  {
   "cell_type": "code",
   "execution_count": null,
   "id": "48e4ac3e-cbd6-48c3-9869-4aa293392f2e",
   "metadata": {},
   "outputs": [],
   "source": [
    "!unzip -u data/imdb_lecture.zip -d data/"
   ]
  },
  {
   "cell_type": "code",
   "execution_count": null,
   "id": "fb6a488c-cb8e-430f-abe3-f2bbf059a3ce",
   "metadata": {},
   "outputs": [],
   "source": [
    "!psql -h localhost -c 'DROP DATABASE IF EXISTS imdb_lecture'\n",
    "!psql -h localhost -c 'CREATE DATABASE imdb_lecture' \n",
    "!psql -h localhost -d imdb_lecture -f data/imdb_lecture.sql"
   ]
  },
  {
   "cell_type": "markdown",
   "id": "3335eec9-11c2-4e57-bc29-1259bf440fbc",
   "metadata": {},
   "source": [
    "## `jupysql` setup"
   ]
  },
  {
   "cell_type": "code",
   "execution_count": null,
   "id": "48b60403-2104-4b17-b2ab-7b342986011e",
   "metadata": {},
   "outputs": [],
   "source": [
    "%reload_ext sql"
   ]
  },
  {
   "cell_type": "code",
   "execution_count": null,
   "id": "628e4a8f-41e2-4fdb-96b3-f74cf5d77843",
   "metadata": {},
   "outputs": [],
   "source": [
    "%sql postgresql://jovyan@127.0.0.1:5432/imdb_lecture"
   ]
  },
  {
   "cell_type": "markdown",
   "id": "fe3b5f33-dbb3-43a0-a2a4-10f4a9fa0080",
   "metadata": {},
   "source": [
    "## CAST"
   ]
  },
  {
   "cell_type": "markdown",
   "id": "858145de-c2f8-40db-9ddf-e4de026683ca",
   "metadata": {},
   "source": [
    "What's wrong with the following query?"
   ]
  },
  {
   "cell_type": "code",
   "execution_count": null,
   "id": "8468e0e6-2e05-49b1-b317-eada84bdaa3d",
   "metadata": {},
   "outputs": [],
   "source": [
    "%%sql\n",
    "SELECT primary_title, type,\n",
    "     premiered AS release_year,\n",
    "     runtime_minutes,\n",
    "     runtime_minutes/60 AS \n",
    "         runtime_hours\n",
    "FROM titles\n",
    "WHERE premiered >= 2020 AND\n",
    "      premiered <= 2023;"
   ]
  },
  {
   "cell_type": "markdown",
   "id": "84f62b54-506d-4228-98f8-6bf4b6ff2568",
   "metadata": {},
   "source": [
    "## CASE statements"
   ]
  },
  {
   "cell_type": "markdown",
   "id": "236af65a-f0db-495d-b773-5cc043c5a940",
   "metadata": {},
   "source": [
    "What's wrong with the following query?"
   ]
  },
  {
   "cell_type": "code",
   "execution_count": null,
   "id": "d90257c1-bc2d-4590-ac00-8b621f76f670",
   "metadata": {},
   "outputs": [],
   "source": [
    "%%sql\n",
    "SELECT\n",
    "    person_id, name,\n",
    "    died, born,\n",
    "    died - born AS age                                                                     \n",
    "FROM people;"
   ]
  },
  {
   "cell_type": "markdown",
   "id": "7ba19f08-2013-4729-830c-eb3885fd1cad",
   "metadata": {},
   "source": [
    "## Null values and boolean expressions"
   ]
  },
  {
   "cell_type": "markdown",
   "id": "eebcf15d-8e58-4513-97ae-016a07d05f23",
   "metadata": {},
   "source": [
    "Compare/contrast the following three queries:"
   ]
  },
  {
   "cell_type": "markdown",
   "id": "f7fbde0d-b1c3-4166-bc32-072627eadaca",
   "metadata": {},
   "source": [
    "We are going to be using the `jupysql` library to connect our notebook to a PostgreSQL database server on your jupyterhub account. The next cell should do the trick; you should not see any error messages after it completes."
   ]
  },
  {
   "cell_type": "code",
   "execution_count": null,
   "id": "12fd184d-f7c6-46eb-b6c0-890ce278cf57",
   "metadata": {},
   "outputs": [],
   "source": [
    "%%sql\n",
    "SELECT born\n",
    "FROM people;"
   ]
  },
  {
   "cell_type": "code",
   "execution_count": null,
   "id": "380e48e7-8e0b-4a4e-945c-efe5a3d88729",
   "metadata": {},
   "outputs": [],
   "source": [
    "%%sql\n",
    "SELECT born\n",
    "FROM people\n",
    "WHERE born < 2023 OR\n",
    "    born IS NULL;"
   ]
  },
  {
   "cell_type": "code",
   "execution_count": null,
   "id": "c76e23e3-8561-452a-9fed-a3b7b1454b43",
   "metadata": {},
   "outputs": [],
   "source": [
    "%%sql\n",
    "SELECT born\n",
    "FROM people\n",
    "WHERE born < 2023;"
   ]
  },
  {
   "cell_type": "markdown",
   "id": "9d84d372-fa46-4d84-8759-76a96776f6eb",
   "metadata": {},
   "source": [
    "## String matching and COUNT(*)"
   ]
  },
  {
   "cell_type": "code",
   "execution_count": null,
   "id": "e81ac45f-c77c-4099-ab2a-4d5861b07de8",
   "metadata": {},
   "outputs": [],
   "source": [
    "%%sql\n",
    "SELECT *\n",
    "FROM people\n",
    "WHERE name LIKE 'Chris%';"
   ]
  },
  {
   "cell_type": "markdown",
   "id": "224a3153-fd69-4f90-9390-c5dde9699bc4",
   "metadata": {},
   "source": [
    "## Multiple relations, Aliasing"
   ]
  },
  {
   "cell_type": "code",
   "execution_count": null,
   "id": "352f2e93-4ca3-4faf-91b0-16a2a99e9e88",
   "metadata": {},
   "outputs": [],
   "source": [
    "%%sql\n",
    "SELECT *\n",
    "FROM\n",
    "    akas, titles\n",
    "WHERE\n",
    "    titles.title_id = \n",
    "        akas.title_id;"
   ]
  },
  {
   "cell_type": "code",
   "execution_count": null,
   "id": "a1dfee41-f323-42f3-9809-354e8978297a",
   "metadata": {},
   "outputs": [],
   "source": [
    "%%sql\n",
    "SELECT *\n",
    "FROM\n",
    "    akas AS A,\n",
    "    titles T\n",
    "WHERE\n",
    "    A.title_id = T.title_id;"
   ]
  },
  {
   "cell_type": "code",
   "execution_count": null,
   "id": "c1b4cf2d-f654-4c71-9bf1-b59e677a8890",
   "metadata": {},
   "outputs": [],
   "source": [
    "%%sql\n",
    "SELECT *\n",
    "FROM akas A\n",
    "  INNER JOIN titles T\n",
    "    ON A.title_id = T.title_id"
   ]
  },
  {
   "cell_type": "markdown",
   "id": "01660b0a-29de-4cd3-ad47-591c9f06e186",
   "metadata": {},
   "source": [
    "# IMDB exercise 1"
   ]
  },
  {
   "cell_type": "markdown",
   "id": "acac3322-0f60-4513-bcca-71f4b792cd35",
   "metadata": {},
   "source": [
    "What does each record represent in the below result? Why?"
   ]
  },
  {
   "cell_type": "code",
   "execution_count": null,
   "id": "f23d4e08-d389-452e-8b17-eeca5b6ae5c5",
   "metadata": {},
   "outputs": [],
   "source": [
    "%%sql\n",
    "SELECT *\n",
    "FROM titles\n",
    "\n",
    "  INNER JOIN crew \n",
    "    ON crew.title_id = \n",
    "       titles.title_id\n",
    "\n",
    "\n",
    "  INNER JOIN people\n",
    "\t ON people.person_id = \n",
    "       crew.person_id;"
   ]
  },
  {
   "cell_type": "markdown",
   "id": "50931934-4c17-49af-b479-073d007c030d",
   "metadata": {},
   "source": [
    "How do we modify the above query so that it gets the\n",
    "titles and IDs of Michelle Yeoh movies?\n"
   ]
  },
  {
   "cell_type": "markdown",
   "id": "c4efeefe-97b4-44b5-b9af-0a0bf6e9092d",
   "metadata": {},
   "source": [
    "Let's cache your query string using some fancy `jupysql` formatting:"
   ]
  },
  {
   "cell_type": "code",
   "execution_count": null,
   "id": "1f909f6c-1a44-4cea-81e8-00e49ee07d0d",
   "metadata": {},
   "outputs": [],
   "source": [
    "# write your query below\n",
    "# while it's bad style, for this to work,\n",
    "# don't end with a semicolon.\n",
    "ex1_query = \"\"\"\n",
    "-- fill in your query here --\n",
    "\"\"\""
   ]
  },
  {
   "cell_type": "code",
   "execution_count": null,
   "id": "012553ad-6f56-4a5b-b193-ffb7f53d6b07",
   "metadata": {},
   "outputs": [],
   "source": [
    "%%sql\n",
    "{{ex1_query}};"
   ]
  },
  {
   "cell_type": "markdown",
   "id": "8713106a-cd20-4e55-ba8a-3148dee36966",
   "metadata": {},
   "source": [
    "# IMDB exercise 2"
   ]
  },
  {
   "cell_type": "markdown",
   "id": "ddc52580-23f8-4afc-8865-8d88b2aca326",
   "metadata": {},
   "source": [
    "How do we write a query that gets the names of Michelle Yeoh movies\n",
    "that have a rating of at least 8.0?"
   ]
  },
  {
   "cell_type": "markdown",
   "id": "23862080-23b8-4aca-857c-0aec9b42d3f6",
   "metadata": {},
   "source": [
    "First, let's create a view called `yeoh_movies`. More in a bit."
   ]
  },
  {
   "cell_type": "code",
   "execution_count": null,
   "id": "46c8c91e-2a8d-426d-97b0-dfb468a81fc7",
   "metadata": {},
   "outputs": [],
   "source": [
    "%%sql\n",
    "CREATE VIEW yeoh_movies AS (\n",
    "  {{ex1_query}}\n",
    ");"
   ]
  },
  {
   "cell_type": "code",
   "execution_count": null,
   "id": "dd57e00b-7175-4cd0-a42b-8fad9a4eb78d",
   "metadata": {},
   "outputs": [],
   "source": [
    "%sql SELECT * FROM yeoh_movies;"
   ]
  },
  {
   "cell_type": "code",
   "execution_count": null,
   "id": "6cd26003-c947-42e3-a7ea-cb3a01ef81f8",
   "metadata": {},
   "outputs": [],
   "source": [
    "%%sql\n",
    "SELECT primary_title\n",
    "FROM ratings\n",
    "INNER JOIN yeoh_movies\n",
    "  ON ratings.title_id = yeoh_movies.title_id\n",
    "WHERE rating >= 7.0;"
   ]
  },
  {
   "cell_type": "markdown",
   "id": "4e1bb626-1d6b-4cb1-b46a-e29c21014272",
   "metadata": {},
   "source": [
    "## Quick Peek: The Natural Join"
   ]
  },
  {
   "cell_type": "code",
   "execution_count": null,
   "id": "6f54a3b6-de99-4c54-86e4-5f8b441ff751",
   "metadata": {},
   "outputs": [],
   "source": [
    "%%sql\n",
    "SELECT *\n",
    "FROM ratings\n",
    "INNER JOIN yeoh_movies\n",
    "  ON ratings.title_id = \n",
    "   yeoh_movies.title_id\n",
    "WHERE rating >= 7.0;"
   ]
  },
  {
   "cell_type": "code",
   "execution_count": null,
   "id": "be96b4c2-3540-47a6-93d2-fb2fc1e4c61f",
   "metadata": {},
   "outputs": [],
   "source": [
    "%%sql\n",
    "SELECT *\n",
    "FROM ratings\n",
    "NATURAL JOIN yeoh_movies\n",
    "WHERE rating >= 7.0;"
   ]
  },
  {
   "cell_type": "code",
   "execution_count": null,
   "id": "f73d6abb-f037-4fcb-ba25-e0a106fb1af0",
   "metadata": {},
   "outputs": [],
   "source": [
    "%reload_ext sql"
   ]
  },
  {
   "cell_type": "code",
   "execution_count": null,
   "id": "acbb352f-482b-48df-ad5d-89bc73cd28a5",
   "metadata": {},
   "outputs": [],
   "source": [
    "%%sql\n",
    "SELECT DISTINCT titles.primary_title, titles.title_id\n",
    "FROM titles\n",
    "    INNER JOIN crew\n",
    "        ON crew.title_id = titles.title_id\n",
    "    INNER JOIN people\n",
    "        ON people.person_id = crew.person_id\n",
    "WHERE people.name = 'Morgan Freeman' AND titles.type = 'movie';"
   ]
  },
  {
   "cell_type": "code",
   "execution_count": null,
   "id": "9cdb29d3-b5f6-4de9-a91b-d8e6f4f7bab6",
   "metadata": {},
   "outputs": [],
   "source": [
    "%sql postgresql://jovyan@127.0.0.1:5432/imdb_lecture"
   ]
  },
  {
   "cell_type": "markdown",
   "id": "8fc1baf5-c485-48a0-87db-8373516eeeb9",
   "metadata": {},
   "source": [
    "# Tricky Queries"
   ]
  },
  {
   "cell_type": "markdown",
   "id": "e8f6e1d9-ba19-4cdc-99c7-f80d84e4ca36",
   "metadata": {},
   "source": [
    "What do these queries do?"
   ]
  },
  {
   "cell_type": "code",
   "execution_count": null,
   "id": "4e85dc5f-bfb9-4b83-a458-9fdadd12192c",
   "metadata": {},
   "outputs": [],
   "source": [
    "%%sql\n",
    "SELECT REGEXP_REPLACE(name, '(.*) (.*)', '\\1') \n",
    "         as firstname,\n",
    "       COUNT(*) as countname\n",
    "FROM people\n",
    "GROUP BY firstname\n",
    "ORDER BY countname DESC;"
   ]
  },
  {
   "cell_type": "code",
   "execution_count": null,
   "id": "2e5d5f1b-25e9-4629-bf76-a7b3f552fac8",
   "metadata": {},
   "outputs": [],
   "source": [
    "%%sql\n",
    "SELECT type, \n",
    "AVG (CASE WHEN premiered < 2000 THEN runtime_minutes              \n",
    "     ELSE NULL\n",
    "     END) AS pre2k_avg, AVG (CASE WHEN premiered >= 2000 THEN runtime_minutes             \n",
    "     ELSE NULL\n",
    "     END) AS post2k_avg \n",
    "FROM titles\n",
    "GROUP BY type;"
   ]
  }
 ],
 "metadata": {
  "kernelspec": {
   "display_name": "Python 3 (ipykernel)",
   "language": "python",
   "name": "python3"
  },
  "language_info": {
   "codemirror_mode": {
    "name": "ipython",
    "version": 3
   },
   "file_extension": ".py",
   "mimetype": "text/x-python",
   "name": "python",
   "nbconvert_exporter": "python",
   "pygments_lexer": "ipython3",
   "version": "3.11.11"
  }
 },
 "nbformat": 4,
 "nbformat_minor": 5
}
