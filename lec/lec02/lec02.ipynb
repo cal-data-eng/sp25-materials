{
 "cells": [
  {
   "cell_type": "markdown",
   "id": "31f40da4-66a9-4260-a6d6-5bc9e3e8e0f7",
   "metadata": {},
   "source": [
    "# Lecture 02: SQL Review"
   ]
  },
  {
   "cell_type": "markdown",
   "id": "26256ed9-4c4d-403a-ab8a-132852df466d",
   "metadata": {},
   "source": [
    "## First load in the data into the database"
   ]
  },
  {
   "cell_type": "code",
   "execution_count": 2,
   "id": "48e4ac3e-cbd6-48c3-9869-4aa293392f2e",
   "metadata": {},
   "outputs": [
    {
     "name": "stdout",
     "output_type": "stream",
     "text": [
      "Archive:  data/imdb_lecture.zip\n"
     ]
    }
   ],
   "source": [
    "!unzip -u data/imdb_lecture.zip -d data/"
   ]
  },
  {
   "cell_type": "code",
   "execution_count": 3,
   "id": "fb6a488c-cb8e-430f-abe3-f2bbf059a3ce",
   "metadata": {},
   "outputs": [
    {
     "name": "stdout",
     "output_type": "stream",
     "text": [
      "DROP DATABASE\n",
      "CREATE DATABASE\n",
      "SET\n",
      "SET\n",
      "SET\n",
      "SET\n",
      "SET\n",
      " set_config \n",
      "------------\n",
      " \n",
      "(1 row)\n",
      "\n",
      "SET\n",
      "SET\n",
      "SET\n",
      "SET\n",
      "SET\n",
      "SET\n",
      "CREATE TABLE\n",
      "ALTER TABLE\n",
      "CREATE TABLE\n",
      "ALTER TABLE\n",
      "CREATE TABLE\n",
      "ALTER TABLE\n",
      "CREATE TABLE\n",
      "ALTER TABLE\n",
      "CREATE TABLE\n",
      "ALTER TABLE\n",
      "CREATE TABLE\n",
      "ALTER TABLE\n",
      "COPY 8405\n",
      "COPY 4043\n",
      "COPY 4923\n",
      "COPY 1223\n",
      "COPY 820\n",
      "COPY 2420\n"
     ]
    }
   ],
   "source": [
    "!psql -h localhost -c 'DROP DATABASE IF EXISTS imdb_lecture'\n",
    "!psql -h localhost -c 'CREATE DATABASE imdb_lecture' \n",
    "!psql -h localhost -d imdb_lecture -f data/imdb_lecture.sql"
   ]
  },
  {
   "cell_type": "markdown",
   "id": "3b4d9681-aec9-465d-a2e6-844d5a81a1f7",
   "metadata": {},
   "source": [
    "# Using `psql` in Terminal\n",
    "\n",
    "`psql` is a command-line PostgreSQL interactive client.\n",
    "\n",
    "I find it useful to keep the Terminal up while I'm working on notebooks for the following:\n",
    "* **meta-commands**: `psql` commands to query information (generally metadata) about the databse\n",
    "* **writing interactive SQL queries**: `psql` shows me a few rows at a time, and I can quit whenever. Avoids Jupyter notebooks running out of space if the query result relation is huge."
   ]
  },
  {
   "cell_type": "markdown",
   "id": "d38b1d1d-32c7-49a4-ae2e-11cf9e00ba7a",
   "metadata": {},
   "source": [
    "To launch `psql` and connect to a specific database, say, the `imdb_lecture` database we just created on `localhost`, open up a Terminal and type in:\n",
    "\n",
    "```\n",
    "psql postgresql://127.0.0.1:5432/imdb_lecture\n",
    "```\n",
    "\n",
    "Note the postgres server is on localhost (i.e., IP address `127.0.0.0.1`) and network port `5432`."
   ]
  },
  {
   "cell_type": "markdown",
   "id": "77dbba24-c5f7-4189-93b8-b5a32cefeda9",
   "metadata": {},
   "source": [
    "Troubleshooting:\n",
    "* You do not have to be in a particular directory to launch the `psql` client!\n",
    "* If you cannot connect or you do not see any relations with `\\d`, make sure you have created/loaded in the database with the `!psql` commands in the previous section.\n",
    "* If your interactive query is not executing, check to see if you have ended with a semicolon (necessary and also generally good style!)."
   ]
  },
  {
   "cell_type": "markdown",
   "id": "1e839eb6-d4ec-4734-a4dc-e334ae7efe9f",
   "metadata": {},
   "source": [
    "Quick reference:\n",
    "* `\\l` list all databases available on this server\n",
    "* `\\d` list all relations in this database\n",
    "* `\\d tablename` list schema of tablename relation\n",
    "* `\\q` quit psql\n",
    "* `\\?` help\n",
    "* `<ctrl>-c` cancel\n",
    "* `<ctrl>-a`, `<ctrl>-e` jump to the front and back of a line, respectively\n",
    "* `<ctrl>-<left>`, `<ctrl>-<right`> jump one word previous and forward, respectively\n",
    "* (when in query result buffer) `<space>` to advance a page, `q` to quit and exit out"
   ]
  },
  {
   "cell_type": "markdown",
   "id": "73a47f79-98da-4d00-a2fc-d557709f6043",
   "metadata": {},
   "source": [
    "# Using `jupysql` in Jupyter Notebook"
   ]
  },
  {
   "cell_type": "markdown",
   "id": "a5faf39b-85c3-4807-ad7e-126e2a22e2dd",
   "metadata": {},
   "source": [
    "We are going to be using the `jupysql` library to connect our notebook to a PostgreSQL database server on your jupyterhub account. The next cell should do the trick; you should not see any error messages after it completes."
   ]
  },
  {
   "cell_type": "code",
   "execution_count": 4,
   "id": "48b60403-2104-4b17-b2ab-7b342986011e",
   "metadata": {},
   "outputs": [],
   "source": [
    "%reload_ext sql"
   ]
  },
  {
   "cell_type": "markdown",
   "id": "0cdddd76-6b75-45c6-94b6-24f4013f2244",
   "metadata": {},
   "source": [
    "Note we did not do `import jupysql` (this will throw an error). You should always load `jupysql` as the `sql` cell magic, as shown above.\n",
    "\n",
    "<br/>\n",
    "\n",
    "`jupysql` helps us create a client connection directly from our Notebook. However, just like before, we first need to connect to our database before we start issuing any queries:"
   ]
  },
  {
   "cell_type": "code",
   "execution_count": 5,
   "id": "628e4a8f-41e2-4fdb-96b3-f74cf5d77843",
   "metadata": {},
   "outputs": [
    {
     "data": {
      "text/html": [
       "<span style=\"None\">Connecting to &#x27;postgresql://jovyan@127.0.0.1:5432/imdb_lecture&#x27;</span>"
      ],
      "text/plain": [
       "Connecting to 'postgresql://jovyan@127.0.0.1:5432/imdb_lecture'"
      ]
     },
     "metadata": {},
     "output_type": "display_data"
    }
   ],
   "source": [
    "%sql postgresql://jovyan@127.0.0.1:5432/imdb_lecture"
   ]
  },
  {
   "cell_type": "markdown",
   "id": "7986afed-5623-4557-991e-bd7275080c1d",
   "metadata": {},
   "source": [
    "Example test query:"
   ]
  },
  {
   "cell_type": "code",
   "execution_count": 8,
   "id": "a9e16e7b-25ab-49d5-af9a-17fddd452aa0",
   "metadata": {},
   "outputs": [
    {
     "data": {
      "text/html": [
       "<span style=\"None\">Running query in &#x27;postgresql://jovyan@127.0.0.1:5432/imdb_lecture&#x27;</span>"
      ],
      "text/plain": [
       "Running query in 'postgresql://jovyan@127.0.0.1:5432/imdb_lecture'"
      ]
     },
     "metadata": {},
     "output_type": "display_data"
    },
    {
     "data": {
      "text/html": [
       "<span style=\"color: green\">10 rows affected.</span>"
      ],
      "text/plain": [
       "10 rows affected."
      ]
     },
     "metadata": {},
     "output_type": "display_data"
    },
    {
     "data": {
      "text/html": [
       "<table>\n",
       "    <thead>\n",
       "        <tr>\n",
       "            <th>person_id</th>\n",
       "            <th>name</th>\n",
       "            <th>born</th>\n",
       "            <th>died</th>\n",
       "        </tr>\n",
       "    </thead>\n",
       "    <tbody>\n",
       "        <tr>\n",
       "            <td>nm0384214</td>\n",
       "            <td>Dwayne Hill</td>\n",
       "            <td>None</td>\n",
       "            <td>None</td>\n",
       "        </tr>\n",
       "        <tr>\n",
       "            <td>nm0362443</td>\n",
       "            <td>Dave Hardman</td>\n",
       "            <td>1960</td>\n",
       "            <td>None</td>\n",
       "        </tr>\n",
       "        <tr>\n",
       "            <td>nm1560888</td>\n",
       "            <td>Rich Pryce-Jones</td>\n",
       "            <td>None</td>\n",
       "            <td>None</td>\n",
       "        </tr>\n",
       "        <tr>\n",
       "            <td>nm0006669</td>\n",
       "            <td>William Sadler</td>\n",
       "            <td>1950</td>\n",
       "            <td>None</td>\n",
       "        </tr>\n",
       "        <tr>\n",
       "            <td>nm1373094</td>\n",
       "            <td>Giada De Laurentiis</td>\n",
       "            <td>1970</td>\n",
       "            <td>None</td>\n",
       "        </tr>\n",
       "        <tr>\n",
       "            <td>nm7316782</td>\n",
       "            <td>Janine Hartmann</td>\n",
       "            <td>None</td>\n",
       "            <td>None</td>\n",
       "        </tr>\n",
       "        <tr>\n",
       "            <td>nm8671663</td>\n",
       "            <td>Tereza Taliánová</td>\n",
       "            <td>2005</td>\n",
       "            <td>None</td>\n",
       "        </tr>\n",
       "        <tr>\n",
       "            <td>nm10480297</td>\n",
       "            <td>Chris Heywood</td>\n",
       "            <td>None</td>\n",
       "            <td>None</td>\n",
       "        </tr>\n",
       "        <tr>\n",
       "            <td>nm10803545</td>\n",
       "            <td>Chengao Zhou</td>\n",
       "            <td>None</td>\n",
       "            <td>None</td>\n",
       "        </tr>\n",
       "        <tr>\n",
       "            <td>nm9849414</td>\n",
       "            <td>Mark Langley</td>\n",
       "            <td>None</td>\n",
       "            <td>None</td>\n",
       "        </tr>\n",
       "    </tbody>\n",
       "</table>\n",
       "<span style=\"font-style:italic;text-align:center;\">Truncated to <a href=\"https://jupysql.ploomber.io/en/latest/api/configuration.html#displaylimit\">displaylimit</a> of 10.</span>"
      ],
      "text/plain": [
       "+------------+---------------------+------+------+\n",
       "| person_id  |         name        | born | died |\n",
       "+------------+---------------------+------+------+\n",
       "| nm0384214  |     Dwayne Hill     | None | None |\n",
       "| nm0362443  |     Dave Hardman    | 1960 | None |\n",
       "| nm1560888  |   Rich Pryce-Jones  | None | None |\n",
       "| nm0006669  |    William Sadler   | 1950 | None |\n",
       "| nm1373094  | Giada De Laurentiis | 1970 | None |\n",
       "| nm7316782  |   Janine Hartmann   | None | None |\n",
       "| nm8671663  |   Tereza Taliánová  | 2005 | None |\n",
       "| nm10480297 |    Chris Heywood    | None | None |\n",
       "| nm10803545 |     Chengao Zhou    | None | None |\n",
       "| nm9849414  |     Mark Langley    | None | None |\n",
       "+------------+---------------------+------+------+\n",
       "Truncated to displaylimit of 10."
      ]
     },
     "execution_count": 8,
     "metadata": {},
     "output_type": "execute_result"
    }
   ],
   "source": [
    "%%sql\n",
    "SELECT *\n",
    "FROM people\n",
    "LIMIT 10;"
   ]
  },
  {
   "cell_type": "markdown",
   "id": "013c9d33-f8c3-4ae1-853c-a3d670530f38",
   "metadata": {},
   "source": [
    "<br/>\n",
    "\n",
    "---\n",
    "\n",
    "See the slides for most of the queries, which we executed in the interactive `psql` client."
   ]
  },
  {
   "cell_type": "code",
   "execution_count": 9,
   "id": "b70e65c6-e1d6-46b8-9e79-3e01799b3a9d",
   "metadata": {},
   "outputs": [
    {
     "data": {
      "text/html": [
       "<table>\n",
       "    <thead>\n",
       "        <tr>\n",
       "            <th>Name</th>\n",
       "        </tr>\n",
       "    </thead>\n",
       "    <tbody>\n",
       "        <tr>\n",
       "            <td>akas</td>\n",
       "        </tr>\n",
       "        <tr>\n",
       "            <td>crew</td>\n",
       "        </tr>\n",
       "        <tr>\n",
       "            <td>episodes</td>\n",
       "        </tr>\n",
       "        <tr>\n",
       "            <td>people</td>\n",
       "        </tr>\n",
       "        <tr>\n",
       "            <td>ratings</td>\n",
       "        </tr>\n",
       "        <tr>\n",
       "            <td>titles</td>\n",
       "        </tr>\n",
       "    </tbody>\n",
       "</table>"
      ],
      "text/plain": [
       "+----------+\n",
       "|   Name   |\n",
       "+----------+\n",
       "|   akas   |\n",
       "|   crew   |\n",
       "| episodes |\n",
       "|  people  |\n",
       "| ratings  |\n",
       "|  titles  |\n",
       "+----------+"
      ]
     },
     "execution_count": 9,
     "metadata": {},
     "output_type": "execute_result"
    }
   ],
   "source": [
    "%sqlcmd tables"
   ]
  },
  {
   "cell_type": "code",
   "execution_count": 10,
   "id": "59126207-e480-4850-8bbc-376ac657d827",
   "metadata": {},
   "outputs": [
    {
     "data": {
      "text/html": [
       "<table>\n",
       "    <thead>\n",
       "        <tr>\n",
       "            <th>name</th>\n",
       "            <th>type</th>\n",
       "            <th>nullable</th>\n",
       "            <th>default</th>\n",
       "            <th>autoincrement</th>\n",
       "            <th>comment</th>\n",
       "        </tr>\n",
       "    </thead>\n",
       "    <tbody>\n",
       "        <tr>\n",
       "            <td>title_id</td>\n",
       "            <td>TEXT</td>\n",
       "            <td>True</td>\n",
       "            <td>None</td>\n",
       "            <td>False</td>\n",
       "            <td>None</td>\n",
       "        </tr>\n",
       "        <tr>\n",
       "            <td>title</td>\n",
       "            <td>TEXT</td>\n",
       "            <td>True</td>\n",
       "            <td>None</td>\n",
       "            <td>False</td>\n",
       "            <td>None</td>\n",
       "        </tr>\n",
       "        <tr>\n",
       "            <td>region</td>\n",
       "            <td>TEXT</td>\n",
       "            <td>True</td>\n",
       "            <td>None</td>\n",
       "            <td>False</td>\n",
       "            <td>None</td>\n",
       "        </tr>\n",
       "        <tr>\n",
       "            <td>language</td>\n",
       "            <td>TEXT</td>\n",
       "            <td>True</td>\n",
       "            <td>None</td>\n",
       "            <td>False</td>\n",
       "            <td>None</td>\n",
       "        </tr>\n",
       "        <tr>\n",
       "            <td>types</td>\n",
       "            <td>TEXT</td>\n",
       "            <td>True</td>\n",
       "            <td>None</td>\n",
       "            <td>False</td>\n",
       "            <td>None</td>\n",
       "        </tr>\n",
       "        <tr>\n",
       "            <td>attributes</td>\n",
       "            <td>TEXT</td>\n",
       "            <td>True</td>\n",
       "            <td>None</td>\n",
       "            <td>False</td>\n",
       "            <td>None</td>\n",
       "        </tr>\n",
       "        <tr>\n",
       "            <td>is_original_title</td>\n",
       "            <td>BIGINT</td>\n",
       "            <td>True</td>\n",
       "            <td>None</td>\n",
       "            <td>False</td>\n",
       "            <td>None</td>\n",
       "        </tr>\n",
       "    </tbody>\n",
       "</table>"
      ],
      "text/plain": [
       "+-------------------+--------+----------+---------+---------------+---------+\n",
       "|        name       |  type  | nullable | default | autoincrement | comment |\n",
       "+-------------------+--------+----------+---------+---------------+---------+\n",
       "|      title_id     |  TEXT  |   True   |   None  |     False     |   None  |\n",
       "|       title       |  TEXT  |   True   |   None  |     False     |   None  |\n",
       "|       region      |  TEXT  |   True   |   None  |     False     |   None  |\n",
       "|      language     |  TEXT  |   True   |   None  |     False     |   None  |\n",
       "|       types       |  TEXT  |   True   |   None  |     False     |   None  |\n",
       "|     attributes    |  TEXT  |   True   |   None  |     False     |   None  |\n",
       "| is_original_title | BIGINT |   True   |   None  |     False     |   None  |\n",
       "+-------------------+--------+----------+---------+---------------+---------+"
      ]
     },
     "execution_count": 10,
     "metadata": {},
     "output_type": "execute_result"
    }
   ],
   "source": [
    "%sqlcmd columns -t akas"
   ]
  }
 ],
 "metadata": {
  "kernelspec": {
   "display_name": "Python 3 (ipykernel)",
   "language": "python",
   "name": "python3"
  },
  "language_info": {
   "codemirror_mode": {
    "name": "ipython",
    "version": 3
   },
   "file_extension": ".py",
   "mimetype": "text/x-python",
   "name": "python",
   "nbconvert_exporter": "python",
   "pygments_lexer": "ipython3",
   "version": "3.11.11"
  }
 },
 "nbformat": 4,
 "nbformat_minor": 5
}
