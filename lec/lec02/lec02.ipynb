{
 "cells": [
  {
   "cell_type": "markdown",
   "id": "31f40da4-66a9-4260-a6d6-5bc9e3e8e0f7",
   "metadata": {},
   "source": [
    "# Lecture 02: SQL Review"
   ]
  },
  {
   "cell_type": "markdown",
   "id": "26256ed9-4c4d-403a-ab8a-132852df466d",
   "metadata": {},
   "source": [
    "## First load in the data into the database"
   ]
  },
  {
   "cell_type": "code",
   "execution_count": 1,
   "id": "48e4ac3e-cbd6-48c3-9869-4aa293392f2e",
   "metadata": {},
   "outputs": [
    {
     "name": "stdout",
     "output_type": "stream",
     "text": [
      "Archive:  data/imdb_lecture.zip\n"
     ]
    }
   ],
   "source": [
    "!unzip -u data/imdb_lecture.zip -d data/"
   ]
  },
  {
   "cell_type": "code",
   "execution_count": 2,
   "id": "fb6a488c-cb8e-430f-abe3-f2bbf059a3ce",
   "metadata": {},
   "outputs": [
    {
     "name": "stdout",
     "output_type": "stream",
     "text": [
      "NOTICE:  database \"imdb_lecture\" does not exist, skipping\n",
      "DROP DATABASE\n",
      "CREATE DATABASE\n",
      "SET\n",
      "SET\n",
      "SET\n",
      "SET\n",
      "SET\n",
      " set_config \n",
      "------------\n",
      " \n",
      "(1 row)\n",
      "\n",
      "SET\n",
      "SET\n",
      "SET\n",
      "SET\n",
      "SET\n",
      "SET\n",
      "CREATE TABLE\n",
      "ALTER TABLE\n",
      "CREATE TABLE\n",
      "ALTER TABLE\n",
      "CREATE TABLE\n",
      "ALTER TABLE\n",
      "CREATE TABLE\n",
      "ALTER TABLE\n",
      "CREATE TABLE\n",
      "ALTER TABLE\n",
      "CREATE TABLE\n",
      "ALTER TABLE\n",
      "COPY 8405\n",
      "COPY 4043\n",
      "COPY 4923\n",
      "COPY 1223\n",
      "COPY 820\n",
      "COPY 2420\n"
     ]
    }
   ],
   "source": [
    "!psql -h localhost -c 'DROP DATABASE IF EXISTS imdb_lecture'\n",
    "!psql -h localhost -c 'CREATE DATABASE imdb_lecture' \n",
    "!psql -h localhost -d imdb_lecture -f data/imdb_lecture.sql"
   ]
  },
  {
   "cell_type": "markdown",
   "id": "3b4d9681-aec9-465d-a2e6-844d5a81a1f7",
   "metadata": {},
   "source": [
    "# Using `psql` in Terminal\n",
    "\n",
    "`psql` is a command-line PostgreSQL interactive client.\n",
    "\n",
    "I find it useful to keep the Terminal up while I'm working on notebooks for the following:\n",
    "* **meta-commands**: `psql` commands to query information (generally metadata) about the databse\n",
    "* **writing interactive SQL queries**: `psql` shows me a few rows at a time, and I can quit whenever. Avoids Jupyter notebooks running out of space if the query result relation is huge."
   ]
  },
  {
   "cell_type": "markdown",
   "id": "d38b1d1d-32c7-49a4-ae2e-11cf9e00ba7a",
   "metadata": {},
   "source": [
    "To launch `psql` and connect to a specific database, say, the `imdb_lecture` database we just created on `localhost`, open up a Terminal and type in:\n",
    "\n",
    "```\n",
    "psql postgresql://127.0.0.1:5432/imdb_lecture\n",
    "```\n",
    "\n",
    "Note the postgres server is on localhost (i.e., IP address `127.0.0.0.1`) and network port `5432`."
   ]
  },
  {
   "cell_type": "markdown",
   "id": "77dbba24-c5f7-4189-93b8-b5a32cefeda9",
   "metadata": {},
   "source": [
    "Troubleshooting:\n",
    "* You do not have to be in a particular directory to launch the `psql` client!\n",
    "* If you cannot connect or you do not see any relations with `\\d`, make sure you have created/loaded in the database with the `!psql` commands in the previous section.\n",
    "* If your interactive query is not executing, check to see if you have ended with a semicolon (necessary and also generally good style!)."
   ]
  },
  {
   "cell_type": "markdown",
   "id": "1e839eb6-d4ec-4734-a4dc-e334ae7efe9f",
   "metadata": {},
   "source": [
    "Quick reference:\n",
    "* `\\l` list all databases available on this server\n",
    "* `\\d` list all relations in this database\n",
    "* `\\d tablename` list schema of tablename relation\n",
    "* `\\q` quit psql\n",
    "* `\\?` help\n",
    "* `<ctrl>-c` cancel\n",
    "* `<ctrl>-a`, `<ctrl>-e` jump to the front and back of a line, respectively\n",
    "* `<ctrl>-<left>`, `<ctrl>-<right`> jump one word previous and forward, respectively\n",
    "* (when in query result buffer) `<space>` to advance a page, `q` to quit and exit out"
   ]
  },
  {
   "cell_type": "markdown",
   "id": "73a47f79-98da-4d00-a2fc-d557709f6043",
   "metadata": {},
   "source": [
    "# Using `jupysql` in Jupyter Notebook"
   ]
  },
  {
   "cell_type": "markdown",
   "id": "a5faf39b-85c3-4807-ad7e-126e2a22e2dd",
   "metadata": {},
   "source": [
    "We are going to be using the `jupysql` library to connect our notebook to a PostgreSQL database server on your jupyterhub account. The next cell should do the trick; you should not see any error messages after it completes."
   ]
  },
  {
   "cell_type": "code",
   "execution_count": null,
   "id": "48b60403-2104-4b17-b2ab-7b342986011e",
   "metadata": {},
   "outputs": [],
   "source": [
    "%reload_ext sql"
   ]
  },
  {
   "cell_type": "markdown",
   "id": "0cdddd76-6b75-45c6-94b6-24f4013f2244",
   "metadata": {},
   "source": [
    "Note we did not do `import jupysql` (this will throw an error). You should always load `jupysql` as the `sql` cell magic, as shown above.\n",
    "\n",
    "<br/>\n",
    "\n",
    "`jupysql` helps us create a client connection directly from our Notebook. However, just like before, we first need to connect to our database before we start issuing any queries:"
   ]
  },
  {
   "cell_type": "code",
   "execution_count": null,
   "id": "628e4a8f-41e2-4fdb-96b3-f74cf5d77843",
   "metadata": {},
   "outputs": [],
   "source": [
    "%sql postgresql://jovyan@127.0.0.1:5432/imdb_lecture"
   ]
  },
  {
   "cell_type": "markdown",
   "id": "7986afed-5623-4557-991e-bd7275080c1d",
   "metadata": {},
   "source": [
    "Example test query:"
   ]
  },
  {
   "cell_type": "code",
   "execution_count": null,
   "id": "a9e16e7b-25ab-49d5-af9a-17fddd452aa0",
   "metadata": {},
   "outputs": [],
   "source": [
    "%%sql\n",
    "SELECT *\n",
    "FROM people\n",
    "WHERE name = 'Michelle Yeoh';"
   ]
  },
  {
   "cell_type": "markdown",
   "id": "013c9d33-f8c3-4ae1-853c-a3d670530f38",
   "metadata": {},
   "source": [
    "<br/>\n",
    "\n",
    "---\n",
    "\n",
    "See the slides for most of the queries, which we executed in the interactive `psql` client."
   ]
  }
 ],
 "metadata": {
  "kernelspec": {
   "display_name": "Python 3 (ipykernel)",
   "language": "python",
   "name": "python3"
  },
  "language_info": {
   "codemirror_mode": {
    "name": "ipython",
    "version": 3
   },
   "file_extension": ".py",
   "mimetype": "text/x-python",
   "name": "python",
   "nbconvert_exporter": "python",
   "pygments_lexer": "ipython3",
   "version": "3.11.6"
  }
 },
 "nbformat": 4,
 "nbformat_minor": 5
}
